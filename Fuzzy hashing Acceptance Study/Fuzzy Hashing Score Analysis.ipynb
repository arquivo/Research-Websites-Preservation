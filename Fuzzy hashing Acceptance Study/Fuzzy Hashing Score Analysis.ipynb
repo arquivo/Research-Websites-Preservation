{
 "metadata": {
  "name": "",
  "signature": "sha256:3f07a876ebaa2cfd5506b709292387d50284b4cffe19989a08c37e8aead2a7ec"
 },
 "nbformat": 3,
 "nbformat_minor": 0,
 "worksheets": [
  {
   "cells": [
    {
     "cell_type": "markdown",
     "metadata": {},
     "source": [
      "# Fuzzy Hashing Score Analysis"
     ]
    },
    {
     "cell_type": "code",
     "collapsed": false,
     "input": [
      "import numpy as np\n",
      "import pandas as pd\n",
      "import matplotlib.pyplot as plt\n",
      "%matplotlib inline"
     ],
     "language": "python",
     "metadata": {},
     "outputs": [],
     "prompt_number": 1
    },
    {
     "cell_type": "code",
     "collapsed": false,
     "input": [
      "df = pd.read_csv('fuzzy_hashing_analysis.csv')"
     ],
     "language": "python",
     "metadata": {},
     "outputs": [],
     "prompt_number": 2
    },
    {
     "cell_type": "code",
     "collapsed": false,
     "input": [
      "#df[df['SameResource'] == 1]['MatchScore1'].hist()\n",
      "#df[df['SameSite'] == 1]['MatchScore1'].hist()\n",
      "#plt.hist(df[(df['SameResource'] == 1) & (df['MatchScore1'] < 90)]['MatchScore1'].values, 50)\n",
      "#plt.hist(df[(df['SameSite'] == 1) & (df['MatchScore1'] < 90)]['MatchScore1'].values, 50)\n",
      "#df[df['SameResource'] == 1]['MatchScore1'].describe()"
     ],
     "language": "python",
     "metadata": {},
     "outputs": [],
     "prompt_number": 4
    },
    {
     "cell_type": "code",
     "collapsed": false,
     "input": [
      "count_values = []\n",
      "for i in np.arange(10,110,10):\n",
      "    count_values.append(df[(df['SameResource'] == 1) & (df['MatchScore1'] >= i)]['MatchScore1'].count() / 1370.0 * 100)\n",
      "\n",
      "\n",
      "#df[(df['SameResource'] == 1) & (df['MatchScore1'] < 90)].count()"
     ],
     "language": "python",
     "metadata": {},
     "outputs": [],
     "prompt_number": 3
    },
    {
     "cell_type": "code",
     "collapsed": false,
     "input": [
      "len(count_values)"
     ],
     "language": "python",
     "metadata": {},
     "outputs": [
      {
       "metadata": {},
       "output_type": "pyout",
       "prompt_number": 7,
       "text": [
        "10"
       ]
      }
     ],
     "prompt_number": 7
    },
    {
     "cell_type": "code",
     "collapsed": false,
     "input": [
      "plt.figure(num=None,dpi=1000, facecolor='w', edgecolor='k')\n",
      "plt.plot(np.arange(10,110,10), count_values,marker='o')\n",
      "plt.plot(np.arange(80,80,10),)\n",
      "\n",
      "plt.axis([10, 100, 0, 100])\n",
      "plt.grid()\n",
      "plt.xlabel(\"Similarity Score Variance(%)\")\n",
      "plt.ylabel(\"Percentange of similar documents retrieved(%)\")\n",
      "#plt.savefig('fuzzyscoregraph.pdf', format='pdf', dpi=1200, bbox_inches='tight')"
     ],
     "language": "python",
     "metadata": {},
     "outputs": [
      {
       "metadata": {},
       "output_type": "display_data",
       "png": "[encoded data removed]",
       "text": [
        "<matplotlib.figure.Figure at 0x7fd448eac450>"
       ]
      }
     ],
     "prompt_number": 4
    },
    {
     "cell_type": "code",
     "collapsed": false,
     "input": [
      "df = df[(df['MatchScore1'] == 0)]['foundProjectUrl1']"
     ],
     "language": "python",
     "metadata": {},
     "outputs": [],
     "prompt_number": 52
    },
    {
     "cell_type": "code",
     "collapsed": false,
     "input": [
      "df"
     ],
     "language": "python",
     "metadata": {},
     "outputs": [
      {
       "metadata": {},
       "output_type": "pyout",
       "prompt_number": 53,
       "text": [
        "3     http://ec.europa.eu/research/health/medical-re...\n",
        "5     http://www.helmholtz.de/forschung/helmholtz_in...\n",
        "9     http://www.agropolis.org/project-management/eu...\n",
        "10          https://www.linkedin.com/groups?gid=4795510\n",
        "12    http://www.recapt.org/images/PDF/RECAPT%20arti...\n",
        "16        https://www.iit.demokritos.gr/project/acrimas\n",
        "18    http://www.2020-horizon.com/HI-FRE-Efficient-m...\n",
        "25    http://noshan.eu/docs/noshan5.pdf?phpMyAdmin=p...\n",
        "26            http://www.nanovalid.eu/index.php/project\n",
        "28       http://www.sams.ac.uk/stuart-cunningham/naclim\n",
        "29           http://www.copernicus.eu/projects/imagines\n",
        "31    https://wzb.eu/en/research/completed-research-...\n",
        "32            http://www.case-research.eu/en/node/52580\n",
        "37    http://www.polsoz.fu-berlin.de/en/polwiss/fors...\n",
        "38    http://www.researchgate.net/profile/Lluis_Flaq...\n",
        "...\n",
        "1324    http://www.2020-horizon.com/SNIFFLES-Artificia...\n",
        "1326    http://www.2020-horizon.com/SEROSCIENCE-LTD-p2...\n",
        "1327    http://www.ipa.fraunhofer.de/fileadmin/user_up...\n",
        "1330    http://www2.mpip-mainz.mpg.de/eu-projekte/bact...\n",
        "1334    http://www.birmingham.ac.uk/research/activity/...\n",
        "1338    http://transport-research.info/project/integra...\n",
        "1339    http://www.uncoss-project.org/scripts/home/pub...\n",
        "1344    http://www.2020-horizon.com/OPTATIO-OPtimizing...\n",
        "1346    http://www.drugsford.eu/fileadmin/user_upload/...\n",
        "1347    http://ec.europa.eu/research/health/medical-re...\n",
        "1351         http://umr-iate.cirad.fr/projets/agrobiofilm\n",
        "1352           http://grtc.ucsd.edu/curr_lit_fa11/CL9.pdf\n",
        "1361      https://clinicaltrials.gov/ct2/show/NCT01035190\n",
        "1363    http://www.xnoise.eu/about-x-noise/projects/ge...\n",
        "1367    http://www.unife.it/ricerca/finanziamenti-gest...\n",
        "Name: foundProjectUrl1, Length: 585, dtype: object"
       ]
      }
     ],
     "prompt_number": 53
    },
    {
     "cell_type": "code",
     "collapsed": false,
     "input": [],
     "language": "python",
     "metadata": {},
     "outputs": []
    }
   ],
   "metadata": {}
  }
 ]
}