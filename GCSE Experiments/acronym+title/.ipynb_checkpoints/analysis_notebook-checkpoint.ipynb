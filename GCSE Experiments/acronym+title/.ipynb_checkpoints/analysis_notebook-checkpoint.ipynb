{
 "metadata": {
  "name": "",
  "signature": "sha256:cf0a25409f276dafccfb8444f87063dbeaca1043c3efd64dc1cd1609a51e528a"
 },
 "nbformat": 3,
 "nbformat_minor": 0,
 "worksheets": [
  {
   "cells": [
    {
     "cell_type": "markdown",
     "metadata": {},
     "source": [
      "# Google Custom Search: \n",
      "## Acronym + Title - cordis website"
     ]
    },
    {
     "cell_type": "code",
     "collapsed": false,
     "input": [
      "import numpy as np\n",
      "import matplotlib.pyplot as plt\n",
      "import pandas as pd\n",
      "import sys, os, re\n",
      "%matplotlib inline"
     ],
     "language": "python",
     "metadata": {},
     "outputs": [],
     "prompt_number": 15
    },
    {
     "cell_type": "code",
     "collapsed": false,
     "input": [
      "header_names = ['acronym','title','projectUrl','foundProjectUrl1',\n",
      "                'foundProjectUrl2','foundProjectUrl3','foundProjectUrl4',\n",
      "                'foundProjectUrl5','foundProjectUrl6','foundProjectUrl7',\n",
      "                'foundProjectUrl8','foundProjectUrl9','foundProjectUrl10',]\n",
      "df = pd.read_csv('output.csv', sep =',', quotechar = '\"',names = header_names, index_col=False)"
     ],
     "language": "python",
     "metadata": {},
     "outputs": [],
     "prompt_number": 16
    },
    {
     "cell_type": "markdown",
     "metadata": {},
     "source": [
      "### Matching with top 1 result"
     ]
    },
    {
     "cell_type": "code",
     "collapsed": false,
     "input": [
      "total_entries = df['acronym'].count()\n",
      "exact_match_count_top1 = df['acronym'][df['projectUrl'] == df['foundProjectUrl1']].count()\n",
      "print \"Number of exact matches: %s of %s\" % (exact_match_count_top1,total_entries)\n",
      "print \"Matching: %s%%\" % (exact_match_count_top1 * 100 / total_entries)"
     ],
     "language": "python",
     "metadata": {},
     "outputs": [
      {
       "output_type": "stream",
       "stream": "stdout",
       "text": [
        "Number of exact matches: 131 of 298\n",
        "Matching: 43%\n"
       ]
      }
     ],
     "prompt_number": 17
    },
    {
     "cell_type": "markdown",
     "metadata": {},
     "source": [
      "### Matching with top 3 results"
     ]
    },
    {
     "cell_type": "code",
     "collapsed": false,
     "input": [
      "total_entries = df['acronym'].count()\n",
      "exact_match_count_top3 = df['acronym'][(df['projectUrl'] == df['foundProjectUrl1'] ) | (df['projectUrl'] == df['foundProjectUrl2']) | (df['projectUrl'] == df['foundProjectUrl3'])].count()\n",
      "print \"Number of exact matches: %s of %s\" % (exact_match_count_top3,total_entries)\n",
      "print \"Matching: %s%%\" % (exact_match_count_top3 * 100 / total_entries)"
     ],
     "language": "python",
     "metadata": {},
     "outputs": [
      {
       "output_type": "stream",
       "stream": "stdout",
       "text": [
        "Number of exact matches: 156 of 298\n",
        "Matching: 52%\n"
       ]
      }
     ],
     "prompt_number": 18
    },
    {
     "cell_type": "markdown",
     "metadata": {},
     "source": [
      "### Matching with top 5 results"
     ]
    },
    {
     "cell_type": "code",
     "collapsed": false,
     "input": [
      "total_entries = df['acronym'].count()\n",
      "exact_match_count_top5 = df['acronym'][(df['projectUrl'] == df['foundProjectUrl1'] ) | \n",
      "                                  (df['projectUrl'] == df['foundProjectUrl2']) | \n",
      "                                  (df['projectUrl'] == df['foundProjectUrl3']) |\n",
      "                                  (df['projectUrl'] == df['foundProjectUrl4']) |\n",
      "                                  (df['projectUrl'] == df['foundProjectUrl5'])].count()\n",
      "print \"Number of exact matches: %s of %s\" % (exact_match_count_top5,total_entries)\n",
      "print \"Matching: %s%%\" % (exact_match_count_top5 * 100 / total_entries)"
     ],
     "language": "python",
     "metadata": {},
     "outputs": [
      {
       "output_type": "stream",
       "stream": "stdout",
       "text": [
        "Number of exact matches: 166 of 298\n",
        "Matching: 55%\n"
       ]
      }
     ],
     "prompt_number": 19
    },
    {
     "cell_type": "markdown",
     "metadata": {},
     "source": [
      "### Matching with top 10 results"
     ]
    },
    {
     "cell_type": "code",
     "collapsed": false,
     "input": [
      "total_entries = df['acronym'].count()\n",
      "exact_match_count_top10 = df['acronym'][(df['projectUrl'] == df['foundProjectUrl1']) | \n",
      "                                  (df['projectUrl'] == df['foundProjectUrl2']) | \n",
      "                                  (df['projectUrl'] == df['foundProjectUrl3']) |\n",
      "                                  (df['projectUrl'] == df['foundProjectUrl4']) |\n",
      "                                  (df['projectUrl'] == df['foundProjectUrl5']) |\n",
      "                                  (df['projectUrl'] == df['foundProjectUrl6']) |\n",
      "                                  (df['projectUrl'] == df['foundProjectUrl7']) |\n",
      "                                  (df['projectUrl'] == df['foundProjectUrl8']) |\n",
      "                                  (df['projectUrl'] == df['foundProjectUrl9']) |\n",
      "                                  (df['projectUrl'] == df['foundProjectUrl10'])].count()\n",
      "precision_top10 = exact_match_count_top10 * 100 / total_entries\n",
      "print \"Number of exact matches: %s of %s\" % (exact_match_count_top10,total_entries)\n",
      "print \"Matching: %s%%\" % precision_top10"
     ],
     "language": "python",
     "metadata": {},
     "outputs": [
      {
       "output_type": "stream",
       "stream": "stdout",
       "text": [
        "Number of exact matches: 170 of 297\n",
        "Matching: 57%\n"
       ]
      }
     ],
     "prompt_number": 14
    },
    {
     "cell_type": "code",
     "collapsed": false,
     "input": [],
     "language": "python",
     "metadata": {},
     "outputs": []
    }
   ],
   "metadata": {}
  }
 ]
}