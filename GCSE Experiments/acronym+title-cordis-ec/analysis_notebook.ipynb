{
 "metadata": {
  "name": "",
  "signature": "sha256:fee15baa3c2762b14e22620497fb518bae0ddb2230a6f6eef0f2c90770d49004"
 },
 "nbformat": 3,
 "nbformat_minor": 0,
 "worksheets": [
  {
   "cells": [
    {
     "cell_type": "markdown",
     "metadata": {},
     "source": [
      "# Google Custom Search: \n",
      "## Acronym + Title - cordis website - ec.europa.eu website"
     ]
    },
    {
     "cell_type": "code",
     "collapsed": false,
     "input": [
      "import numpy as np\n",
      "import matplotlib.pyplot as plt\n",
      "import pandas as pd\n",
      "import sys, os, re\n",
      "%matplotlib inline"
     ],
     "language": "python",
     "metadata": {},
     "outputs": [],
     "prompt_number": 10
    },
    {
     "cell_type": "code",
     "collapsed": false,
     "input": [
      "header_names = ['acronym','title','projectUrl','foundProjectUrl1',\n",
      "                'foundProjectUrl2','foundProjectUrl3','foundProjectUrl4',\n",
      "                'foundProjectUrl5','foundProjectUrl6','foundProjectUrl7',\n",
      "                'foundProjectUrl8','foundProjectUrl9','foundProjectUrl10',]\n",
      "df = pd.read_csv('output.csv', sep =',', quotechar = '\"',names = header_names, index_col=False)"
     ],
     "language": "python",
     "metadata": {},
     "outputs": [],
     "prompt_number": 11
    },
    {
     "cell_type": "markdown",
     "metadata": {},
     "source": [
      "### Matching with top 1 result"
     ]
    },
    {
     "cell_type": "code",
     "collapsed": false,
     "input": [
      "total_entries = df['acronym'].count()\n",
      "exact_match_count_top1 = df['acronym'][df['projectUrl'] == df['foundProjectUrl1']].count()\n",
      "recover_performance_top1 = exact_match_count_top1  / float(total_entries)\n",
      "\n",
      "print \"Number of exact matches: %s of %s\" % (exact_match_count_top1,total_entries)\n",
      "print \"Recover Performance: %0.2f%%\" % (recover_performance_top1 * 100)"
     ],
     "language": "python",
     "metadata": {},
     "outputs": [
      {
       "output_type": "stream",
       "stream": "stdout",
       "text": [
        "Number of exact matches: 130 of 301\n",
        "Recover Performance: 43.19%\n"
       ]
      }
     ],
     "prompt_number": 12
    },
    {
     "cell_type": "markdown",
     "metadata": {},
     "source": [
      "### Matching with top 3 results"
     ]
    },
    {
     "cell_type": "code",
     "collapsed": false,
     "input": [
      "total_entries = df['acronym'].count()\n",
      "exact_match_count_top3 = df['acronym'][(df['projectUrl'] == df['foundProjectUrl1'] ) | (df['projectUrl'] == df['foundProjectUrl2']) | (df['projectUrl'] == df['foundProjectUrl3'])].count()\n",
      "recover_performance_top3 = exact_match_count_top3  / float(total_entries)\n",
      "\n",
      "print \"Number of exact matches: %s of %s\" % (exact_match_count_top3,total_entries)\n",
      "print \"Recover Performance: %0.2f%%\" % (recover_performance_top3 * 100)"
     ],
     "language": "python",
     "metadata": {},
     "outputs": [
      {
       "output_type": "stream",
       "stream": "stdout",
       "text": [
        "Number of exact matches: 154 of 301\n",
        "Recover Performance: 51.16%\n"
       ]
      }
     ],
     "prompt_number": 13
    },
    {
     "cell_type": "markdown",
     "metadata": {},
     "source": [
      "### Matching with top 5 results"
     ]
    },
    {
     "cell_type": "code",
     "collapsed": false,
     "input": [
      "total_entries = df['acronym'].count()\n",
      "exact_match_count_top5 = df['acronym'][(df['projectUrl'] == df['foundProjectUrl1'] ) | \n",
      "                                  (df['projectUrl'] == df['foundProjectUrl2']) | \n",
      "                                  (df['projectUrl'] == df['foundProjectUrl3']) |\n",
      "                                  (df['projectUrl'] == df['foundProjectUrl4']) |\n",
      "                                  (df['projectUrl'] == df['foundProjectUrl5'])].count()\n",
      "recover_performance_top5 = exact_match_count_top5 / float(total_entries)\n",
      "\n",
      "print \"Number of exact matches: %s of %s\" % (exact_match_count_top5,total_entries)\n",
      "print \"Recover Performance: %0.2f%%\" % (recover_performance_top5 * 100)"
     ],
     "language": "python",
     "metadata": {},
     "outputs": [
      {
       "output_type": "stream",
       "stream": "stdout",
       "text": [
        "Number of exact matches: 162 of 301\n",
        "Recover Performance: 53.82%\n"
       ]
      }
     ],
     "prompt_number": 14
    },
    {
     "cell_type": "markdown",
     "metadata": {},
     "source": [
      "### Matching with top 10 results"
     ]
    },
    {
     "cell_type": "code",
     "collapsed": false,
     "input": [
      "total_entries = df['acronym'].count()\n",
      "exact_match_count_top10 = df['acronym'][(df['projectUrl'] == df['foundProjectUrl1']) | \n",
      "                                  (df['projectUrl'] == df['foundProjectUrl2']) | \n",
      "                                  (df['projectUrl'] == df['foundProjectUrl3']) |\n",
      "                                  (df['projectUrl'] == df['foundProjectUrl4']) |\n",
      "                                  (df['projectUrl'] == df['foundProjectUrl5']) |\n",
      "                                  (df['projectUrl'] == df['foundProjectUrl6']) |\n",
      "                                  (df['projectUrl'] == df['foundProjectUrl7']) |\n",
      "                                  (df['projectUrl'] == df['foundProjectUrl8']) |\n",
      "                                  (df['projectUrl'] == df['foundProjectUrl9']) |\n",
      "                                  (df['projectUrl'] == df['foundProjectUrl10'])].count()\n",
      "recover_performance_top10 = exact_match_count_top10 / float(total_entries)\n",
      "\n",
      "print \"Number of exact matches: %s of %s\" % (exact_match_count_top10,total_entries)\n",
      "print \"Recover Performance: %0.2f%%\" % (recover_performance_top10 * 100)"
     ],
     "language": "python",
     "metadata": {},
     "outputs": [
      {
       "output_type": "stream",
       "stream": "stdout",
       "text": [
        "Number of exact matches: 166 of 301\n",
        "Recover Performance: 55.15%\n"
       ]
      }
     ],
     "prompt_number": 15
    },
    {
     "cell_type": "markdown",
     "metadata": {},
     "source": [
      "# Using Fuzzy Hashing to compare contents"
     ]
    },
    {
     "cell_type": "code",
     "collapsed": false,
     "input": [
      "df = pd.read_csv('fuzzy_computation.csv', sep =',', quotechar = '\"', index_col=False)"
     ],
     "language": "python",
     "metadata": {},
     "outputs": [],
     "prompt_number": 16
    },
    {
     "cell_type": "code",
     "collapsed": false,
     "input": [
      "matching_top1 = []\n",
      "matching_top3 = []\n",
      "matching_top5 = []\n",
      "matching_top10 = []\n",
      "for i in np.arange(40,110,10):\n",
      "    matching_top1.append(df['acronym'][(df['projectUrl'] == df['foundProjectUrl1']) | (df['MatchScore1'] >= i)].count() / float(total_entries))\n",
      "    matching_top3.append(df['acronym'][(df['projectUrl'] == df['foundProjectUrl1']) | \n",
      "                                       (df['projectUrl'] == df['foundProjectUrl2']) | \n",
      "                                       (df['projectUrl'] == df['foundProjectUrl3']) |\n",
      "                                       (df['MatchScore1'] >= i) |\n",
      "                                       (df['MatchScore2'] >= i) |\n",
      "                                       (df['MatchScore3'] >= i)].count() / float(total_entries))\n",
      "    matching_top5.append(df['acronym'][(df['projectUrl'] == df['foundProjectUrl1']) | \n",
      "                                       (df['projectUrl'] == df['foundProjectUrl2']) |\n",
      "                                       (df['projectUrl'] == df['foundProjectUrl3']) |\n",
      "                                       (df['projectUrl'] == df['foundProjectUrl4']) |\n",
      "                                       (df['projectUrl'] == df['foundProjectUrl5']) |\n",
      "                                       (df['MatchScore1'] >= i) |\n",
      "                                       (df['MatchScore2'] >= i) |\n",
      "                                       (df['MatchScore3'] >= i) |\n",
      "                                       (df['MatchScore4'] >= i) |\n",
      "                                       (df['MatchScore5'] >= i)].count() / float(total_entries))  \n",
      "    matching_top10.append(df['acronym'][(df['projectUrl'] == df['foundProjectUrl1']) |\n",
      "                                        (df['projectUrl'] == df['foundProjectUrl2']) |\n",
      "                                        (df['projectUrl'] == df['foundProjectUrl3']) |\n",
      "                                        (df['projectUrl'] == df['foundProjectUrl4']) |\n",
      "                                        (df['projectUrl'] == df['foundProjectUrl5']) |\n",
      "                                        (df['projectUrl'] == df['foundProjectUrl6']) |\n",
      "                                        (df['projectUrl'] == df['foundProjectUrl7']) |\n",
      "                                        (df['projectUrl'] == df['foundProjectUrl8']) |\n",
      "                                        (df['projectUrl'] == df['foundProjectUrl9']) |\n",
      "                                        (df['projectUrl'] == df['foundProjectUrl10']) |\n",
      "                                        (df['MatchScore1'] >= i) |\n",
      "                                        (df['MatchScore2'] >= i) |\n",
      "                                        (df['MatchScore3'] >= i) |\n",
      "                                        (df['MatchScore4'] >= i) |\n",
      "                                        (df['MatchScore5'] >= i) |\n",
      "                                        (df['MatchScore6'] >= i) |\n",
      "                                        (df['MatchScore7'] >= i) |\n",
      "                                        (df['MatchScore8'] >= i) |\n",
      "                                        (df['MatchScore9'] >= i) |\n",
      "                                        (df['MatchScore10'] >= i)].count() / float(total_entries))      \n",
      "plt.plot(np.arange(40,110,10),matching_top1,linestyle='--',color='r',marker='o',label='Top 1 Results')\n",
      "plt.plot(np.arange(40,110,10),matching_top3,linestyle='--',color='b',marker='o',label='Top 3 Results')\n",
      "plt.plot(np.arange(40,110,10),matching_top5,linestyle='--',color='y',marker='o',label='Top 5 Results')\n",
      "plt.plot(np.arange(40,110,10),matching_top10,linestyle='--',color='g',marker='o',label='Top 10 Results')\n",
      "plt.plot((40,100),(recover_performance_top1,recover_performance_top1),'-r')\n",
      "plt.plot((40,100),(recover_performance_top3,recover_performance_top3),'-b')\n",
      "plt.plot((40,100),(recover_performance_top5,recover_performance_top5),'-y')\n",
      "plt.plot((40,100),(recover_performance_top10,recover_performance_top10),'-g')\n",
      "\n",
      "plt.xlabel(\"Similarity Score\")\n",
      "plt.ylabel(\"Result Match Success\")\n",
      "plt.grid()\n",
      "plt.legend()\n",
      "plt.legend(bbox_to_anchor=(1.05, 1), loc=2, borderaxespad=0.)"
     ],
     "language": "python",
     "metadata": {},
     "outputs": [
      {
       "metadata": {},
       "output_type": "pyout",
       "prompt_number": 17,
       "text": [
        "<matplotlib.legend.Legend at 0x7ff84e91d890>"
       ]
      },
      {
       "metadata": {},
       "output_type": "display_data",
       "png": "[encoded data removed]",
       "text": [
        "<matplotlib.figure.Figure at 0x7ff84eb30310>"
       ]
      }
     ],
     "prompt_number": 17
    },
    {
     "cell_type": "code",
     "collapsed": false,
     "input": [],
     "language": "python",
     "metadata": {},
     "outputs": []
    }
   ],
   "metadata": {}
  }
 ]
}