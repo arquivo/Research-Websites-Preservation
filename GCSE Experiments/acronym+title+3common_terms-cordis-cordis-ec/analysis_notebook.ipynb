{
 "metadata": {
  "name": "",
  "signature": "sha256:f16ef676a0c388b42959376428bc587bb9b7db06d5c14699f713db955522491b"
 },
 "nbformat": 3,
 "nbformat_minor": 0,
 "worksheets": [
  {
   "cells": [
    {
     "cell_type": "markdown",
     "metadata": {},
     "source": [
      "# Google Custom Search: \n",
      "## Acronym + Title + 3 common terms"
     ]
    },
    {
     "cell_type": "code",
     "collapsed": false,
     "input": [
      "import numpy as np\n",
      "import matplotlib.pyplot as plt\n",
      "import pandas as pd\n",
      "import sys, os, re\n",
      "%matplotlib inline"
     ],
     "language": "python",
     "metadata": {},
     "outputs": [],
     "prompt_number": 1
    },
    {
     "cell_type": "code",
     "collapsed": false,
     "input": [
      "header_names = ['acronym','title','projectUrl','foundProjectUrl1',\n",
      "                'foundProjectUrl2','foundProjectUrl3','foundProjectUrl4',\n",
      "                'foundProjectUrl5','foundProjectUrl6','foundProjectUrl7',\n",
      "                'foundProjectUrl8','foundProjectUrl9','foundProjectUrl10',]\n",
      "df = pd.read_csv('output.csv', sep =',', quotechar = '\"',names = header_names, index_col=False)"
     ],
     "language": "python",
     "metadata": {},
     "outputs": [],
     "prompt_number": 2
    },
    {
     "cell_type": "markdown",
     "metadata": {},
     "source": [
      "### Matching with top 1 result"
     ]
    },
    {
     "cell_type": "code",
     "collapsed": false,
     "input": [
      "total_entries = df['acronym'].count()\n",
      "exact_match_count_top1 = df['acronym'][df['projectUrl'] == df['foundProjectUrl1']].count()\n",
      "print \"Number of exact matches: %s of %s\" % (exact_match_count_top1,total_entries)\n",
      "print \"Matching: %s%%\" % (exact_match_count_top1 * 100 / total_entries)"
     ],
     "language": "python",
     "metadata": {},
     "outputs": [
      {
       "output_type": "stream",
       "stream": "stdout",
       "text": [
        "Number of exact matches: 99 of 301\n",
        "Matching: 32%\n"
       ]
      }
     ],
     "prompt_number": 3
    },
    {
     "cell_type": "markdown",
     "metadata": {},
     "source": [
      "### Matching with top 3 results"
     ]
    },
    {
     "cell_type": "code",
     "collapsed": false,
     "input": [
      "total_entries = df['acronym'].count()\n",
      "exact_match_count_top3 = df['acronym'][(df['projectUrl'] == df['foundProjectUrl1'] ) | (df['projectUrl'] == df['foundProjectUrl2']) | (df['projectUrl'] == df['foundProjectUrl3'])].count()\n",
      "print \"Number of exact matches: %s of %s\" % (exact_match_count_top3,total_entries)\n",
      "print \"Matching: %s%%\" % (exact_match_count_top3 * 100 / total_entries)"
     ],
     "language": "python",
     "metadata": {},
     "outputs": [
      {
       "output_type": "stream",
       "stream": "stdout",
       "text": [
        "Number of exact matches: 121 of 301\n",
        "Matching: 40%\n"
       ]
      }
     ],
     "prompt_number": 4
    },
    {
     "cell_type": "markdown",
     "metadata": {},
     "source": [
      "### Matching with top 5 results"
     ]
    },
    {
     "cell_type": "code",
     "collapsed": false,
     "input": [
      "total_entries = df['acronym'].count()\n",
      "exact_match_count_top5 = df['acronym'][(df['projectUrl'] == df['foundProjectUrl1'] ) | \n",
      "                                  (df['projectUrl'] == df['foundProjectUrl2']) | \n",
      "                                  (df['projectUrl'] == df['foundProjectUrl3']) |\n",
      "                                  (df['projectUrl'] == df['foundProjectUrl4']) |\n",
      "                                  (df['projectUrl'] == df['foundProjectUrl5'])].count()\n",
      "print \"Number of exact matches: %s of %s\" % (exact_match_count_top5,total_entries)\n",
      "print \"Matching: %s%%\" % (exact_match_count_top5 * 100 / total_entries)"
     ],
     "language": "python",
     "metadata": {},
     "outputs": [
      {
       "output_type": "stream",
       "stream": "stdout",
       "text": [
        "Number of exact matches: 123 of 301\n",
        "Matching: 40%\n"
       ]
      }
     ],
     "prompt_number": 5
    },
    {
     "cell_type": "markdown",
     "metadata": {},
     "source": [
      "### Matching with top 10 results"
     ]
    },
    {
     "cell_type": "code",
     "collapsed": false,
     "input": [
      "total_entries = df['acronym'].count()\n",
      "exact_match_count_top10 = df['acronym'][(df['projectUrl'] == df['foundProjectUrl1']) | \n",
      "                                  (df['projectUrl'] == df['foundProjectUrl2']) | \n",
      "                                  (df['projectUrl'] == df['foundProjectUrl3']) |\n",
      "                                  (df['projectUrl'] == df['foundProjectUrl4']) |\n",
      "                                  (df['projectUrl'] == df['foundProjectUrl5']) |\n",
      "                                  (df['projectUrl'] == df['foundProjectUrl6']) |\n",
      "                                  (df['projectUrl'] == df['foundProjectUrl7']) |\n",
      "                                  (df['projectUrl'] == df['foundProjectUrl8']) |\n",
      "                                  (df['projectUrl'] == df['foundProjectUrl9']) |\n",
      "                                  (df['projectUrl'] == df['foundProjectUrl10'])].count()\n",
      "precision_top10 = exact_match_count_top10 * 100 / total_entries\n",
      "print \"Number of exact matches: %s of %s\" % (exact_match_count_top10,total_entries)\n",
      "print \"Matching: %s%%\" % precision_top10"
     ],
     "language": "python",
     "metadata": {},
     "outputs": [
      {
       "output_type": "stream",
       "stream": "stdout",
       "text": [
        "Number of exact matches: 128 of 301\n",
        "Matching: 42%\n"
       ]
      }
     ],
     "prompt_number": 6
    },
    {
     "cell_type": "code",
     "collapsed": false,
     "input": [
      "df.ix[287]['foundProjectUrl6']"
     ],
     "language": "python",
     "metadata": {},
     "outputs": [
      {
       "metadata": {},
       "output_type": "pyout",
       "prompt_number": 8,
       "text": [
        "'http://bio.demokritos.gr/index.php?option=com_content&view=article&id=34&Itemid=44&lang=en'"
       ]
      }
     ],
     "prompt_number": 8
    },
    {
     "cell_type": "code",
     "collapsed": false,
     "input": [],
     "language": "python",
     "metadata": {},
     "outputs": []
    }
   ],
   "metadata": {}
  }
 ]
}