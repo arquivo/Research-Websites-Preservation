{
 "metadata": {
  "name": "",
  "signature": "sha256:674db75628ce9cf021c409f71384ef87eb28d63bac5ca6d71e691ae528c61841"
 },
 "nbformat": 3,
 "nbformat_minor": 0,
 "worksheets": [
  {
   "cells": [
    {
     "cell_type": "code",
     "collapsed": false,
     "input": [
      "import numpy as np\n",
      "import matplotlib.pyplot as plt\n",
      "import pandas as pd\n",
      "import sys, os, re\n",
      "%matplotlib inline"
     ],
     "language": "python",
     "metadata": {},
     "outputs": [],
     "prompt_number": 289
    },
    {
     "cell_type": "code",
     "collapsed": false,
     "input": [
      "df = pd.read_csv('fp7-golden-dataset-new.csv', sep =',', quotechar = '\"', index_col=False, usecols = [\"acronym\", \"title\", \"projectUrl\"])"
     ],
     "language": "python",
     "metadata": {},
     "outputs": [],
     "prompt_number": 290
    },
    {
     "cell_type": "markdown",
     "metadata": {},
     "source": [
      "### Clean malformed rows\n",
      "##### Validation check to be sure that projectUrl has a valid value. This check help detect multiple problems like a bad csv row which causes the appearance of more columns, invalid urls etc.."
     ]
    },
    {
     "cell_type": "code",
     "collapsed": false,
     "input": [
      "df[~df['projectUrl'].str.contains('http*')]"
     ],
     "language": "python",
     "metadata": {},
     "outputs": [
      {
       "html": [
        "<div style=\"max-height:1000px;max-width:1500px;overflow:auto;\">\n",
        "<table border=\"1\" class=\"dataframe\">\n",
        "  <thead>\n",
        "    <tr style=\"text-align: right;\">\n",
        "      <th></th>\n",
        "      <th>acronym</th>\n",
        "      <th>title</th>\n",
        "      <th>projectUrl</th>\n",
        "    </tr>\n",
        "  </thead>\n",
        "  <tbody>\n",
        "  </tbody>\n",
        "</table>\n",
        "</div>"
       ],
       "metadata": {},
       "output_type": "pyout",
       "prompt_number": 291,
       "text": [
        "Empty DataFrame\n",
        "Columns: [acronym, title, projectUrl]\n",
        "Index: []"
       ]
      }
     ],
     "prompt_number": 291
    },
    {
     "cell_type": "markdown",
     "metadata": {},
     "source": [
      "# Sample of CSV at phase1"
     ]
    },
    {
     "cell_type": "code",
     "collapsed": false,
     "input": [
      "df[1902:1908]"
     ],
     "language": "python",
     "metadata": {},
     "outputs": [
      {
       "html": [
        "<div style=\"max-height:1000px;max-width:1500px;overflow:auto;\">\n",
        "<table border=\"1\" class=\"dataframe\">\n",
        "  <thead>\n",
        "    <tr style=\"text-align: right;\">\n",
        "      <th></th>\n",
        "      <th>acronym</th>\n",
        "      <th>title</th>\n",
        "      <th>projectUrl</th>\n",
        "    </tr>\n",
        "  </thead>\n",
        "  <tbody>\n",
        "    <tr>\n",
        "      <th>1902</th>\n",
        "      <td>    GENCODYS</td>\n",
        "      <td> Genetic and Epigenetic Networks in Cognitive D...</td>\n",
        "      <td>                           http://www.gencodys.eu/</td>\n",
        "    </tr>\n",
        "    <tr>\n",
        "      <th>1903</th>\n",
        "      <td> ECO-REFITEC</td>\n",
        "      <td> Eco innovative refitting technologies and proc...</td>\n",
        "      <td>                         http://www.eco-refitec.eu</td>\n",
        "    </tr>\n",
        "    <tr>\n",
        "      <th>1904</th>\n",
        "      <td>  NUTRI-STAT</td>\n",
        "      <td> Real-time, in-situ, N, P, K, pH and electrical...</td>\n",
        "      <td>                 http://www.nutristat-project.com/</td>\n",
        "    </tr>\n",
        "    <tr>\n",
        "      <th>1905</th>\n",
        "      <td>    MEDIADEM</td>\n",
        "      <td> European Media Policies Revisited: Valuing and...</td>\n",
        "      <td>                    http://www.mediadem.eliamep.gr</td>\n",
        "    </tr>\n",
        "    <tr>\n",
        "      <th>1906</th>\n",
        "      <td>     LOCOBOT</td>\n",
        "      <td> Toolkit for building low cost robot co-workers...</td>\n",
        "      <td>                             http://www.locobot.eu</td>\n",
        "    </tr>\n",
        "    <tr>\n",
        "      <th>1907</th>\n",
        "      <td>      APARET</td>\n",
        "      <td> African Programme for Advanced  Research Epide...</td>\n",
        "      <td> http://aparet.org/index.php?option=com_content...</td>\n",
        "    </tr>\n",
        "  </tbody>\n",
        "</table>\n",
        "</div>"
       ],
       "metadata": {},
       "output_type": "pyout",
       "prompt_number": 292,
       "text": [
        "          acronym                                              title  \\\n",
        "1902     GENCODYS  Genetic and Epigenetic Networks in Cognitive D...   \n",
        "1903  ECO-REFITEC  Eco innovative refitting technologies and proc...   \n",
        "1904   NUTRI-STAT  Real-time, in-situ, N, P, K, pH and electrical...   \n",
        "1905     MEDIADEM  European Media Policies Revisited: Valuing and...   \n",
        "1906      LOCOBOT  Toolkit for building low cost robot co-workers...   \n",
        "1907       APARET  African Programme for Advanced  Research Epide...   \n",
        "\n",
        "                                             projectUrl  \n",
        "1902                            http://www.gencodys.eu/  \n",
        "1903                          http://www.eco-refitec.eu  \n",
        "1904                  http://www.nutristat-project.com/  \n",
        "1905                     http://www.mediadem.eliamep.gr  \n",
        "1906                              http://www.locobot.eu  \n",
        "1907  http://aparet.org/index.php?option=com_content...  "
       ]
      }
     ],
     "prompt_number": 292
    },
    {
     "cell_type": "markdown",
     "metadata": {},
     "source": [
      "### Running python script return_codes.py to generate processed-dataset-phase2.csv"
     ]
    },
    {
     "cell_type": "code",
     "collapsed": false,
     "input": [
      " %run scritps/return_codes.py"
     ],
     "language": "python",
     "metadata": {},
     "outputs": []
    },
    {
     "cell_type": "markdown",
     "metadata": {},
     "source": [
      "# Sample of CSV at phase2"
     ]
    },
    {
     "cell_type": "code",
     "collapsed": false,
     "input": [
      "df = pd.read_csv('processed-dataset-phase2.csv', sep =',', quotechar = '\"', index_col=False, usecols = [\"acronym\", \"title\", \"projectUrl\",'return_code','redirect_url'])"
     ],
     "language": "python",
     "metadata": {},
     "outputs": [],
     "prompt_number": 317
    },
    {
     "cell_type": "code",
     "collapsed": false,
     "input": [
      "df[1902:1908]"
     ],
     "language": "python",
     "metadata": {},
     "outputs": [
      {
       "html": [
        "<div style=\"max-height:1000px;max-width:1500px;overflow:auto;\">\n",
        "<table border=\"1\" class=\"dataframe\">\n",
        "  <thead>\n",
        "    <tr style=\"text-align: right;\">\n",
        "      <th></th>\n",
        "      <th>acronym</th>\n",
        "      <th>title</th>\n",
        "      <th>projectUrl</th>\n",
        "      <th>return_code</th>\n",
        "      <th>redirect_url</th>\n",
        "    </tr>\n",
        "  </thead>\n",
        "  <tbody>\n",
        "    <tr>\n",
        "      <th>1902</th>\n",
        "      <td>    GENCODYS</td>\n",
        "      <td> Genetic and Epigenetic Networks in Cognitive D...</td>\n",
        "      <td>                           http://www.gencodys.eu/</td>\n",
        "      <td>                                  200</td>\n",
        "      <td>                                               NaN</td>\n",
        "    </tr>\n",
        "    <tr>\n",
        "      <th>1903</th>\n",
        "      <td> ECO-REFITEC</td>\n",
        "      <td> Eco innovative refitting technologies and proc...</td>\n",
        "      <td>                         http://www.eco-refitec.eu</td>\n",
        "      <td>                                  200</td>\n",
        "      <td>                                               NaN</td>\n",
        "    </tr>\n",
        "    <tr>\n",
        "      <th>1904</th>\n",
        "      <td>  NUTRI-STAT</td>\n",
        "      <td> Real-time, in-situ, N, P, K, pH and electrical...</td>\n",
        "      <td>                 http://www.nutristat-project.com/</td>\n",
        "      <td> [Errno -2] Name or service not known</td>\n",
        "      <td>                                               NaN</td>\n",
        "    </tr>\n",
        "    <tr>\n",
        "      <th>1905</th>\n",
        "      <td>    MEDIADEM</td>\n",
        "      <td> European Media Policies Revisited: Valuing and...</td>\n",
        "      <td>                    http://www.mediadem.eliamep.gr</td>\n",
        "      <td>                                  403</td>\n",
        "      <td>                                               NaN</td>\n",
        "    </tr>\n",
        "    <tr>\n",
        "      <th>1906</th>\n",
        "      <td>     LOCOBOT</td>\n",
        "      <td> Toolkit for building low cost robot co-workers...</td>\n",
        "      <td>                             http://www.locobot.eu</td>\n",
        "      <td>                                  200</td>\n",
        "      <td>                                               NaN</td>\n",
        "    </tr>\n",
        "    <tr>\n",
        "      <th>1907</th>\n",
        "      <td>      APARET</td>\n",
        "      <td> African Programme for Advanced Research Epidem...</td>\n",
        "      <td> http://aparet.org/index.php?option=com_content...</td>\n",
        "      <td>                                  301</td>\n",
        "      <td> http://aparet.org/?option=com_content&amp;view=art...</td>\n",
        "    </tr>\n",
        "  </tbody>\n",
        "</table>\n",
        "</div>"
       ],
       "metadata": {},
       "output_type": "pyout",
       "prompt_number": 318,
       "text": [
        "          acronym                                              title  \\\n",
        "1902     GENCODYS  Genetic and Epigenetic Networks in Cognitive D...   \n",
        "1903  ECO-REFITEC  Eco innovative refitting technologies and proc...   \n",
        "1904   NUTRI-STAT  Real-time, in-situ, N, P, K, pH and electrical...   \n",
        "1905     MEDIADEM  European Media Policies Revisited: Valuing and...   \n",
        "1906      LOCOBOT  Toolkit for building low cost robot co-workers...   \n",
        "1907       APARET  African Programme for Advanced Research Epidem...   \n",
        "\n",
        "                                             projectUrl  \\\n",
        "1902                            http://www.gencodys.eu/   \n",
        "1903                          http://www.eco-refitec.eu   \n",
        "1904                  http://www.nutristat-project.com/   \n",
        "1905                     http://www.mediadem.eliamep.gr   \n",
        "1906                              http://www.locobot.eu   \n",
        "1907  http://aparet.org/index.php?option=com_content...   \n",
        "\n",
        "                               return_code  \\\n",
        "1902                                   200   \n",
        "1903                                   200   \n",
        "1904  [Errno -2] Name or service not known   \n",
        "1905                                   403   \n",
        "1906                                   200   \n",
        "1907                                   301   \n",
        "\n",
        "                                           redirect_url  \n",
        "1902                                                NaN  \n",
        "1903                                                NaN  \n",
        "1904                                                NaN  \n",
        "1905                                                NaN  \n",
        "1906                                                NaN  \n",
        "1907  http://aparet.org/?option=com_content&view=art...  "
       ]
      }
     ],
     "prompt_number": 318
    },
    {
     "cell_type": "markdown",
     "metadata": {},
     "source": [
      "### Removing all non alphanumeric characters"
     ]
    },
    {
     "cell_type": "code",
     "collapsed": false,
     "input": [
      "df['title'] = df['title'].apply(lambda x : re.sub(r'[\\W_]', ' ', x))"
     ],
     "language": "python",
     "metadata": {},
     "outputs": [],
     "prompt_number": 319
    },
    {
     "cell_type": "markdown",
     "metadata": {},
     "source": [
      "### Left and right trim each column value, and removal of multiple whitespaces"
     ]
    },
    {
     "cell_type": "code",
     "collapsed": false,
     "input": [
      "for index, row in df.iterrows():    \n",
      "    df.ix[index]['acronym'] = row['acronym'].lstrip()\n",
      "    df.ix[index]['acronym'] = row['acronym'].rstrip()\n",
      "    df.ix[index]['title'] = row['title'].lstrip()\n",
      "    df.ix[index]['title'] = row['title'].rstrip()\n",
      "    \n",
      "    df.ix[index]['title'] = ' '.join(row['title'].split())    \n",
      "    \n",
      "    df.ix[index]['projectUrl'] = row['projectUrl'].lstrip()\n",
      "    df.ix[index]['projectUrl'] = row['projectUrl'].rstrip()\n",
      "\n",
      "df.to_csv('processed-dataset-phase3.csv', index = False)    "
     ],
     "language": "python",
     "metadata": {},
     "outputs": [],
     "prompt_number": 320
    },
    {
     "cell_type": "markdown",
     "metadata": {},
     "source": [
      "# Sample of CSV at phase3"
     ]
    },
    {
     "cell_type": "code",
     "collapsed": false,
     "input": [
      "df[1902:1908]"
     ],
     "language": "python",
     "metadata": {},
     "outputs": [
      {
       "html": [
        "<div style=\"max-height:1000px;max-width:1500px;overflow:auto;\">\n",
        "<table border=\"1\" class=\"dataframe\">\n",
        "  <thead>\n",
        "    <tr style=\"text-align: right;\">\n",
        "      <th></th>\n",
        "      <th>acronym</th>\n",
        "      <th>title</th>\n",
        "      <th>projectUrl</th>\n",
        "      <th>return_code</th>\n",
        "      <th>redirect_url</th>\n",
        "    </tr>\n",
        "  </thead>\n",
        "  <tbody>\n",
        "    <tr>\n",
        "      <th>1902</th>\n",
        "      <td>    GENCODYS</td>\n",
        "      <td> Genetic and Epigenetic Networks in Cognitive D...</td>\n",
        "      <td>                           http://www.gencodys.eu/</td>\n",
        "      <td>                                  200</td>\n",
        "      <td>                                               NaN</td>\n",
        "    </tr>\n",
        "    <tr>\n",
        "      <th>1903</th>\n",
        "      <td> ECO-REFITEC</td>\n",
        "      <td> Eco innovative refitting technologies and proc...</td>\n",
        "      <td>                         http://www.eco-refitec.eu</td>\n",
        "      <td>                                  200</td>\n",
        "      <td>                                               NaN</td>\n",
        "    </tr>\n",
        "    <tr>\n",
        "      <th>1904</th>\n",
        "      <td>  NUTRI-STAT</td>\n",
        "      <td> Real time in situ N P K pH and electrical cond...</td>\n",
        "      <td>                 http://www.nutristat-project.com/</td>\n",
        "      <td> [Errno -2] Name or service not known</td>\n",
        "      <td>                                               NaN</td>\n",
        "    </tr>\n",
        "    <tr>\n",
        "      <th>1905</th>\n",
        "      <td>    MEDIADEM</td>\n",
        "      <td> European Media Policies Revisited Valuing and ...</td>\n",
        "      <td>                    http://www.mediadem.eliamep.gr</td>\n",
        "      <td>                                  403</td>\n",
        "      <td>                                               NaN</td>\n",
        "    </tr>\n",
        "    <tr>\n",
        "      <th>1906</th>\n",
        "      <td>     LOCOBOT</td>\n",
        "      <td> Toolkit for building low cost robot co workers...</td>\n",
        "      <td>                             http://www.locobot.eu</td>\n",
        "      <td>                                  200</td>\n",
        "      <td>                                               NaN</td>\n",
        "    </tr>\n",
        "    <tr>\n",
        "      <th>1907</th>\n",
        "      <td>      APARET</td>\n",
        "      <td> African Programme for Advanced Research Epidem...</td>\n",
        "      <td> http://aparet.org/index.php?option=com_content...</td>\n",
        "      <td>                                  301</td>\n",
        "      <td> http://aparet.org/?option=com_content&amp;view=art...</td>\n",
        "    </tr>\n",
        "  </tbody>\n",
        "</table>\n",
        "</div>"
       ],
       "metadata": {},
       "output_type": "pyout",
       "prompt_number": 321,
       "text": [
        "          acronym                                              title  \\\n",
        "1902     GENCODYS  Genetic and Epigenetic Networks in Cognitive D...   \n",
        "1903  ECO-REFITEC  Eco innovative refitting technologies and proc...   \n",
        "1904   NUTRI-STAT  Real time in situ N P K pH and electrical cond...   \n",
        "1905     MEDIADEM  European Media Policies Revisited Valuing and ...   \n",
        "1906      LOCOBOT  Toolkit for building low cost robot co workers...   \n",
        "1907       APARET  African Programme for Advanced Research Epidem...   \n",
        "\n",
        "                                             projectUrl  \\\n",
        "1902                            http://www.gencodys.eu/   \n",
        "1903                          http://www.eco-refitec.eu   \n",
        "1904                  http://www.nutristat-project.com/   \n",
        "1905                     http://www.mediadem.eliamep.gr   \n",
        "1906                              http://www.locobot.eu   \n",
        "1907  http://aparet.org/index.php?option=com_content...   \n",
        "\n",
        "                               return_code  \\\n",
        "1902                                   200   \n",
        "1903                                   200   \n",
        "1904  [Errno -2] Name or service not known   \n",
        "1905                                   403   \n",
        "1906                                   200   \n",
        "1907                                   301   \n",
        "\n",
        "                                           redirect_url  \n",
        "1902                                                NaN  \n",
        "1903                                                NaN  \n",
        "1904                                                NaN  \n",
        "1905                                                NaN  \n",
        "1906                                                NaN  \n",
        "1907  http://aparet.org/?option=com_content&view=art...  "
       ]
      }
     ],
     "prompt_number": 321
    },
    {
     "cell_type": "markdown",
     "metadata": {},
     "source": [
      "### Get Only 200s or 300s redirects and update projectUrl with the return URL for response codes 301"
     ]
    },
    {
     "cell_type": "code",
     "collapsed": false,
     "input": [
      "df = pd.read_csv('processed-dataset-phase3.csv', sep =',', quotechar = '\"', index_col=False, usecols = [\"acronym\", \"title\", \"projectUrl\",'return_code','redirect_url'])"
     ],
     "language": "python",
     "metadata": {},
     "outputs": [],
     "prompt_number": 322
    },
    {
     "cell_type": "markdown",
     "metadata": {},
     "source": [
      "### Return Code distribution"
     ]
    },
    {
     "cell_type": "code",
     "collapsed": false,
     "input": [
      "pd.value_counts(df['return_code'].values, sort=False)"
     ],
     "language": "python",
     "metadata": {},
     "outputs": [
      {
       "metadata": {},
       "output_type": "pyout",
       "prompt_number": 323,
       "text": [
        "[Errno -2] Name or service not known               171\n",
        "405                                                  2\n",
        "404                                                 58\n",
        "403                                                 91\n",
        "400                                                  2\n",
        "503                                                  6\n",
        "500                                                 15\n",
        "timed out                                           45\n",
        "[Errno -5] No address associated with hostname       7\n",
        "410                                                  1\n",
        "[Errno 113] No route to host                        11\n",
        "200.0                                                6\n",
        "[Errno 111] Connection refused                       4\n",
        "200                                               1295\n",
        "301                                                176\n",
        "302                                                104\n",
        "303                                                  5\n",
        "307                                                 10\n",
        "server error                                        11\n",
        "dtype: int64"
       ]
      }
     ],
     "prompt_number": 323
    },
    {
     "cell_type": "code",
     "collapsed": false,
     "input": [
      "df_filtered = df[(df['return_code'] == '200.0') | (df['return_code'] == '200') | (df['return_code'] == '301') | (df['return_code'] == '302') | (df['return_code'] == '303') | (df['return_code'] == '307')]\n",
      "df_filtered['projectUrl'][df_filtered['redirect_url'].notnull()] = df_filtered['redirect_url']"
     ],
     "language": "python",
     "metadata": {},
     "outputs": [],
     "prompt_number": 324
    },
    {
     "cell_type": "markdown",
     "metadata": {},
     "source": [
      "# Sample of CSV at phase4"
     ]
    },
    {
     "cell_type": "code",
     "collapsed": false,
     "input": [
      "df = df_filtered.reset_index(drop=True)\n",
      "df[30:35]"
     ],
     "language": "python",
     "metadata": {},
     "outputs": [
      {
       "html": [
        "<div style=\"max-height:1000px;max-width:1500px;overflow:auto;\">\n",
        "<table border=\"1\" class=\"dataframe\">\n",
        "  <thead>\n",
        "    <tr style=\"text-align: right;\">\n",
        "      <th></th>\n",
        "      <th>acronym</th>\n",
        "      <th>title</th>\n",
        "      <th>projectUrl</th>\n",
        "      <th>return_code</th>\n",
        "      <th>redirect_url</th>\n",
        "    </tr>\n",
        "  </thead>\n",
        "  <tbody>\n",
        "    <tr>\n",
        "      <th>30</th>\n",
        "      <td>  NANOVALID</td>\n",
        "      <td> Development of reference methods for hazard id...</td>\n",
        "      <td>    http://www.nanovalid.eu</td>\n",
        "      <td> 200</td>\n",
        "      <td>                  NaN</td>\n",
        "    </tr>\n",
        "    <tr>\n",
        "      <th>31</th>\n",
        "      <td>    BACCHUS</td>\n",
        "      <td> Beneficial effects of dietary bioactive peptid...</td>\n",
        "      <td> http://www.bacchus-fp7.eu/</td>\n",
        "      <td> 200</td>\n",
        "      <td>                  NaN</td>\n",
        "    </tr>\n",
        "    <tr>\n",
        "      <th>32</th>\n",
        "      <td> HYDRO-COAT</td>\n",
        "      <td> Novel high pressure water hydraulic equipment ...</td>\n",
        "      <td>       http://hydrocoat.eu/</td>\n",
        "      <td> 301</td>\n",
        "      <td> http://hydrocoat.eu/</td>\n",
        "    </tr>\n",
        "    <tr>\n",
        "      <th>33</th>\n",
        "      <td>     NACLIM</td>\n",
        "      <td> North Atlantic Climate Predictability of the c...</td>\n",
        "      <td>       http://www.naclim.eu</td>\n",
        "      <td> 200</td>\n",
        "      <td>                  NaN</td>\n",
        "    </tr>\n",
        "    <tr>\n",
        "      <th>34</th>\n",
        "      <td>   IMAGINES</td>\n",
        "      <td> Implementation of Multi scale Agricultural Ind...</td>\n",
        "      <td> http://www.fp7-imagines.eu</td>\n",
        "      <td> 200</td>\n",
        "      <td>                  NaN</td>\n",
        "    </tr>\n",
        "  </tbody>\n",
        "</table>\n",
        "</div>"
       ],
       "metadata": {},
       "output_type": "pyout",
       "prompt_number": 325,
       "text": [
        "       acronym                                              title  \\\n",
        "30   NANOVALID  Development of reference methods for hazard id...   \n",
        "31     BACCHUS  Beneficial effects of dietary bioactive peptid...   \n",
        "32  HYDRO-COAT  Novel high pressure water hydraulic equipment ...   \n",
        "33      NACLIM  North Atlantic Climate Predictability of the c...   \n",
        "34    IMAGINES  Implementation of Multi scale Agricultural Ind...   \n",
        "\n",
        "                    projectUrl return_code          redirect_url  \n",
        "30     http://www.nanovalid.eu         200                   NaN  \n",
        "31  http://www.bacchus-fp7.eu/         200                   NaN  \n",
        "32        http://hydrocoat.eu/         301  http://hydrocoat.eu/  \n",
        "33        http://www.naclim.eu         200                   NaN  \n",
        "34  http://www.fp7-imagines.eu         200                   NaN  "
       ]
      }
     ],
     "prompt_number": 325
    },
    {
     "cell_type": "code",
     "collapsed": false,
     "input": [
      "df[['acronym','title','projectUrl']].to_csv('processed-dataset-phase4.csv', index = False)"
     ],
     "language": "python",
     "metadata": {},
     "outputs": [],
     "prompt_number": 326
    },
    {
     "cell_type": "markdown",
     "metadata": {},
     "source": [
      "### Normalizar URLs "
     ]
    },
    {
     "cell_type": "code",
     "collapsed": false,
     "input": [
      "df = pd.read_csv('processed-dataset-phase4.csv', sep =',', quotechar = '\"', index_col=False, usecols = [\"acronym\", \"title\", \"projectUrl\"])"
     ],
     "language": "python",
     "metadata": {},
     "outputs": [],
     "prompt_number": 327
    },
    {
     "cell_type": "code",
     "collapsed": false,
     "input": [
      "from urlparse import * \n",
      "\n",
      "def normalize_urls(urlstring):    \n",
      "    url_params = ''\n",
      "    url_query = ''\n",
      "    url_fragment = ''\n",
      "    url_path = '/'\n",
      "    url = urlparse(urlstring)    \n",
      "\n",
      "    url_normalized = '{url.scheme}://{url.netloc}'.format(url = urlparse(urlstring))\n",
      "\n",
      "    if (url.path != ''):\n",
      "        url_path = '{url.path}'.format(url = urlparse(urlstring))    \n",
      "    if (url.params != ''):\n",
      "        url_params = ';{url.params}'.format(url = urlparse(urlstring))    \n",
      "    elif (url.query != ''):\n",
      "        url_query = '?{url.query}'.format(url = urlparse(urlstring))\n",
      "    elif (url.fragment != ''):\n",
      "        url_query = '#{url.fragment}'.format(url = urlparse(urlstring))\n",
      "\n",
      "    url_normalized = url_normalized + url_path + url_params + url_query + url_fragment\n",
      "    return url_normalized\n",
      "\n",
      "for index, row in df.iterrows():    \n",
      "    df.ix[index]['projectUrl'] = normalize_urls(row['projectUrl'])"
     ],
     "language": "python",
     "metadata": {},
     "outputs": [],
     "prompt_number": 328
    },
    {
     "cell_type": "markdown",
     "metadata": {},
     "source": [
      "# Sample of CSV at phase5"
     ]
    },
    {
     "cell_type": "code",
     "collapsed": false,
     "input": [
      "df[30:35]"
     ],
     "language": "python",
     "metadata": {},
     "outputs": [
      {
       "html": [
        "<div style=\"max-height:1000px;max-width:1500px;overflow:auto;\">\n",
        "<table border=\"1\" class=\"dataframe\">\n",
        "  <thead>\n",
        "    <tr style=\"text-align: right;\">\n",
        "      <th></th>\n",
        "      <th>acronym</th>\n",
        "      <th>title</th>\n",
        "      <th>projectUrl</th>\n",
        "    </tr>\n",
        "  </thead>\n",
        "  <tbody>\n",
        "    <tr>\n",
        "      <th>30</th>\n",
        "      <td>  NANOVALID</td>\n",
        "      <td> Development of reference methods for hazard id...</td>\n",
        "      <td>    http://www.nanovalid.eu/</td>\n",
        "    </tr>\n",
        "    <tr>\n",
        "      <th>31</th>\n",
        "      <td>    BACCHUS</td>\n",
        "      <td> Beneficial effects of dietary bioactive peptid...</td>\n",
        "      <td>  http://www.bacchus-fp7.eu/</td>\n",
        "    </tr>\n",
        "    <tr>\n",
        "      <th>32</th>\n",
        "      <td> HYDRO-COAT</td>\n",
        "      <td> Novel high pressure water hydraulic equipment ...</td>\n",
        "      <td>        http://hydrocoat.eu/</td>\n",
        "    </tr>\n",
        "    <tr>\n",
        "      <th>33</th>\n",
        "      <td>     NACLIM</td>\n",
        "      <td> North Atlantic Climate Predictability of the c...</td>\n",
        "      <td>       http://www.naclim.eu/</td>\n",
        "    </tr>\n",
        "    <tr>\n",
        "      <th>34</th>\n",
        "      <td>   IMAGINES</td>\n",
        "      <td> Implementation of Multi scale Agricultural Ind...</td>\n",
        "      <td> http://www.fp7-imagines.eu/</td>\n",
        "    </tr>\n",
        "  </tbody>\n",
        "</table>\n",
        "</div>"
       ],
       "metadata": {},
       "output_type": "pyout",
       "prompt_number": 329,
       "text": [
        "       acronym                                              title  \\\n",
        "30   NANOVALID  Development of reference methods for hazard id...   \n",
        "31     BACCHUS  Beneficial effects of dietary bioactive peptid...   \n",
        "32  HYDRO-COAT  Novel high pressure water hydraulic equipment ...   \n",
        "33      NACLIM  North Atlantic Climate Predictability of the c...   \n",
        "34    IMAGINES  Implementation of Multi scale Agricultural Ind...   \n",
        "\n",
        "                     projectUrl  \n",
        "30     http://www.nanovalid.eu/  \n",
        "31   http://www.bacchus-fp7.eu/  \n",
        "32         http://hydrocoat.eu/  \n",
        "33        http://www.naclim.eu/  \n",
        "34  http://www.fp7-imagines.eu/  "
       ]
      }
     ],
     "prompt_number": 329
    },
    {
     "cell_type": "code",
     "collapsed": false,
     "input": [
      "df.to_csv('processed-dataset-phase5.csv', index = False)"
     ],
     "language": "python",
     "metadata": {},
     "outputs": [],
     "prompt_number": 330
    },
    {
     "cell_type": "code",
     "collapsed": false,
     "input": [],
     "language": "python",
     "metadata": {},
     "outputs": []
    }
   ],
   "metadata": {}
  }
 ]
}