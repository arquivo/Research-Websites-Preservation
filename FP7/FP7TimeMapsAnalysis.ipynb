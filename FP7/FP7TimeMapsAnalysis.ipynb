{
 "metadata": {
  "name": "",
  "signature": "sha256:38fc5e63dd59f9e47ba73bb4fb0bd35f67ccca2dbdc21dc34567a0d5e7a23898"
 },
 "nbformat": 3,
 "nbformat_minor": 0,
 "worksheets": [
  {
   "cells": [
    {
     "cell_type": "code",
     "collapsed": false,
     "input": [
      "import matplotlib.pyplot as plt\n",
      "import pandas as pd\n",
      "import numpy as np\n",
      "import os\n",
      "import json\n",
      "import datetime\n",
      "from pprint import pprint\n",
      "%matplotlib inline"
     ],
     "language": "python",
     "metadata": {},
     "outputs": [],
     "prompt_number": 1
    },
    {
     "cell_type": "code",
     "collapsed": false,
     "input": [
      "# build mementos on FP6program online\n",
      "\n",
      "max_year = '2006'\n",
      "min_year = '2002'\n",
      "\n",
      "timemaps_structure = {}\n",
      "\n",
      "for timemap_file in os.listdir('./mementos'):           \n",
      "    with open('./mementos/' + timemap_file) as timemap:    \n",
      "        timemap_json = json.load(timemap)                            \n",
      "        original_uri = timemap_json['original_uri']        \n",
      "        if timemap_json.get('mementos',0) != 0:\n",
      "            all_mementos = timemap_json['mementos']['list']         \n",
      "            accepted_mementos = []\n",
      "            for memento in all_mementos:                \n",
      "                date_string = memento['datetime']                \n",
      "                date = datetime.datetime.strptime(date_string, \"%Y-%m-%dT%H:%M:%S%fZ\")\n",
      "                if (int(date.year) >= int(min_year) and int(date.year) <= int(max_year)):\n",
      "                    accepted_mementos.append(memento)        \n",
      "            timemaps_structure[original_uri] = accepted_mementos"
     ],
     "language": "python",
     "metadata": {},
     "outputs": [],
     "prompt_number": 2
    },
    {
     "cell_type": "code",
     "collapsed": false,
     "input": [
      "iterator = timemaps_structure.iteritems()\n",
      "count = 0\n",
      "for uri,mementos in iterator:        \n",
      "    if mementos != []:        \n",
      "        count += 1        \n",
      "print \"Number of URIs with a version archived: %s\" % count            "
     ],
     "language": "python",
     "metadata": {},
     "outputs": [
      {
       "output_type": "stream",
       "stream": "stdout",
       "text": [
        "Number of URIs with a version archived: 323\n"
       ]
      }
     ],
     "prompt_number": 4
    },
    {
     "cell_type": "code",
     "collapsed": false,
     "input": [
      "memento"
     ],
     "language": "python",
     "metadata": {},
     "outputs": [
      {
       "metadata": {},
       "output_type": "pyout",
       "prompt_number": 44,
       "text": [
        "{u'datetime': u'2016-04-02T03:57:23Z',\n",
        " u'uri': u'http://web.archive.org/web/20160402035723/http://www.mermec.it/'}"
       ]
      }
     ],
     "prompt_number": 44
    },
    {
     "cell_type": "code",
     "collapsed": false,
     "input": [
      "# Mementos frequency distribution\n",
      "timemaps_frequency = {}\n",
      "\n",
      "iterator = timemaps_structure.iteritems()\n",
      "count = 0\n",
      "for uri,mementos in iterator:    \n",
      "    if mementos != []:\n",
      "        timemaps_frequency[uri] = len(mementos)\n",
      "#print \"Number of URIs without any version archived: %s\" % count "
     ],
     "language": "python",
     "metadata": {},
     "outputs": [],
     "prompt_number": 15
    },
    {
     "cell_type": "code",
     "collapsed": false,
     "input": [
      "max(timemaps_frequency, key=timemaps_frequency.get)\n",
      "timemaps_frequency['http://eurospin.mpg.de/']\n",
      "\n",
      "plt.hist(timemaps_frequency.values(),600,range=[1, 100])"
     ],
     "language": "python",
     "metadata": {},
     "outputs": [
      {
       "ename": "ValueError",
       "evalue": "max() arg is an empty sequence",
       "output_type": "pyerr",
       "traceback": [
        "\u001b[1;31m---------------------------------------------------------------------------\u001b[0m\n\u001b[1;31mValueError\u001b[0m                                Traceback (most recent call last)",
        "\u001b[1;32m<ipython-input-16-94aa687359d0>\u001b[0m in \u001b[0;36m<module>\u001b[1;34m()\u001b[0m\n\u001b[1;32m----> 1\u001b[1;33m \u001b[0mmax\u001b[0m\u001b[1;33m(\u001b[0m\u001b[0mtimemaps_frequency\u001b[0m\u001b[1;33m,\u001b[0m \u001b[0mkey\u001b[0m\u001b[1;33m=\u001b[0m\u001b[0mtimemaps_frequency\u001b[0m\u001b[1;33m.\u001b[0m\u001b[0mget\u001b[0m\u001b[1;33m)\u001b[0m\u001b[1;33m\u001b[0m\u001b[0m\n\u001b[0m\u001b[0;32m      2\u001b[0m \u001b[0mtimemaps_frequency\u001b[0m\u001b[1;33m[\u001b[0m\u001b[1;34m'http://eurospin.mpg.de/'\u001b[0m\u001b[1;33m]\u001b[0m\u001b[1;33m\u001b[0m\u001b[0m\n\u001b[0;32m      3\u001b[0m \u001b[1;33m\u001b[0m\u001b[0m\n\u001b[0;32m      4\u001b[0m \u001b[0mplt\u001b[0m\u001b[1;33m.\u001b[0m\u001b[0mhist\u001b[0m\u001b[1;33m(\u001b[0m\u001b[0mtimemaps_frequency\u001b[0m\u001b[1;33m.\u001b[0m\u001b[0mvalues\u001b[0m\u001b[1;33m(\u001b[0m\u001b[1;33m)\u001b[0m\u001b[1;33m,\u001b[0m\u001b[1;36m600\u001b[0m\u001b[1;33m,\u001b[0m\u001b[0mrange\u001b[0m\u001b[1;33m=\u001b[0m\u001b[1;33m[\u001b[0m\u001b[1;36m1\u001b[0m\u001b[1;33m,\u001b[0m \u001b[1;36m100\u001b[0m\u001b[1;33m]\u001b[0m\u001b[1;33m)\u001b[0m\u001b[1;33m\u001b[0m\u001b[0m\n",
        "\u001b[1;31mValueError\u001b[0m: max() arg is an empty sequence"
       ]
      }
     ],
     "prompt_number": 16
    },
    {
     "cell_type": "code",
     "collapsed": false,
     "input": [
      "from urlparse import urlparse\n",
      "import re\n",
      "\n",
      "domains = []\n",
      "\n",
      "iterator = timemaps_structure.iteritems()\n",
      "domains_not_archived = []\n",
      "domains_archived = []\n",
      "for uri,mementos in iterator:    \n",
      "    if mementos == []:\n",
      "        url = urlparse(uri)\n",
      "        url_parsed = url.netloc.split('.')\n",
      "        domains_not_archived.append(url_parsed[len(url_parsed) - 1])\n",
      "    else:\n",
      "        url = urlparse(uri)\n",
      "        url_parsed = url.netloc.split('.')\n",
      "        domains_archived.append(url_parsed[len(url_parsed) - 1])\n",
      "#print \"Number of URIs without any version archived: %s\" % count "
     ],
     "language": "python",
     "metadata": {},
     "outputs": [],
     "prompt_number": 17
    },
    {
     "cell_type": "code",
     "collapsed": false,
     "input": [
      "from collections import Counter\n",
      "counter_not_archived = Counter(domains_not_archived)\n",
      "counter_archived = Counter(domains_archived)"
     ],
     "language": "python",
     "metadata": {},
     "outputs": [],
     "prompt_number": 18
    },
    {
     "cell_type": "code",
     "collapsed": false,
     "input": [
      "counter_not_archived"
     ],
     "language": "python",
     "metadata": {},
     "outputs": [
      {
       "metadata": {},
       "output_type": "pyout",
       "prompt_number": 19,
       "text": [
        "Counter({u'org': 670, u'eu': 343, u'com': 168, u'net': 149, u'de': 106, u'uk': 81, u'it': 54, u'fr': 50, u'gr': 41, u'info': 38, u'pl': 35, u'se': 30, u'es': 29, u'nl': 29, u'ie': 26, u'be': 22, u'ch': 18, u'fi': 18, u'at': 16, u'dk': 15, u'edu': 13, u'no': 13, u'hu': 11, u'pt': 10, u'il': 6, u'cz': 5, u'ee': 4, u'tr': 4, u'int': 4, u'ro': 4, u'bg': 4, u'lv': 3, u'si': 3, u'cc': 2, u'sk': 2, u'is': 1, u'62': 1, u'66': 1, u'ru': 1, u'tv': 1, u'lt': 1, u'org:8080': 1, u'nu': 1, u'hr': 1, u'fr:9098': 1, u'92': 1, u'gov': 1, u'cy': 1, u'cat': 1, u'mt': 1, u'SE': 1, u'11': 1})"
       ]
      }
     ],
     "prompt_number": 19
    },
    {
     "cell_type": "code",
     "collapsed": false,
     "input": [
      "counter_archived"
     ],
     "language": "python",
     "metadata": {},
     "outputs": [
      {
       "metadata": {},
       "output_type": "pyout",
       "prompt_number": 20,
       "text": [
        "Counter()"
       ]
      }
     ],
     "prompt_number": 20
    },
    {
     "cell_type": "code",
     "collapsed": false,
     "input": [
      "counter_not_archived['eu'] / 178."
     ],
     "language": "python",
     "metadata": {},
     "outputs": [
      {
       "metadata": {},
       "output_type": "pyout",
       "prompt_number": 21,
       "text": [
        "1.9269662921348314"
       ]
      }
     ],
     "prompt_number": 21
    },
    {
     "cell_type": "markdown",
     "metadata": {},
     "source": [
      "# Web Archives Distribution"
     ]
    },
    {
     "cell_type": "code",
     "collapsed": false,
     "input": [
      "# Mementos frequency distribution\n",
      "list_mementos = []\n",
      "\n",
      "iterator = timemaps_structure.iteritems()\n",
      "count = 0\n",
      "for uri,mementos in iterator:    \n",
      "    if mementos != []:\n",
      "        for m in mementos:\n",
      "            list_mementos.append(m)\n",
      "#print \"Number of URIs without any version archived: %s\" % count "
     ],
     "language": "python",
     "metadata": {},
     "outputs": [],
     "prompt_number": 108
    },
    {
     "cell_type": "code",
     "collapsed": false,
     "input": [
      "web_archives = []\n",
      "for memento in list_mementos:\n",
      "    web_archives.append(memento['uri'].split('/')[2])\n",
      "\n",
      "web_archives_distribution = Counter(web_archives)    "
     ],
     "language": "python",
     "metadata": {},
     "outputs": [],
     "prompt_number": 115
    },
    {
     "cell_type": "code",
     "collapsed": false,
     "input": [
      "web_archives_distribution"
     ],
     "language": "python",
     "metadata": {},
     "outputs": [
      {
       "metadata": {},
       "output_type": "pyout",
       "prompt_number": 116,
       "text": [
        "Counter({u'web.archive.org': 9302, u'webarchive.loc.gov': 293, u'wayback.archive-it.org': 144, u'archive.is': 95, u'web.archive.bibalex.org:80': 50, u'www.webcitation.org': 35, u'webarchive.nationalarchives.gov.uk': 22, u'arquivo.pt': 12, u'www.webarchive.org.uk:80': 8})"
       ]
      }
     ],
     "prompt_number": 116
    },
    {
     "cell_type": "code",
     "collapsed": false,
     "input": [
      "len(list_mementos)"
     ],
     "language": "python",
     "metadata": {},
     "outputs": [
      {
       "metadata": {},
       "output_type": "pyout",
       "prompt_number": 117,
       "text": [
        "9961"
       ]
      }
     ],
     "prompt_number": 117
    },
    {
     "cell_type": "code",
     "collapsed": false,
     "input": [
      "plt.bar(range(len(web_archives_distribution)), web_archives_distribution.values(), align='center',)\n",
      "plt.xticks(range(len(web_archives_distribution)), web_archives_distribution.keys(),  rotation='vertical')"
     ],
     "language": "python",
     "metadata": {},
     "outputs": [
      {
       "metadata": {},
       "output_type": "pyout",
       "prompt_number": 125,
       "text": [
        "([<matplotlib.axis.XTick at 0x7fa9eee10d90>,\n",
        "  <matplotlib.axis.XTick at 0x7fa9ef0bf590>,\n",
        "  <matplotlib.axis.XTick at 0x7fa9eed9b450>,\n",
        "  <matplotlib.axis.XTick at 0x7fa9eed4e6d0>,\n",
        "  <matplotlib.axis.XTick at 0x7fa9eed4ee10>,\n",
        "  <matplotlib.axis.XTick at 0x7fa9eed57590>,\n",
        "  <matplotlib.axis.XTick at 0x7fa9eed57cd0>,\n",
        "  <matplotlib.axis.XTick at 0x7fa9eed60450>,\n",
        "  <matplotlib.axis.XTick at 0x7fa9eed60b90>],\n",
        " <a list of 9 Text xticklabel objects>)"
       ]
      },
      {
       "metadata": {},
       "output_type": "display_data",
       "png": "[encoded data removed]",
       "text": [
        "<matplotlib.figure.Figure at 0x7fa9eee22ed0>"
       ]
      }
     ],
     "prompt_number": 125
    },
    {
     "cell_type": "code",
     "collapsed": false,
     "input": [
      "9032/9961."
     ],
     "language": "python",
     "metadata": {},
     "outputs": [
      {
       "metadata": {},
       "output_type": "pyout",
       "prompt_number": 126,
       "text": [
        "0.9067362714586888"
       ]
      }
     ],
     "prompt_number": 126
    },
    {
     "cell_type": "markdown",
     "metadata": {},
     "source": [
      "# FP6 Archvived versions location distribution"
     ]
    },
    {
     "cell_type": "code",
     "collapsed": false,
     "input": [
      "iterator = timemaps_structure.iteritems()\n",
      "count = 0\n",
      "rows_list = []\n",
      "for uri,mementos in iterator:     \n",
      "    if mementos != []:        \n",
      "        dictrow = {}    \n",
      "        dictrow['URI-O'] = uri\n",
      "        for m in mementos:        \n",
      "            dictrow[m['uri'].split('/')[2]] = 1\n",
      "        rows_list.append(dictrow)"
     ],
     "language": "python",
     "metadata": {},
     "outputs": [],
     "prompt_number": 5
    },
    {
     "cell_type": "code",
     "collapsed": false,
     "input": [
      "df = pd.DataFrame(rows_list)\n",
      "df.count() / 715 * 100"
     ],
     "language": "python",
     "metadata": {},
     "outputs": [
      {
       "metadata": {},
       "output_type": "pyout",
       "prompt_number": 7,
       "text": [
        "URI-O                         45.174825\n",
        "archive.is                     0.559441\n",
        "arquivo.pt                     0.279720\n",
        "wayback.vefsafn.is             0.279720\n",
        "web.archive.bibalex.org:80    31.608392\n",
        "web.archive.org               45.034965\n",
        "webarchive.loc.gov             0.979021\n",
        "www.webcitation.org            0.139860\n",
        "dtype: float64"
       ]
      }
     ],
     "prompt_number": 7
    },
    {
     "cell_type": "code",
     "collapsed": false,
     "input": [],
     "language": "python",
     "metadata": {},
     "outputs": []
    }
   ],
   "metadata": {}
  }
 ]
}