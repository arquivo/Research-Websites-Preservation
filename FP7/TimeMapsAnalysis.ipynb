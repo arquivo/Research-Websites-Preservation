{
 "cells": [
  {
   "cell_type": "code",
   "execution_count": 2,
   "metadata": {
    "collapsed": false
   },
   "outputs": [],
   "source": [
    "import matplotlib.pyplot as plt\n",
    "import pandas as pd\n",
    "import numpy as np\n",
    "import os\n",
    "import json\n",
    "import datetime\n",
    "from pprint import pprint\n",
    "%matplotlib inline"
   ]
  },
  {
   "cell_type": "code",
   "execution_count": 3,
   "metadata": {
    "collapsed": false
   },
   "outputs": [],
   "source": [
    "# build mementos on FP7 program online\n",
    "\n",
    "max_year = '2013'\n",
    "min_year = '2007'\n",
    "\n",
    "timemaps_structure = {}\n",
    "\n",
    "for timemap_file in os.listdir('./mementos_all_with_url'):           \n",
    "    with open('./mementos_all_with_url/' + timemap_file) as timemap:    \n",
    "        timemap_json = json.load(timemap)                            \n",
    "        original_uri = timemap_json['original_uri']        \n",
    "        if timemap_json.get('mementos',0) != 0:\n",
    "            all_mementos = timemap_json['mementos']['list']         \n",
    "            accepted_mementos = []\n",
    "            for memento in all_mementos:                \n",
    "                date_string = memento['datetime']                \n",
    "                date = datetime.datetime.strptime(date_string, \"%Y-%m-%dT%H:%M:%S%fZ\")\n",
    "                if (int(date.year) >= int(min_year) and int(date.year) <= int(max_year)):\n",
    "                    accepted_mementos.append(memento)        \n",
    "            timemaps_structure[original_uri] = accepted_mementos"
   ]
  },
  {
   "cell_type": "code",
   "execution_count": 4,
   "metadata": {
    "collapsed": false
   },
   "outputs": [
    {
     "data": {
      "text/plain": [
       "u'http://www.gmes-graal.eu/'"
      ]
     },
     "execution_count": 4,
     "metadata": {},
     "output_type": "execute_result"
    }
   ],
   "source": [
    "original_uri"
   ]
  },
  {
   "cell_type": "code",
   "execution_count": 5,
   "metadata": {
    "collapsed": false
   },
   "outputs": [
    {
     "name": "stdout",
     "output_type": "stream",
     "text": [
      "Number of URIs with a version archived: 1593\n"
     ]
    }
   ],
   "source": [
    "iterator = timemaps_structure.iteritems()\n",
    "count = 0\n",
    "for uri,mementos in iterator:    \n",
    "    if mementos != []:        \n",
    "        count += 1        \n",
    "print \"Number of URIs with a version archived: %s\" % count            "
   ]
  },
  {
   "cell_type": "code",
   "execution_count": 7,
   "metadata": {
    "collapsed": false
   },
   "outputs": [],
   "source": [
    "# Mementos frequency distribution\n",
    "timemaps_frequency = {}\n",
    "\n",
    "iterator = timemaps_structure.iteritems()\n",
    "count = 0\n",
    "for uri,mementos in iterator:    \n",
    "    if mementos != []:\n",
    "        timemaps_frequency[uri] = len(mementos)\n",
    "#print \"Number of URIs without any version archived: %s\" % count "
   ]
  },
  {
   "cell_type": "code",
   "execution_count": 8,
   "metadata": {
    "collapsed": false
   },
   "outputs": [
    {
     "data": {
      "text/plain": [
       "(array([ 195.,    0.,    0.,    0.,    0.,    0.,  195.,    0.,    0.,\n",
       "           0.,    0.,    0.,  183.,    0.,    0.,    0.,    0.,    0.,\n",
       "         138.,    0.,    0.,    0.,    0.,    0.,  145.,    0.,    0.,\n",
       "           0.,    0.,    0.,   99.,    0.,    0.,    0.,    0.,    0.,\n",
       "          90.,    0.,    0.,    0.,    0.,    0.,   74.,    0.,    0.,\n",
       "           0.,    0.,    0.,   69.,    0.,    0.,    0.,    0.,    0.,\n",
       "          48.,    0.,    0.,    0.,    0.,    0.,   42.,    0.,    0.,\n",
       "           0.,    0.,    0.,   32.,    0.,    0.,    0.,    0.,    0.,\n",
       "          26.,    0.,    0.,    0.,    0.,    0.,   25.,    0.,    0.,\n",
       "           0.,    0.,    0.,   20.,    0.,    0.,    0.,    0.,    0.,\n",
       "          19.,    0.,    0.,    0.,    0.,    0.,   20.,    0.,    0.,\n",
       "           0.,    0.,    0.,    0.,   14.,    0.,    0.,    0.,    0.,\n",
       "           0.,   12.,    0.,    0.,    0.,    0.,    0.,   10.,    0.,\n",
       "           0.,    0.,    0.,    0.,    8.,    0.,    0.,    0.,    0.,\n",
       "           0.,   11.,    0.,    0.,    0.,    0.,    0.,    6.,    0.,\n",
       "           0.,    0.,    0.,    0.,    9.,    0.,    0.,    0.,    0.,\n",
       "           0.,    5.,    0.,    0.,    0.,    0.,    0.,    6.,    0.,\n",
       "           0.,    0.,    0.,    0.,    8.,    0.,    0.,    0.,    0.,\n",
       "           0.,    4.,    0.,    0.,    0.,    0.,    0.,    7.,    0.,\n",
       "           0.,    0.,    0.,    0.,    2.,    0.,    0.,    0.,    0.,\n",
       "           0.,    6.,    0.,    0.,    0.,    0.,    0.,    8.,    0.,\n",
       "           0.,    0.,    0.,    0.,    4.,    0.,    0.,    0.,    0.,\n",
       "           0.,    0.,    3.,    0.,    0.,    0.,    0.,    0.,    2.,\n",
       "           0.,    0.,    0.,    0.,    0.,    3.,    0.,    0.,    0.,\n",
       "           0.,    0.,    4.,    0.,    0.,    0.,    0.,    0.,    4.,\n",
       "           0.,    0.,    0.,    0.,    0.,    1.,    0.,    0.,    0.,\n",
       "           0.,    0.,    1.,    0.,    0.,    0.,    0.,    0.,    1.,\n",
       "           0.,    0.,    0.,    0.,    0.,    1.,    0.,    0.,    0.,\n",
       "           0.,    0.,    1.,    0.,    0.,    0.,    0.,    0.,    0.,\n",
       "           0.,    0.,    0.,    0.,    0.,    1.,    0.,    0.,    0.,\n",
       "           0.,    0.,    2.,    0.,    0.,    0.,    0.,    0.,    0.,\n",
       "           0.,    0.,    0.,    0.,    0.,    0.,    0.,    0.,    0.,\n",
       "           0.,    0.,    0.,    0.,    0.,    0.,    0.,    0.,    1.,\n",
       "           0.,    0.,    0.,    0.,    0.,    0.,    0.,    0.,    0.,\n",
       "           0.,    0.,    0.,    0.,    0.,    0.,    0.,    0.,    0.,\n",
       "           1.,    0.,    0.,    0.,    0.,    0.,    2.,    0.,    0.,\n",
       "           0.,    0.,    0.,    0.,    0.,    0.,    0.,    0.,    0.,\n",
       "           0.,    0.,    0.,    0.,    0.,    0.,    1.,    0.,    0.,\n",
       "           0.,    0.,    0.,    0.,    0.,    0.,    0.,    0.,    0.,\n",
       "           1.,    0.,    0.,    0.,    0.,    0.,    1.,    0.,    0.,\n",
       "           0.,    0.,    0.,    0.,    0.,    0.,    0.,    0.,    0.,\n",
       "           1.,    0.,    0.,    0.,    0.,    0.,    1.,    0.,    0.,\n",
       "           0.,    0.,    0.,    0.,    0.,    0.,    0.,    0.,    0.,\n",
       "           0.,    0.,    0.,    0.,    0.,    0.,    0.,    0.,    0.,\n",
       "           0.,    0.,    0.,    0.,    0.,    0.,    0.,    0.,    0.,\n",
       "           0.,    0.,    0.,    0.,    0.,    0.,    0.,    0.,    0.,\n",
       "           0.,    0.,    0.,    0.,    1.,    0.,    0.,    0.,    0.,\n",
       "           0.,    3.,    0.,    0.,    0.,    0.,    0.,    1.,    0.,\n",
       "           0.,    0.,    0.,    0.,    0.,    0.,    0.,    0.,    0.,\n",
       "           0.,    0.,    0.,    0.,    0.,    0.,    0.,    0.,    0.,\n",
       "           0.,    0.,    0.,    0.,    1.,    0.,    0.,    0.,    0.,\n",
       "           0.,    1.,    0.,    0.,    0.,    0.,    0.,    0.,    0.,\n",
       "           0.,    0.,    0.,    0.,    1.,    0.,    0.,    0.,    0.,\n",
       "           0.,    0.,    0.,    0.,    0.,    0.,    0.,    0.,    0.,\n",
       "           0.,    0.,    0.,    0.,    0.,    0.,    0.,    0.,    0.,\n",
       "           0.,    1.,    0.,    0.,    0.,    0.,    0.,    0.,    0.,\n",
       "           0.,    0.,    0.,    0.,    0.,    0.,    0.,    0.,    0.,\n",
       "           0.,    0.,    0.,    0.,    0.,    0.,    0.,    0.,    0.,\n",
       "           0.,    0.,    0.,    0.,    0.,    0.,    0.,    0.,    0.,\n",
       "           0.,    0.,    0.,    0.,    0.,    0.,    0.,    0.,    0.,\n",
       "           0.,    0.,    0.,    0.,    0.,    0.,    0.,    0.,    0.,\n",
       "           0.,    0.,    0.,    0.,    0.,    0.,    0.,    0.,    0.,\n",
       "           0.,    0.,    0.,    0.,    0.,    0.,    0.,    0.,    0.,\n",
       "           0.,    0.,    0.,    0.,    0.,    0.,    0.,    0.,    0.,\n",
       "           0.,    0.,    0.,    0.,    0.,    0.,    0.,    0.,    0.,\n",
       "           0.,    0.,    0.,    0.,    0.,    0.,    0.,    0.,    0.,\n",
       "           0.,    0.,    0.,    0.,    0.,    0.]),\n",
       " array([   1.   ,    1.165,    1.33 ,    1.495,    1.66 ,    1.825,\n",
       "           1.99 ,    2.155,    2.32 ,    2.485,    2.65 ,    2.815,\n",
       "           2.98 ,    3.145,    3.31 ,    3.475,    3.64 ,    3.805,\n",
       "           3.97 ,    4.135,    4.3  ,    4.465,    4.63 ,    4.795,\n",
       "           4.96 ,    5.125,    5.29 ,    5.455,    5.62 ,    5.785,\n",
       "           5.95 ,    6.115,    6.28 ,    6.445,    6.61 ,    6.775,\n",
       "           6.94 ,    7.105,    7.27 ,    7.435,    7.6  ,    7.765,\n",
       "           7.93 ,    8.095,    8.26 ,    8.425,    8.59 ,    8.755,\n",
       "           8.92 ,    9.085,    9.25 ,    9.415,    9.58 ,    9.745,\n",
       "           9.91 ,   10.075,   10.24 ,   10.405,   10.57 ,   10.735,\n",
       "          10.9  ,   11.065,   11.23 ,   11.395,   11.56 ,   11.725,\n",
       "          11.89 ,   12.055,   12.22 ,   12.385,   12.55 ,   12.715,\n",
       "          12.88 ,   13.045,   13.21 ,   13.375,   13.54 ,   13.705,\n",
       "          13.87 ,   14.035,   14.2  ,   14.365,   14.53 ,   14.695,\n",
       "          14.86 ,   15.025,   15.19 ,   15.355,   15.52 ,   15.685,\n",
       "          15.85 ,   16.015,   16.18 ,   16.345,   16.51 ,   16.675,\n",
       "          16.84 ,   17.005,   17.17 ,   17.335,   17.5  ,   17.665,\n",
       "          17.83 ,   17.995,   18.16 ,   18.325,   18.49 ,   18.655,\n",
       "          18.82 ,   18.985,   19.15 ,   19.315,   19.48 ,   19.645,\n",
       "          19.81 ,   19.975,   20.14 ,   20.305,   20.47 ,   20.635,\n",
       "          20.8  ,   20.965,   21.13 ,   21.295,   21.46 ,   21.625,\n",
       "          21.79 ,   21.955,   22.12 ,   22.285,   22.45 ,   22.615,\n",
       "          22.78 ,   22.945,   23.11 ,   23.275,   23.44 ,   23.605,\n",
       "          23.77 ,   23.935,   24.1  ,   24.265,   24.43 ,   24.595,\n",
       "          24.76 ,   24.925,   25.09 ,   25.255,   25.42 ,   25.585,\n",
       "          25.75 ,   25.915,   26.08 ,   26.245,   26.41 ,   26.575,\n",
       "          26.74 ,   26.905,   27.07 ,   27.235,   27.4  ,   27.565,\n",
       "          27.73 ,   27.895,   28.06 ,   28.225,   28.39 ,   28.555,\n",
       "          28.72 ,   28.885,   29.05 ,   29.215,   29.38 ,   29.545,\n",
       "          29.71 ,   29.875,   30.04 ,   30.205,   30.37 ,   30.535,\n",
       "          30.7  ,   30.865,   31.03 ,   31.195,   31.36 ,   31.525,\n",
       "          31.69 ,   31.855,   32.02 ,   32.185,   32.35 ,   32.515,\n",
       "          32.68 ,   32.845,   33.01 ,   33.175,   33.34 ,   33.505,\n",
       "          33.67 ,   33.835,   34.   ,   34.165,   34.33 ,   34.495,\n",
       "          34.66 ,   34.825,   34.99 ,   35.155,   35.32 ,   35.485,\n",
       "          35.65 ,   35.815,   35.98 ,   36.145,   36.31 ,   36.475,\n",
       "          36.64 ,   36.805,   36.97 ,   37.135,   37.3  ,   37.465,\n",
       "          37.63 ,   37.795,   37.96 ,   38.125,   38.29 ,   38.455,\n",
       "          38.62 ,   38.785,   38.95 ,   39.115,   39.28 ,   39.445,\n",
       "          39.61 ,   39.775,   39.94 ,   40.105,   40.27 ,   40.435,\n",
       "          40.6  ,   40.765,   40.93 ,   41.095,   41.26 ,   41.425,\n",
       "          41.59 ,   41.755,   41.92 ,   42.085,   42.25 ,   42.415,\n",
       "          42.58 ,   42.745,   42.91 ,   43.075,   43.24 ,   43.405,\n",
       "          43.57 ,   43.735,   43.9  ,   44.065,   44.23 ,   44.395,\n",
       "          44.56 ,   44.725,   44.89 ,   45.055,   45.22 ,   45.385,\n",
       "          45.55 ,   45.715,   45.88 ,   46.045,   46.21 ,   46.375,\n",
       "          46.54 ,   46.705,   46.87 ,   47.035,   47.2  ,   47.365,\n",
       "          47.53 ,   47.695,   47.86 ,   48.025,   48.19 ,   48.355,\n",
       "          48.52 ,   48.685,   48.85 ,   49.015,   49.18 ,   49.345,\n",
       "          49.51 ,   49.675,   49.84 ,   50.005,   50.17 ,   50.335,\n",
       "          50.5  ,   50.665,   50.83 ,   50.995,   51.16 ,   51.325,\n",
       "          51.49 ,   51.655,   51.82 ,   51.985,   52.15 ,   52.315,\n",
       "          52.48 ,   52.645,   52.81 ,   52.975,   53.14 ,   53.305,\n",
       "          53.47 ,   53.635,   53.8  ,   53.965,   54.13 ,   54.295,\n",
       "          54.46 ,   54.625,   54.79 ,   54.955,   55.12 ,   55.285,\n",
       "          55.45 ,   55.615,   55.78 ,   55.945,   56.11 ,   56.275,\n",
       "          56.44 ,   56.605,   56.77 ,   56.935,   57.1  ,   57.265,\n",
       "          57.43 ,   57.595,   57.76 ,   57.925,   58.09 ,   58.255,\n",
       "          58.42 ,   58.585,   58.75 ,   58.915,   59.08 ,   59.245,\n",
       "          59.41 ,   59.575,   59.74 ,   59.905,   60.07 ,   60.235,\n",
       "          60.4  ,   60.565,   60.73 ,   60.895,   61.06 ,   61.225,\n",
       "          61.39 ,   61.555,   61.72 ,   61.885,   62.05 ,   62.215,\n",
       "          62.38 ,   62.545,   62.71 ,   62.875,   63.04 ,   63.205,\n",
       "          63.37 ,   63.535,   63.7  ,   63.865,   64.03 ,   64.195,\n",
       "          64.36 ,   64.525,   64.69 ,   64.855,   65.02 ,   65.185,\n",
       "          65.35 ,   65.515,   65.68 ,   65.845,   66.01 ,   66.175,\n",
       "          66.34 ,   66.505,   66.67 ,   66.835,   67.   ,   67.165,\n",
       "          67.33 ,   67.495,   67.66 ,   67.825,   67.99 ,   68.155,\n",
       "          68.32 ,   68.485,   68.65 ,   68.815,   68.98 ,   69.145,\n",
       "          69.31 ,   69.475,   69.64 ,   69.805,   69.97 ,   70.135,\n",
       "          70.3  ,   70.465,   70.63 ,   70.795,   70.96 ,   71.125,\n",
       "          71.29 ,   71.455,   71.62 ,   71.785,   71.95 ,   72.115,\n",
       "          72.28 ,   72.445,   72.61 ,   72.775,   72.94 ,   73.105,\n",
       "          73.27 ,   73.435,   73.6  ,   73.765,   73.93 ,   74.095,\n",
       "          74.26 ,   74.425,   74.59 ,   74.755,   74.92 ,   75.085,\n",
       "          75.25 ,   75.415,   75.58 ,   75.745,   75.91 ,   76.075,\n",
       "          76.24 ,   76.405,   76.57 ,   76.735,   76.9  ,   77.065,\n",
       "          77.23 ,   77.395,   77.56 ,   77.725,   77.89 ,   78.055,\n",
       "          78.22 ,   78.385,   78.55 ,   78.715,   78.88 ,   79.045,\n",
       "          79.21 ,   79.375,   79.54 ,   79.705,   79.87 ,   80.035,\n",
       "          80.2  ,   80.365,   80.53 ,   80.695,   80.86 ,   81.025,\n",
       "          81.19 ,   81.355,   81.52 ,   81.685,   81.85 ,   82.015,\n",
       "          82.18 ,   82.345,   82.51 ,   82.675,   82.84 ,   83.005,\n",
       "          83.17 ,   83.335,   83.5  ,   83.665,   83.83 ,   83.995,\n",
       "          84.16 ,   84.325,   84.49 ,   84.655,   84.82 ,   84.985,\n",
       "          85.15 ,   85.315,   85.48 ,   85.645,   85.81 ,   85.975,\n",
       "          86.14 ,   86.305,   86.47 ,   86.635,   86.8  ,   86.965,\n",
       "          87.13 ,   87.295,   87.46 ,   87.625,   87.79 ,   87.955,\n",
       "          88.12 ,   88.285,   88.45 ,   88.615,   88.78 ,   88.945,\n",
       "          89.11 ,   89.275,   89.44 ,   89.605,   89.77 ,   89.935,\n",
       "          90.1  ,   90.265,   90.43 ,   90.595,   90.76 ,   90.925,\n",
       "          91.09 ,   91.255,   91.42 ,   91.585,   91.75 ,   91.915,\n",
       "          92.08 ,   92.245,   92.41 ,   92.575,   92.74 ,   92.905,\n",
       "          93.07 ,   93.235,   93.4  ,   93.565,   93.73 ,   93.895,\n",
       "          94.06 ,   94.225,   94.39 ,   94.555,   94.72 ,   94.885,\n",
       "          95.05 ,   95.215,   95.38 ,   95.545,   95.71 ,   95.875,\n",
       "          96.04 ,   96.205,   96.37 ,   96.535,   96.7  ,   96.865,\n",
       "          97.03 ,   97.195,   97.36 ,   97.525,   97.69 ,   97.855,\n",
       "          98.02 ,   98.185,   98.35 ,   98.515,   98.68 ,   98.845,\n",
       "          99.01 ,   99.175,   99.34 ,   99.505,   99.67 ,   99.835,  100.   ]),\n",
       " <a list of 600 Patch objects>)"
      ]
     },
     "execution_count": 8,
     "metadata": {},
     "output_type": "execute_result"
    },
    {
     "data": {
      "image/png": "[encoded data removed]",
      "text/plain": [
       "<matplotlib.figure.Figure at 0x7f9fe76d0b50>"
      ]
     },
     "metadata": {},
     "output_type": "display_data"
    }
   ],
   "source": [
    "# max(timemaps_frequency, key=timemaps_frequency.get)\n",
    "# timemaps_frequency['http://eurospin.mpg.de/']\n",
    "\n",
    "plt.hist(timemaps_frequency.values(),600,range=[1, 100])"
   ]
  },
  {
   "cell_type": "code",
   "execution_count": 9,
   "metadata": {
    "collapsed": false
   },
   "outputs": [],
   "source": [
    "from urlparse import urlparse\n",
    "import re\n",
    "\n",
    "domains = []\n",
    "\n",
    "iterator = timemaps_structure.iteritems()\n",
    "domains_not_archived = []\n",
    "domains_archived = []\n",
    "for uri,mementos in iterator:    \n",
    "    if mementos == []:\n",
    "        url = urlparse(uri)\n",
    "        url_parsed = url.netloc.split('.')\n",
    "        domains_not_archived.append(url_parsed[len(url_parsed) - 1])\n",
    "    else:\n",
    "        url = urlparse(uri)\n",
    "        url_parsed = url.netloc.split('.')\n",
    "        domains_archived.append(url_parsed[len(url_parsed) - 1])\n",
    "#print \"Number of URIs without any version archived: %s\" % count "
   ]
  },
  {
   "cell_type": "code",
   "execution_count": 10,
   "metadata": {
    "collapsed": false
   },
   "outputs": [],
   "source": [
    "from collections import Counter\n",
    "counter_not_archived = Counter(domains_not_archived)\n",
    "counter_archived = Counter(domains_archived)"
   ]
  },
  {
   "cell_type": "code",
   "execution_count": 11,
   "metadata": {
    "collapsed": false
   },
   "outputs": [
    {
     "data": {
      "text/plain": [
       "Counter({u'com': 6,\n",
       "         u'de': 2,\n",
       "         u'edu': 1,\n",
       "         u'es': 2,\n",
       "         u'eu': 155,\n",
       "         u'fi': 4,\n",
       "         u'il': 1,\n",
       "         u'it': 5,\n",
       "         u'net': 3,\n",
       "         u'nl': 1,\n",
       "         u'org': 10,\n",
       "         u'pt': 1,\n",
       "         u'se': 3,\n",
       "         u'uk': 4})"
      ]
     },
     "execution_count": 11,
     "metadata": {},
     "output_type": "execute_result"
    }
   ],
   "source": [
    "counter_not_archived"
   ]
  },
  {
   "cell_type": "code",
   "execution_count": 12,
   "metadata": {
    "collapsed": false
   },
   "outputs": [
    {
     "data": {
      "text/plain": [
       "Counter({u'aero': 1,\n",
       "         u'at': 6,\n",
       "         u'be': 12,\n",
       "         u'br': 1,\n",
       "         u'cat': 1,\n",
       "         u'ch': 6,\n",
       "         u'co': 1,\n",
       "         u'com': 122,\n",
       "         u'cz': 1,\n",
       "         u'de': 28,\n",
       "         u'dk': 7,\n",
       "         u'edu': 2,\n",
       "         u'ee': 2,\n",
       "         u'es': 9,\n",
       "         u'eu': 1061,\n",
       "         u'fi': 14,\n",
       "         u'fr': 13,\n",
       "         u'gr': 8,\n",
       "         u'hu': 2,\n",
       "         u'ie': 2,\n",
       "         u'il': 1,\n",
       "         u'in': 1,\n",
       "         u'info': 16,\n",
       "         u'is': 2,\n",
       "         u'it': 9,\n",
       "         u'lt': 1,\n",
       "         u'net': 40,\n",
       "         u'nl': 7,\n",
       "         u'no': 9,\n",
       "         u'nu': 1,\n",
       "         u'nz': 1,\n",
       "         u'org': 155,\n",
       "         u'pl': 3,\n",
       "         u'pt': 3,\n",
       "         u'ro': 1,\n",
       "         u'se': 8,\n",
       "         u'si': 1,\n",
       "         u'uk': 34,\n",
       "         u'za': 1})"
      ]
     },
     "execution_count": 12,
     "metadata": {},
     "output_type": "execute_result"
    }
   ],
   "source": [
    "counter_archived"
   ]
  },
  {
   "cell_type": "code",
   "execution_count": 13,
   "metadata": {
    "collapsed": false
   },
   "outputs": [
    {
     "data": {
      "text/plain": [
       "0.8707865168539326"
      ]
     },
     "execution_count": 13,
     "metadata": {},
     "output_type": "execute_result"
    }
   ],
   "source": [
    "counter_not_archived['eu'] / 178."
   ]
  },
  {
   "cell_type": "code",
   "execution_count": 14,
   "metadata": {
    "collapsed": false
   },
   "outputs": [
    {
     "data": {
      "image/png": "[encoded data removed]",
      "text/plain": [
       "<matplotlib.figure.Figure at 0x7f9fe45c1a90>"
      ]
     },
     "metadata": {},
     "output_type": "display_data"
    }
   ],
   "source": [
    "total_counter = counter_not_archived + counter_archived\n",
    "total_counter\n",
    "\n",
    "labels = 'eu', 'org', 'com','others'\n",
    "sizes = [total_counter['eu'], total_counter['org'], total_counter['com'],106+26+28+29]\n",
    "colors = ['yellowgreen', 'mediumpurple', 'lightskyblue', 'lightcoral']\n",
    "\n",
    "plt.pie(sizes,labels=labels,explode = (0.1,0,0,0),startangle=90,autopct='%1.f%%', colors = colors)\n",
    "plt.axis('equal')\n",
    "plt.savefig('domain_distribution.pdf', format='pdf', dpi=1200, bbox_inches='tight')"
   ]
  },
  {
   "cell_type": "markdown",
   "metadata": {},
   "source": [
    "# Web Archives Distribution"
   ]
  },
  {
   "cell_type": "code",
   "execution_count": 15,
   "metadata": {
    "collapsed": false
   },
   "outputs": [],
   "source": [
    "# Mementos frequency distribution\n",
    "list_mementos = []\n",
    "\n",
    "iterator = timemaps_structure.iteritems()\n",
    "count = 0\n",
    "for uri,mementos in iterator:    \n",
    "    if mementos != []:\n",
    "        for m in mementos:\n",
    "            list_mementos.append(m)\n",
    "#print \"Number of URIs without any version archived: %s\" % count "
   ]
  },
  {
   "cell_type": "code",
   "execution_count": 16,
   "metadata": {
    "collapsed": false
   },
   "outputs": [],
   "source": [
    "web_archives = []\n",
    "for memento in list_mementos:\n",
    "    web_archives.append(memento['uri'].split('/')[2])\n",
    "\n",
    "web_archives_distribution = Counter(web_archives)    "
   ]
  },
  {
   "cell_type": "code",
   "execution_count": 17,
   "metadata": {
    "collapsed": false
   },
   "outputs": [
    {
     "data": {
      "text/plain": [
       "Counter({u'arquivo.pt': 28,\n",
       "         u'collection.europarchive.org': 1,\n",
       "         u'wayback.archive-it.org': 185,\n",
       "         u'wayback.vefsafn.is': 198,\n",
       "         u'web.archive.bibalex.org:80': 91,\n",
       "         u'web.archive.org': 14016,\n",
       "         u'webarchive.loc.gov': 362,\n",
       "         u'webarchive.nationalarchives.gov.uk': 33,\n",
       "         u'webarchive.parliament.uk': 5,\n",
       "         u'www.padi.cat:8080': 2,\n",
       "         u'www.webarchive.org.uk:80': 16})"
      ]
     },
     "execution_count": 17,
     "metadata": {},
     "output_type": "execute_result"
    }
   ],
   "source": [
    "web_archives_distribution"
   ]
  },
  {
   "cell_type": "code",
   "execution_count": 18,
   "metadata": {
    "collapsed": false
   },
   "outputs": [
    {
     "data": {
      "text/plain": [
       "14937"
      ]
     },
     "execution_count": 18,
     "metadata": {},
     "output_type": "execute_result"
    }
   ],
   "source": [
    "len(list_mementos)"
   ]
  },
  {
   "cell_type": "code",
   "execution_count": 19,
   "metadata": {
    "collapsed": false
   },
   "outputs": [
    {
     "data": {
      "text/plain": [
       "([<matplotlib.axis.XTick at 0x7f9fe352a5d0>,\n",
       "  <matplotlib.axis.XTick at 0x7f9fe352f550>,\n",
       "  <matplotlib.axis.XTick at 0x7f9fe34e9a50>,\n",
       "  <matplotlib.axis.XTick at 0x7f9fe34a7a50>,\n",
       "  <matplotlib.axis.XTick at 0x7f9fe34b41d0>,\n",
       "  <matplotlib.axis.XTick at 0x7f9fe34b4910>,\n",
       "  <matplotlib.axis.XTick at 0x7f9fe343e090>,\n",
       "  <matplotlib.axis.XTick at 0x7f9fe343e7d0>,\n",
       "  <matplotlib.axis.XTick at 0x7f9fe343ef10>,\n",
       "  <matplotlib.axis.XTick at 0x7f9fe3447690>,\n",
       "  <matplotlib.axis.XTick at 0x7f9fe3447dd0>],\n",
       " <a list of 11 Text xticklabel objects>)"
      ]
     },
     "execution_count": 19,
     "metadata": {},
     "output_type": "execute_result"
    },
    {
     "data": {
      "image/png": "[encoded data removed]",
      "text/plain": [
       "<matplotlib.figure.Figure at 0x7f9fe36255d0>"
      ]
     },
     "metadata": {},
     "output_type": "display_data"
    }
   ],
   "source": [
    "plt.bar(range(len(web_archives_distribution)), web_archives_distribution.values(), align='center',)\n",
    "plt.xticks(range(len(web_archives_distribution)), web_archives_distribution.keys(),  rotation='vertical')"
   ]
  },
  {
   "cell_type": "code",
   "execution_count": 20,
   "metadata": {
    "collapsed": false
   },
   "outputs": [
    {
     "data": {
      "text/plain": [
       "0.9067362714586888"
      ]
     },
     "execution_count": 20,
     "metadata": {},
     "output_type": "execute_result"
    }
   ],
   "source": [
    "9032/9961."
   ]
  },
  {
   "cell_type": "markdown",
   "metadata": {},
   "source": [
    "# Arquivo.pt Mementos Identification"
   ]
  },
  {
   "cell_type": "code",
   "execution_count": 21,
   "metadata": {
    "collapsed": false
   },
   "outputs": [
    {
     "name": "stdout",
     "output_type": "stream",
     "text": [
      "http://arquivo.pt/wayback/20110704230527/http://www.euronanoforum2011.eu/\n",
      "http://arquivo.pt/wayback/20120125234056/http://www.euronanoforum2011.eu/\n",
      "http://arquivo.pt/wayback/20131107072213/http://www.euronanoforum2011.eu/\n",
      "http://arquivo.pt/wayback/20110524152427/http://www.marina-platform.info/index.aspx\n",
      "http://arquivo.pt/wayback/20110704010653/http://www.marina-platform.info/index.aspx\n",
      "http://arquivo.pt/wayback/20120124101713/http://www.marina-platform.info/index.aspx\n",
      "http://arquivo.pt/wayback/20110704212713/http://www.eusc.europa.eu/index.php?option=com_content&task=view&id=60&Itemid=84\n",
      "http://arquivo.pt/wayback/20120125212735/http://www.eusc.europa.eu/index.php?option=com_content&task=view&id=60&Itemid=84\n",
      "http://arquivo.pt/wayback/20110527110224/http://www.poco-project.org/\n",
      "http://arquivo.pt/wayback/20110708210740/http://www.gmes-geoland.info/\n",
      "http://arquivo.pt/wayback/20120130064245/http://www.gmes-geoland.info/\n",
      "http://arquivo.pt/wayback/20120129043043/http://www.ita.es/ita\n",
      "http://arquivo.pt/wayback/20100531011226/http://www.eugrasp.eu/\n",
      "http://arquivo.pt/wayback/20100808172915/http://www.eugrasp.eu/\n",
      "http://arquivo.pt/wayback/20110707040235/http://www.myocean.eu.org/\n",
      "http://arquivo.pt/wayback/20120131011425/http://www.myocean.eu.org/\n",
      "http://arquivo.pt/wayback/20120130104814/http://www.emergencyresponse.eu/\n",
      "http://arquivo.pt/wayback/20131108093958/http://web.spi.pt/collab4safety/collab4safety\n",
      "http://arquivo.pt/wayback/20110523073037/http://www2.spi.pt/fahre/\n",
      "http://arquivo.pt/wayback/20120125093149/http://www2.spi.pt/fahre/\n",
      "http://arquivo.pt/wayback/20120130054721/http://www.gmes-atmosphere.eu/\n",
      "http://arquivo.pt/wayback/20110527153457/http://www.nanoimpactnet.eu/\n",
      "http://arquivo.pt/wayback/20110706090052/http://www.nanoimpactnet.eu/\n",
      "http://arquivo.pt/wayback/20091226132421/http://www.gmes.info/\n",
      "http://arquivo.pt/wayback/20100531204546/http://www.gmes.info/\n",
      "http://arquivo.pt/wayback/20110123162059/http://www.gmes.info/\n",
      "http://arquivo.pt/wayback/20110524211256/http://www.gmes.info/\n",
      "http://arquivo.pt/wayback/20131107083324/http://www.gmes.info/\n"
     ]
    }
   ],
   "source": [
    "for memento in list_mementos:\n",
    "    if memento['uri'].split('/')[2] == \"arquivo.pt\":\n",
    "        print memento['uri']"
   ]
  },
  {
   "cell_type": "markdown",
   "metadata": {},
   "source": [
    "# FP7 Archvived versions location distribution"
   ]
  },
  {
   "cell_type": "code",
   "execution_count": 6,
   "metadata": {
    "collapsed": false
   },
   "outputs": [],
   "source": [
    "iterator = timemaps_structure.iteritems()\n",
    "count = 0\n",
    "rows_list = []\n",
    "for uri,mementos in iterator: \n",
    "    if mementos != []:\n",
    "        dictrow = {}    \n",
    "        dictrow['URI-O'] = uri\n",
    "        for m in mementos:        \n",
    "            dictrow[m['uri'].split('/')[2]] = 1\n",
    "        rows_list.append(dictrow)        "
   ]
  },
  {
   "cell_type": "code",
   "execution_count": 7,
   "metadata": {
    "collapsed": false
   },
   "outputs": [
    {
     "data": {
      "text/plain": [
       "URI-O                                 1593\n",
       "arquivo.pt                              14\n",
       "collection.europarchive.org              1\n",
       "wayback.archive-it.org                  17\n",
       "wayback.vefsafn.is                       5\n",
       "web.archive.bibalex.org:80              15\n",
       "web.archive.org                       1589\n",
       "webarchive.loc.gov                       9\n",
       "webarchive.nationalarchives.gov.uk      12\n",
       "webarchive.parliament.uk                 4\n",
       "www.padi.cat:8080                        1\n",
       "www.webarchive.org.uk:80                 4\n",
       "dtype: int64"
      ]
     },
     "execution_count": 7,
     "metadata": {},
     "output_type": "execute_result"
    }
   ],
   "source": [
    "df = pd.DataFrame(rows_list)\n",
    "df.count()"
   ]
  },
  {
   "cell_type": "code",
   "execution_count": 8,
   "metadata": {
    "collapsed": false
   },
   "outputs": [
    {
     "data": {
      "text/plain": [
       "URI-O                                 76.147228\n",
       "arquivo.pt                             0.669216\n",
       "collection.europarchive.org            0.047801\n",
       "wayback.archive-it.org                 0.812620\n",
       "wayback.vefsafn.is                     0.239006\n",
       "web.archive.bibalex.org:80             0.717017\n",
       "web.archive.org                       75.956023\n",
       "webarchive.loc.gov                     0.430210\n",
       "webarchive.nationalarchives.gov.uk     0.573614\n",
       "webarchive.parliament.uk               0.191205\n",
       "www.padi.cat:8080                      0.047801\n",
       "www.webarchive.org.uk:80               0.191205\n",
       "dtype: float64"
      ]
     },
     "execution_count": 8,
     "metadata": {},
     "output_type": "execute_result"
    }
   ],
   "source": [
    "df = pd.DataFrame(rows_list)\n",
    "df.count() / 2092 * 100"
   ]
  },
  {
   "cell_type": "code",
   "execution_count": null,
   "metadata": {
    "collapsed": true
   },
   "outputs": [],
   "source": []
  }
 ],
 "metadata": {
  "kernelspec": {
   "display_name": "Python 2",
   "language": "python",
   "name": "python2"
  },
  "language_info": {
   "codemirror_mode": {
    "name": "ipython",
    "version": 2
   },
   "file_extension": ".py",
   "mimetype": "text/x-python",
   "name": "python",
   "nbconvert_exporter": "python",
   "pygments_lexer": "ipython2",
   "version": "2.7.11+"
  }
 },
 "nbformat": 4,
 "nbformat_minor": 0
}
