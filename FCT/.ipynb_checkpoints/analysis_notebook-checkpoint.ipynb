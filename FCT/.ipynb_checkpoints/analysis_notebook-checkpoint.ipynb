{
 "cells": [
  {
   "cell_type": "markdown",
   "metadata": {},
   "source": [
    "# Analyze FCT result set\n",
    "## Search specifications: Bing with Acronym + Title query"
   ]
  },
  {
   "cell_type": "code",
   "execution_count": 2,
   "metadata": {
    "collapsed": false
   },
   "outputs": [],
   "source": [
    "import numpy as np\n",
    "import matplotlib.pyplot as plt\n",
    "import pandas as pd\n",
    "import sys, os, re\n",
    "%matplotlib inline"
   ]
  },
  {
   "cell_type": "code",
   "execution_count": 3,
   "metadata": {
    "collapsed": false
   },
   "outputs": [],
   "source": [
    "header_names = ['acronym','title','projectUrl','foundProjectUrl1',\n",
    "                'foundProjectUrl2','foundProjectUrl3','foundProjectUrl4',\n",
    "                'foundProjectUrl5','foundProjectUrl6','foundProjectUrl7',\n",
    "                'foundProjectUrl8','foundProjectUrl9','foundProjectUrl10',]\n",
    "df = pd.read_csv('output.csv', sep =',', quotechar = '\"',names = header_names, index_col=False)"
   ]
  },
  {
   "cell_type": "markdown",
   "metadata": {},
   "source": [
    "RQ: What sites are the ones that appear more times? How many times?"
   ]
  },
  {
   "cell_type": "code",
   "execution_count": 81,
   "metadata": {
    "collapsed": false
   },
   "outputs": [],
   "source": [
    "from urlparse import *\n",
    "\n",
    "def extract_hostname(url):\n",
    "    # get netloc    \n",
    "    url = urlparse(url)\n",
    "    url_netloc = '{url.scheme}://{url.netloc}'.format(url=url)    \n",
    "    return url_netloc"
   ]
  },
  {
   "cell_type": "markdown",
   "metadata": {},
   "source": [
    "##### Example of row"
   ]
  },
  {
   "cell_type": "code",
   "execution_count": 101,
   "metadata": {
    "collapsed": false
   },
   "outputs": [
    {
     "name": "stdout",
     "output_type": "stream",
     "text": [
      "http://www.fct.pt: 3435\n",
      "https://www.fct.pt: 510\n",
      "http://www.trabalhosfeitos.com: 237\n",
      "https://www.linkedin.com: 170\n",
      "http://www.degois.pt: 152\n",
      "https://pt.wikipedia.org: 151\n",
      "https://sigarra.up.pt: 151\n",
      "https://www.researchgate.net: 147\n",
      "http://www.academia.edu: 127\n",
      "http://www.youtube.com: 112\n",
      "http://degois.pt: 106\n",
      "https://issuu.com: 97\n",
      "http://www.uc.pt: 82\n",
      "http://www.researchgate.net: 80\n",
      "https://repositorio-aberto.up.pt: 79\n",
      "https://sites.google.com: 71\n",
      "https://pt.scribd.com: 66\n",
      "http://www.ua.pt: 62\n",
      "http://www.lneg.pt: 60\n",
      "http://www.ccmar.ualg.pt: 60\n",
      "http://www.scielo.br: 58\n",
      "http://www.ciimar.up.pt: 54\n",
      "http://www.eracareers.pt: 54\n",
      "http://www.ciceco.ua.pt: 51\n",
      "http://www.pofc.qren.pt: 51\n",
      "http://www.isa.utl.pt: 50\n",
      "https://www.apifarma.pt: 48\n",
      "https://fenix.tecnico.ulisboa.pt: 47\n",
      "http://repositorio.ul.pt: 45\n",
      "http://repositorium.sdum.uminho.pt: 42\n",
      "http://www.insa.pt: 40\n",
      "http://www.fcsh.unl.pt: 39\n",
      "http://www.cesam.ua.pt: 38\n",
      "https://estudogeral.sib.uc.pt: 36\n",
      "http://www.ceg.ul.pt: 35\n",
      "http://www.utad.pt: 33\n",
      "http://docplayer.com.br: 32\n",
      "https://repositorium.sdum.uminho.pt: 32\n",
      "http://www.itn.pt: 32\n",
      "http://www.fpce.up.pt: 32\n"
     ]
    }
   ],
   "source": [
    "from collections import defaultdict\n",
    "# build dictionary with counts\n",
    "hostnames_dict = defaultdict(int)\n",
    "\n",
    "df = df.fillna(0)\n",
    "\n",
    "for index,row in df.iterrows():\n",
    "    for i in range(10):       \n",
    "        project = row['foundProjectUrl' + str(i)]    \n",
    "        if project:\n",
    "            hostname = extract_hostname(project)\n",
    "            hostnames_dict[hostname] += 1\n",
    "\n",
    "# Order dictionarie by highest values\n",
    "sorted_keys = sorted(hostnames_dict.iterkeys(), key=lambda k: hostnames_dict[k], reverse=True)\n",
    "\n",
    "# print values for first 20\n",
    "for key in sorted_keys[:40]:\n",
    "    print key + ': ' + str(hostnames_dict[key])    "
   ]
  },
  {
   "cell_type": "code",
   "execution_count": null,
   "metadata": {
    "collapsed": true
   },
   "outputs": [],
   "source": []
  }
 ],
 "metadata": {
  "kernelspec": {
   "display_name": "Python 2",
   "language": "python",
   "name": "python2"
  },
  "language_info": {
   "codemirror_mode": {
    "name": "ipython",
    "version": 2
   },
   "file_extension": ".py",
   "mimetype": "text/x-python",
   "name": "python",
   "nbconvert_exporter": "python",
   "pygments_lexer": "ipython2",
   "version": "2.7.11+"
  }
 },
 "nbformat": 4,
 "nbformat_minor": 0
}
