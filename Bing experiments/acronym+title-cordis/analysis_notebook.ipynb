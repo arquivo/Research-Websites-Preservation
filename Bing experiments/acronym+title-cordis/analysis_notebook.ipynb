{
 "metadata": {
  "name": "",
  "signature": "sha256:062d17bcbb2715d1962bf2d6a4b7cdf1905df1066fa165202d859cc6d9c61700"
 },
 "nbformat": 3,
 "nbformat_minor": 0,
 "worksheets": [
  {
   "cells": [
    {
     "cell_type": "markdown",
     "metadata": {},
     "source": [
      "# Bing Search: \n",
      "## Acronym + Title - Cordis with -site operator"
     ]
    },
    {
     "cell_type": "code",
     "collapsed": false,
     "input": [
      "import numpy as np\n",
      "import matplotlib.pyplot as plt\n",
      "import pandas as pd\n",
      "import sys, os, re\n",
      "%matplotlib inline"
     ],
     "language": "python",
     "metadata": {},
     "outputs": [],
     "prompt_number": 1
    },
    {
     "cell_type": "code",
     "collapsed": false,
     "input": [
      "header_names = ['acronym','title','projectUrl','foundProjectUrl1',\n",
      "                'foundProjectUrl2','foundProjectUrl3','foundProjectUrl4',\n",
      "                'foundProjectUrl5','foundProjectUrl6','foundProjectUrl7',\n",
      "                'foundProjectUrl8','foundProjectUrl9','foundProjectUrl10',]\n",
      "df = pd.read_csv('output.csv', sep =',', quotechar = '\"',names = header_names, index_col=False)"
     ],
     "language": "python",
     "metadata": {},
     "outputs": [],
     "prompt_number": 2
    },
    {
     "cell_type": "markdown",
     "metadata": {},
     "source": [
      "### Matching with top 1 result"
     ]
    },
    {
     "cell_type": "code",
     "collapsed": false,
     "input": [
      "total_entries = df['acronym'].count()\n",
      "exact_match_count_top1 = df['acronym'][df['projectUrl'] == df['foundProjectUrl1']].count()\n",
      "recover_performance_top1 = exact_match_count_top1  / float(total_entries)\n",
      "\n",
      "print \"Number of exact matches: %s of %s\" % (exact_match_count_top1,total_entries)\n",
      "print \"Recover Performance: %0.2f%%\" % (recover_performance_top1 * 100)"
     ],
     "language": "python",
     "metadata": {},
     "outputs": [
      {
       "output_type": "stream",
       "stream": "stdout",
       "text": [
        "Number of exact matches: 117 of 301\n",
        "Recover Performance: 38.87%\n"
       ]
      }
     ],
     "prompt_number": 4
    },
    {
     "cell_type": "markdown",
     "metadata": {},
     "source": [
      "##### Example of false negative"
     ]
    },
    {
     "cell_type": "code",
     "collapsed": false,
     "input": [
      "df.ix[8]"
     ],
     "language": "python",
     "metadata": {},
     "outputs": [
      {
       "metadata": {},
       "output_type": "pyout",
       "prompt_number": 5,
       "text": [
        "acronym                                                 FOODMANUFUTURE\n",
        "title                Conceptual Design of a Food Manufacturing Rese...\n",
        "projectUrl                               http://www.foodmanufuture.eu/\n",
        "foundProjectUrl1                         http://www.foodmanufuture.eu/\n",
        "foundProjectUrl2            http://www.foodmanufuture.eu/dmedia?f=LGhj\n",
        "foundProjectUrl3     http://www.2020-horizon.com/FOODMANUFUTURE-Con...\n",
        "foundProjectUrl4     http://www.foodclusterinitiative.eu/uploads/fi...\n",
        "foundProjectUrl5     http://www.manufuture.org/manufacturing/wp-con...\n",
        "foundProjectUrl6     http://www.campden.hu/dokutar/FoodManufuture_b...\n",
        "foundProjectUrl7     http://www.foodclusterinitiative.eu/uploads/fi...\n",
        "foundProjectUrl8     http://ec.europa.eu/research/conferences/2015/...\n",
        "foundProjectUrl9     http://www.vifu.net/media/1129/flyer-foma-fina...\n",
        "foundProjectUrl10    http://etp.fooddrinkeurope.eu/asp/etp_uptodate...\n",
        "Name: 8, dtype: object"
       ]
      }
     ],
     "prompt_number": 5
    },
    {
     "cell_type": "markdown",
     "metadata": {},
     "source": [
      "### Matching with top 3 results"
     ]
    },
    {
     "cell_type": "code",
     "collapsed": false,
     "input": [
      "total_entries = df['acronym'].count()\n",
      "exact_match_count_top3 = df['acronym'][(df['projectUrl'] == df['foundProjectUrl1'] ) | (df['projectUrl'] == df['foundProjectUrl2']) | (df['projectUrl'] == df['foundProjectUrl3'])].count()\n",
      "recover_performance_top3 = exact_match_count_top3  / float(total_entries)\n",
      "\n",
      "print \"Number of exact matches: %s of %s\" % (exact_match_count_top3,total_entries)\n",
      "print \"Recover Performance: %0.2f%%\" % (recover_performance_top3 * 100)"
     ],
     "language": "python",
     "metadata": {},
     "outputs": [
      {
       "output_type": "stream",
       "stream": "stdout",
       "text": [
        "Number of exact matches: 136 of 301\n",
        "Recover Performance: 45.18%\n"
       ]
      }
     ],
     "prompt_number": 6
    },
    {
     "cell_type": "markdown",
     "metadata": {},
     "source": [
      "### Matching with top 5 results"
     ]
    },
    {
     "cell_type": "code",
     "collapsed": false,
     "input": [
      "total_entries = df['acronym'].count()\n",
      "exact_match_count_top5 = df['acronym'][(df['projectUrl'] == df['foundProjectUrl1'] ) | \n",
      "                                  (df['projectUrl'] == df['foundProjectUrl2']) | \n",
      "                                  (df['projectUrl'] == df['foundProjectUrl3']) |\n",
      "                                  (df['projectUrl'] == df['foundProjectUrl4']) |\n",
      "                                  (df['projectUrl'] == df['foundProjectUrl5'])].count()\n",
      "recover_performance_top5 = exact_match_count_top5 / float(total_entries)\n",
      "\n",
      "print \"Number of exact matches: %s of %s\" % (exact_match_count_top5,total_entries)\n",
      "print \"Recover Performance: %0.2f%%\" % (recover_performance_top5 * 100)"
     ],
     "language": "python",
     "metadata": {},
     "outputs": [
      {
       "output_type": "stream",
       "stream": "stdout",
       "text": [
        "Number of exact matches: 141 of 301\n",
        "Recover Performance: 46.84%\n"
       ]
      }
     ],
     "prompt_number": 7
    },
    {
     "cell_type": "markdown",
     "metadata": {},
     "source": [
      "### Matching with top 10 results"
     ]
    },
    {
     "cell_type": "code",
     "collapsed": false,
     "input": [
      "total_entries = df['acronym'].count()\n",
      "exact_match_count_top10 = df['acronym'][(df['projectUrl'] == df['foundProjectUrl1']) | \n",
      "                                  (df['projectUrl'] == df['foundProjectUrl2']) | \n",
      "                                  (df['projectUrl'] == df['foundProjectUrl3']) |\n",
      "                                  (df['projectUrl'] == df['foundProjectUrl4']) |\n",
      "                                  (df['projectUrl'] == df['foundProjectUrl5']) |\n",
      "                                  (df['projectUrl'] == df['foundProjectUrl6']) |\n",
      "                                  (df['projectUrl'] == df['foundProjectUrl7']) |\n",
      "                                  (df['projectUrl'] == df['foundProjectUrl8']) |\n",
      "                                  (df['projectUrl'] == df['foundProjectUrl9']) |\n",
      "                                  (df['projectUrl'] == df['foundProjectUrl10'])].count()\n",
      "recover_performance_top10 = exact_match_count_top10 / float(total_entries)\n",
      "\n",
      "print \"Number of exact matches: %s of %s\" % (exact_match_count_top10,total_entries)\n",
      "print \"Recover Performance: %0.2f%%\" % (recover_performance_top10 * 100)"
     ],
     "language": "python",
     "metadata": {},
     "outputs": [
      {
       "output_type": "stream",
       "stream": "stdout",
       "text": [
        "Number of exact matches: 142 of 301\n",
        "Recover Performance: 47.18%\n"
       ]
      }
     ],
     "prompt_number": 8
    },
    {
     "cell_type": "markdown",
     "metadata": {},
     "source": [
      "# Using Fuzzy Hashing to compare contents"
     ]
    },
    {
     "cell_type": "code",
     "collapsed": false,
     "input": [
      "df = pd.read_csv('fuzzy_computation.csv', sep =',', quotechar = '\"', index_col=False)"
     ],
     "language": "python",
     "metadata": {},
     "outputs": [],
     "prompt_number": 9
    },
    {
     "cell_type": "code",
     "collapsed": false,
     "input": [
      "matching_top1 = []\n",
      "matching_top3 = []\n",
      "matching_top5 = []\n",
      "matching_top10 = []\n",
      "for i in np.arange(40,110,10):\n",
      "    matching_top1.append(df['acronym'][(df['projectUrl'] == df['foundProjectUrl1']) | (df['MatchScore1'] >= i)].count() / float(total_entries))\n",
      "    matching_top3.append(df['acronym'][(df['projectUrl'] == df['foundProjectUrl1']) | \n",
      "                                       (df['projectUrl'] == df['foundProjectUrl2']) | \n",
      "                                       (df['projectUrl'] == df['foundProjectUrl3']) |\n",
      "                                       (df['MatchScore1'] >= i) |\n",
      "                                       (df['MatchScore2'] >= i) |\n",
      "                                       (df['MatchScore3'] >= i)].count() / float(total_entries))\n",
      "    matching_top5.append(df['acronym'][(df['projectUrl'] == df['foundProjectUrl1']) | \n",
      "                                       (df['projectUrl'] == df['foundProjectUrl2']) |\n",
      "                                       (df['projectUrl'] == df['foundProjectUrl3']) |\n",
      "                                       (df['projectUrl'] == df['foundProjectUrl4']) |\n",
      "                                       (df['projectUrl'] == df['foundProjectUrl5']) |\n",
      "                                       (df['MatchScore1'] >= i) |\n",
      "                                       (df['MatchScore2'] >= i) |\n",
      "                                       (df['MatchScore3'] >= i) |\n",
      "                                       (df['MatchScore4'] >= i) |\n",
      "                                       (df['MatchScore5'] >= i)].count() / float(total_entries))  \n",
      "    matching_top10.append(df['acronym'][(df['projectUrl'] == df['foundProjectUrl1']) |\n",
      "                                        (df['projectUrl'] == df['foundProjectUrl2']) |\n",
      "                                        (df['projectUrl'] == df['foundProjectUrl3']) |\n",
      "                                        (df['projectUrl'] == df['foundProjectUrl4']) |\n",
      "                                        (df['projectUrl'] == df['foundProjectUrl5']) |\n",
      "                                        (df['projectUrl'] == df['foundProjectUrl6']) |\n",
      "                                        (df['projectUrl'] == df['foundProjectUrl7']) |\n",
      "                                        (df['projectUrl'] == df['foundProjectUrl8']) |\n",
      "                                        (df['projectUrl'] == df['foundProjectUrl9']) |\n",
      "                                        (df['projectUrl'] == df['foundProjectUrl10']) |\n",
      "                                        (df['MatchScore1'] >= i) |\n",
      "                                        (df['MatchScore2'] >= i) |\n",
      "                                        (df['MatchScore3'] >= i) |\n",
      "                                        (df['MatchScore4'] >= i) |\n",
      "                                        (df['MatchScore5'] >= i) |\n",
      "                                        (df['MatchScore6'] >= i) |\n",
      "                                        (df['MatchScore7'] >= i) |\n",
      "                                        (df['MatchScore8'] >= i) |\n",
      "                                        (df['MatchScore9'] >= i) |\n",
      "                                        (df['MatchScore10'] >= i)].count() / float(total_entries))      \n",
      "plt.plot(np.arange(40,110,10),matching_top1,linestyle='--',color='r',marker='o',label='Top 1 Results')\n",
      "plt.plot(np.arange(40,110,10),matching_top3,linestyle='--',color='b',marker='o',label='Top 3 Results')\n",
      "plt.plot(np.arange(40,110,10),matching_top5,linestyle='--',color='y',marker='o',label='Top 5 Results')\n",
      "plt.plot(np.arange(40,110,10),matching_top10,linestyle='--',color='g',marker='o',label='Top 10 Results')\n",
      "plt.plot((40,100),(recover_performance_top1,recover_performance_top1),'-r')\n",
      "plt.plot((40,100),(recover_performance_top3,recover_performance_top3),'-b')\n",
      "plt.plot((40,100),(recover_performance_top5,recover_performance_top5),'-y')\n",
      "plt.plot((40,100),(recover_performance_top10,recover_performance_top10),'-g')\n",
      "\n",
      "plt.xlabel(\"Similarity Score\")\n",
      "plt.ylabel(\"Result Match Success\")\n",
      "plt.grid()\n",
      "plt.legend()\n",
      "plt.legend(bbox_to_anchor=(1.05, 1), loc=2, borderaxespad=0.)"
     ],
     "language": "python",
     "metadata": {},
     "outputs": [
      {
       "metadata": {},
       "output_type": "pyout",
       "prompt_number": 10,
       "text": [
        "<matplotlib.legend.Legend at 0x7f983dc94550>"
       ]
      },
      {
       "metadata": {},
       "output_type": "display_data",
       "png": "[encoded data removed]",
       "text": [
        "<matplotlib.figure.Figure at 0x7f983dd5cfd0>"
       ]
      }
     ],
     "prompt_number": 10
    },
    {
     "cell_type": "code",
     "collapsed": false,
     "input": [],
     "language": "python",
     "metadata": {},
     "outputs": []
    }
   ],
   "metadata": {}
  }
 ]
}