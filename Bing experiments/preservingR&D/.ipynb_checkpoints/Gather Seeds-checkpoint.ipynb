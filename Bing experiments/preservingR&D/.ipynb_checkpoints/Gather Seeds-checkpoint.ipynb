{
 "metadata": {
  "name": "",
  "signature": "sha256:394ab38412456d50f3f9dcc180afd434b6d4ef5e749a39668b136500b3db4b8e"
 },
 "nbformat": 3,
 "nbformat_minor": 0,
 "worksheets": [
  {
   "cells": [
    {
     "cell_type": "code",
     "collapsed": false,
     "input": [
      "import numpy as np\n",
      "import matplotlib.pyplot as plt\n",
      "import pandas as pd\n",
      "import sys, os, re"
     ],
     "language": "python",
     "metadata": {},
     "outputs": [],
     "prompt_number": 21
    },
    {
     "cell_type": "code",
     "collapsed": false,
     "input": [
      "headers = [\"acronym\", \"title\", \"projectUrl\",\n",
      "           \"foundProjectUrl1\",\"foundProjectUrl2\",\n",
      "           \"foundProjectUrl3\",\"foundProjectUrl4\",\n",
      "           \"foundProjectUrl5\",\"foundProjectUrl6\",\n",
      "           \"foundProjectUrl7\",\"foundProjectUrl8\",\n",
      "           \"foundProjectUrl9\",\"foundProjectUrl10\"]\n",
      "\n",
      "df1 = pd.read_csv('output.csv.all', \n",
      "                 sep =',', quotechar = '\"', index_col=False, names = headers)\n",
      "df2 = pd.read_csv('output_novalidurl.csv', \n",
      "                 sep =',', quotechar = '\"', index_col=False, names = headers)\n",
      "df3 = pd.read_csv('fp7projects-full.csv', \n",
      "                 sep =',', quotechar = '\"', index_col=False, names = headers)"
     ],
     "language": "python",
     "metadata": {},
     "outputs": [],
     "prompt_number": 39
    },
    {
     "cell_type": "code",
     "collapsed": false,
     "input": [
      "df1.count()"
     ],
     "language": "python",
     "metadata": {},
     "outputs": [
      {
       "metadata": {},
       "output_type": "pyout",
       "prompt_number": 40,
       "text": [
        "acronym              23587\n",
        "title                23587\n",
        "projectUrl               0\n",
        "foundProjectUrl1     20019\n",
        "foundProjectUrl2     18024\n",
        "foundProjectUrl3     16505\n",
        "foundProjectUrl4     15415\n",
        "foundProjectUrl5     14609\n",
        "foundProjectUrl6     13957\n",
        "foundProjectUrl7     13437\n",
        "foundProjectUrl8     12972\n",
        "foundProjectUrl9     12593\n",
        "foundProjectUrl10    12229\n",
        "dtype: int64"
       ]
      }
     ],
     "prompt_number": 40
    },
    {
     "cell_type": "code",
     "collapsed": false,
     "input": [
      "df2.count()"
     ],
     "language": "python",
     "metadata": {},
     "outputs": [
      {
       "metadata": {},
       "output_type": "pyout",
       "prompt_number": 41,
       "text": [
        "acronym              424\n",
        "title                424\n",
        "projectUrl           424\n",
        "foundProjectUrl1     410\n",
        "foundProjectUrl2     407\n",
        "foundProjectUrl3     398\n",
        "foundProjectUrl4     386\n",
        "foundProjectUrl5     377\n",
        "foundProjectUrl6     367\n",
        "foundProjectUrl7     352\n",
        "foundProjectUrl8     341\n",
        "foundProjectUrl9     326\n",
        "foundProjectUrl10    308\n",
        "dtype: int64"
       ]
      }
     ],
     "prompt_number": 41
    },
    {
     "cell_type": "code",
     "collapsed": false,
     "input": [
      "df3.count()"
     ],
     "language": "python",
     "metadata": {},
     "outputs": [
      {
       "metadata": {},
       "output_type": "pyout",
       "prompt_number": 42,
       "text": [
        "acronym              25608\n",
        "title                25608\n",
        "projectUrl            2021\n",
        "foundProjectUrl1         0\n",
        "foundProjectUrl2         0\n",
        "foundProjectUrl3         0\n",
        "foundProjectUrl4         0\n",
        "foundProjectUrl5         0\n",
        "foundProjectUrl6         0\n",
        "foundProjectUrl7         0\n",
        "foundProjectUrl8         0\n",
        "foundProjectUrl9         0\n",
        "foundProjectUrl10        0\n",
        "dtype: int64"
       ]
      }
     ],
     "prompt_number": 42
    },
    {
     "cell_type": "code",
     "collapsed": false,
     "input": [
      "23587 + 424 + 1597"
     ],
     "language": "python",
     "metadata": {},
     "outputs": [
      {
       "metadata": {},
       "output_type": "pyout",
       "prompt_number": 43,
       "text": [
        "25608"
       ]
      }
     ],
     "prompt_number": 43
    },
    {
     "cell_type": "code",
     "collapsed": false,
     "input": [
      "2020 * 100 / float(25708 )"
     ],
     "language": "python",
     "metadata": {},
     "outputs": [
      {
       "metadata": {},
       "output_type": "pyout",
       "prompt_number": 44,
       "text": [
        "7.857476271977594"
       ]
      }
     ],
     "prompt_number": 44
    },
    {
     "cell_type": "code",
     "collapsed": false,
     "input": [
      "df = pd.concat([df1,df2])"
     ],
     "language": "python",
     "metadata": {},
     "outputs": [],
     "prompt_number": 46
    },
    {
     "cell_type": "code",
     "collapsed": false,
     "input": [
      "df = df[df['foundProjectUrl1'] != NaN]\n",
      "#df.to_csv('seeds.txt',index=False)"
     ],
     "language": "python",
     "metadata": {},
     "outputs": [],
     "prompt_number": 56
    },
    {
     "cell_type": "code",
     "collapsed": false,
     "input": [],
     "language": "python",
     "metadata": {},
     "outputs": []
    }
   ],
   "metadata": {}
  }
 ]
}