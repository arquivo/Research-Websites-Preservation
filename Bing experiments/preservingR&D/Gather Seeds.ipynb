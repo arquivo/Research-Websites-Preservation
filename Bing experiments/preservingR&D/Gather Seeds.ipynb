{
 "metadata": {
  "name": "",
  "signature": "sha256:c6bc20f0f546df781a2b8bbecdab257c6b1bd82f8d8ae04c552c060be7c81745"
 },
 "nbformat": 3,
 "nbformat_minor": 0,
 "worksheets": [
  {
   "cells": [
    {
     "cell_type": "code",
     "collapsed": false,
     "input": [
      "import numpy as np\n",
      "import matplotlib.pyplot as plt\n",
      "import pandas as pd\n",
      "import sys, os, re\n",
      "%matplotlib inline"
     ],
     "language": "python",
     "metadata": {},
     "outputs": [],
     "prompt_number": 126
    },
    {
     "cell_type": "code",
     "collapsed": false,
     "input": [
      "headers = [\"acronym\", \"title\", \"projectUrl\",\n",
      "           \"foundProjectUrl1\",\"foundProjectUrl2\",\n",
      "           \"foundProjectUrl3\",\"foundProjectUrl4\",\n",
      "           \"foundProjectUrl5\",\"foundProjectUrl6\",\n",
      "           \"foundProjectUrl7\",\"foundProjectUrl8\",\n",
      "           \"foundProjectUrl9\",\"foundProjectUrl10\"]\n",
      "\n",
      "df1 = pd.read_csv('output.csv.all', \n",
      "                 sep =',', quotechar = '\"', index_col=False, names = headers)\n",
      "df2 = pd.read_csv('output_novalidurl.csv', \n",
      "                 sep =',', quotechar = '\"', index_col=False, names = headers)\n",
      "df3 = pd.read_csv('fp7projects-full.csv', \n",
      "                 sep =',', quotechar = '\"', index_col=False, names = headers)"
     ],
     "language": "python",
     "metadata": {},
     "outputs": [],
     "prompt_number": 3
    },
    {
     "cell_type": "code",
     "collapsed": false,
     "input": [
      "df1.count()"
     ],
     "language": "python",
     "metadata": {},
     "outputs": [
      {
       "metadata": {},
       "output_type": "pyout",
       "prompt_number": 4,
       "text": [
        "acronym              23587\n",
        "title                23587\n",
        "projectUrl               0\n",
        "foundProjectUrl1     20019\n",
        "foundProjectUrl2     18024\n",
        "foundProjectUrl3     16505\n",
        "foundProjectUrl4     15415\n",
        "foundProjectUrl5     14609\n",
        "foundProjectUrl6     13957\n",
        "foundProjectUrl7     13437\n",
        "foundProjectUrl8     12972\n",
        "foundProjectUrl9     12593\n",
        "foundProjectUrl10    12229\n",
        "dtype: int64"
       ]
      }
     ],
     "prompt_number": 4
    },
    {
     "cell_type": "code",
     "collapsed": false,
     "input": [
      "df2.count()"
     ],
     "language": "python",
     "metadata": {},
     "outputs": [
      {
       "metadata": {},
       "output_type": "pyout",
       "prompt_number": 5,
       "text": [
        "acronym              424\n",
        "title                424\n",
        "projectUrl           424\n",
        "foundProjectUrl1     410\n",
        "foundProjectUrl2     407\n",
        "foundProjectUrl3     398\n",
        "foundProjectUrl4     386\n",
        "foundProjectUrl5     377\n",
        "foundProjectUrl6     367\n",
        "foundProjectUrl7     352\n",
        "foundProjectUrl8     341\n",
        "foundProjectUrl9     326\n",
        "foundProjectUrl10    308\n",
        "dtype: int64"
       ]
      }
     ],
     "prompt_number": 5
    },
    {
     "cell_type": "code",
     "collapsed": false,
     "input": [
      "df3.count()"
     ],
     "language": "python",
     "metadata": {},
     "outputs": [
      {
       "metadata": {},
       "output_type": "pyout",
       "prompt_number": 6,
       "text": [
        "acronym              25608\n",
        "title                25608\n",
        "projectUrl            2021\n",
        "foundProjectUrl1         0\n",
        "foundProjectUrl2         0\n",
        "foundProjectUrl3         0\n",
        "foundProjectUrl4         0\n",
        "foundProjectUrl5         0\n",
        "foundProjectUrl6         0\n",
        "foundProjectUrl7         0\n",
        "foundProjectUrl8         0\n",
        "foundProjectUrl9         0\n",
        "foundProjectUrl10        0\n",
        "dtype: int64"
       ]
      }
     ],
     "prompt_number": 6
    },
    {
     "cell_type": "code",
     "collapsed": false,
     "input": [
      "23587 + 424 + 1597"
     ],
     "language": "python",
     "metadata": {},
     "outputs": [
      {
       "metadata": {},
       "output_type": "pyout",
       "prompt_number": 7,
       "text": [
        "25608"
       ]
      }
     ],
     "prompt_number": 7
    },
    {
     "cell_type": "code",
     "collapsed": false,
     "input": [
      "2020 * 100 / float(25708 )"
     ],
     "language": "python",
     "metadata": {},
     "outputs": [
      {
       "metadata": {},
       "output_type": "pyout",
       "prompt_number": 8,
       "text": [
        "7.857476271977594"
       ]
      }
     ],
     "prompt_number": 8
    },
    {
     "cell_type": "code",
     "collapsed": false,
     "input": [
      "df = pd.concat([df1,df2])\n",
      "df.count()"
     ],
     "language": "python",
     "metadata": {},
     "outputs": [
      {
       "metadata": {},
       "output_type": "pyout",
       "prompt_number": 9,
       "text": [
        "acronym              24011\n",
        "title                24011\n",
        "projectUrl             424\n",
        "foundProjectUrl1     20429\n",
        "foundProjectUrl2     18431\n",
        "foundProjectUrl3     16903\n",
        "foundProjectUrl4     15801\n",
        "foundProjectUrl5     14986\n",
        "foundProjectUrl6     14324\n",
        "foundProjectUrl7     13789\n",
        "foundProjectUrl8     13313\n",
        "foundProjectUrl9     12919\n",
        "foundProjectUrl10    12537\n",
        "dtype: int64"
       ]
      }
     ],
     "prompt_number": 9
    },
    {
     "cell_type": "code",
     "collapsed": false,
     "input": [
      "df = df[[\"acronym\", 'title','foundProjectUrl1']]\n",
      "#df.to_csv('seeds.txt',index=False)"
     ],
     "language": "python",
     "metadata": {},
     "outputs": [],
     "prompt_number": 10
    },
    {
     "cell_type": "code",
     "collapsed": false,
     "input": [
      "df = df[~df.isnull()]\n",
      "df[df['foundProjectUrl1'].notnull()].to_csv('seeds.txt',index = False)"
     ],
     "language": "python",
     "metadata": {},
     "outputs": [],
     "prompt_number": 11
    },
    {
     "cell_type": "code",
     "collapsed": false,
     "input": [
      "dfseeds = df[df['foundProjectUrl1'].notnull()]"
     ],
     "language": "python",
     "metadata": {},
     "outputs": [],
     "prompt_number": 13
    },
    {
     "cell_type": "code",
     "collapsed": false,
     "input": [
      "from urlparse import urlparse\n",
      "\n",
      "dfseeds['domain'] = ''\n",
      "for index,row in dfseeds.iterrows():\n",
      "    parsed_uri = urlparse(row['foundProjectUrl1'])\n",
      "    baseurl = '{uri.scheme}://{uri.netloc}/'.format(uri=parsed_uri)\n",
      "    domain = str(baseurl.split('.')[-1:])\n",
      "    # filter /\n",
      "    domain = domain.split('/')[0]\n",
      "    dfseeds.ix[index,'domain'] = domain"
     ],
     "language": "python",
     "metadata": {},
     "outputs": [
      {
       "output_type": "stream",
       "stream": "stderr",
       "text": [
        "-c:10: SettingWithCopyWarning: \n",
        "A value is trying to be set on a copy of a slice from a DataFrame\n",
        "\n",
        "See the the caveats in the documentation: http://pandas.pydata.org/pandas-docs/stable/indexing.html#indexing-view-versus-copy\n"
       ]
      }
     ],
     "prompt_number": 96
    },
    {
     "cell_type": "code",
     "collapsed": false,
     "input": [
      "dfseeds['domain'].to_csv('domain_distribution_dataset1.txt',index = False)"
     ],
     "language": "python",
     "metadata": {},
     "outputs": [],
     "prompt_number": 85
    },
    {
     "cell_type": "code",
     "collapsed": false,
     "input": [
      "dfseeds['domain1'] = dfseeds.apply(lambda row: row['domain'][2:],axis=1)"
     ],
     "language": "python",
     "metadata": {},
     "outputs": [],
     "prompt_number": 102
    },
    {
     "cell_type": "code",
     "collapsed": false,
     "input": [
      "colors = ['yellowgreen', 'mediumpurple', 'lightskyblue', 'lightcoral']\n",
      "dfseeds['domain1'].value_counts().plot(kind='pie')\n",
      "plt.axis('equal')"
     ],
     "language": "python",
     "metadata": {},
     "outputs": [
      {
       "metadata": {},
       "output_type": "pyout",
       "prompt_number": 128,
       "text": [
        "(-1.0018152669928557, 1.0, -1.0004949305348947, 1.0093421863018568)"
       ]
      },
      {
       "metadata": {},
       "output_type": "display_data",
       "png": "[encoded data removed]",
       "text": [
        "<matplotlib.figure.Figure at 0x7f1bb5a34050>"
       ]
      }
     ],
     "prompt_number": 128
    },
    {
     "cell_type": "code",
     "collapsed": false,
     "input": [
      "# Custom pie chart"
     ],
     "language": "python",
     "metadata": {},
     "outputs": [],
     "prompt_number": 129
    },
    {
     "cell_type": "code",
     "collapsed": false,
     "input": [
      "dfseeds['domain1'].value_counts()"
     ],
     "language": "python",
     "metadata": {},
     "outputs": [
      {
       "metadata": {},
       "output_type": "pyout",
       "prompt_number": 130,
       "text": [
        "eu      5882\n",
        "com     4274\n",
        "org     2139\n",
        "uk      1057\n",
        "net      723\n",
        "de       722\n",
        "edu      617\n",
        "it       615\n",
        "gov      590\n",
        "info     348\n",
        "es       303\n",
        "fr       299\n",
        "nl       289\n",
        "ch       260\n",
        "at       246\n",
        "...\n",
        "asia        1\n",
        "dz          1\n",
        "com:8443    1\n",
        "es:8080     1\n",
        "20          1\n",
        "248         1\n",
        "249         1\n",
        "my          1\n",
        "im          1\n",
        "id          1\n",
        "hk          1\n",
        "ch:8080     1\n",
        "eus         1\n",
        "sa          1\n",
        "nu          1\n",
        "Length: 97, dtype: int64"
       ]
      }
     ],
     "prompt_number": 130
    },
    {
     "cell_type": "code",
     "collapsed": false,
     "input": [
      "labels = '.eu', '.com', '.org','.uk','.net','.de','.edu','.it','.others'\n",
      "sizes = [5882, 4274, 2139, 1057, 723, 722,617,615,4400]\n",
      "colors = ['yellowgreen', 'mediumpurple', 'lightskyblue', 'Tomato','lightcoral',\n",
      "          'LightGray','SeaGreen','White','Orange']\n",
      "\n",
      "plt.pie(sizes,labels=labels,explode = (0.1,0,0,0,0,0,0,0,0),startangle=90,autopct='%1.f%%', colors = colors)\n",
      "plt.axis('equal')\n",
      "plt.savefig('crawl_data_domain_distribution.pdf', format='pdf', dpi=1200, bbox_inches='tight')"
     ],
     "language": "python",
     "metadata": {},
     "outputs": [
      {
       "metadata": {},
       "output_type": "display_data",
       "png": "[encoded data removed]",
       "text": [
        "<matplotlib.figure.Figure at 0x7f1bb4790a50>"
       ]
      }
     ],
     "prompt_number": 146
    },
    {
     "cell_type": "code",
     "collapsed": false,
     "input": [
      "#other domains\n",
      "20429 - 5882 - 4274 - 2139 - 1057 - 723 - 722 - 617 - 615"
     ],
     "language": "python",
     "metadata": {},
     "outputs": [
      {
       "metadata": {},
       "output_type": "pyout",
       "prompt_number": 140,
       "text": [
        "4400"
       ]
      }
     ],
     "prompt_number": 140
    },
    {
     "cell_type": "code",
     "collapsed": false,
     "input": [
      "dfseeds['domain1'].count()"
     ],
     "language": "python",
     "metadata": {},
     "outputs": [
      {
       "metadata": {},
       "output_type": "pyout",
       "prompt_number": 135,
       "text": [
        "20429"
       ]
      }
     ],
     "prompt_number": 135
    },
    {
     "cell_type": "code",
     "collapsed": false,
     "input": [],
     "language": "python",
     "metadata": {},
     "outputs": []
    }
   ],
   "metadata": {}
  }
 ]
}