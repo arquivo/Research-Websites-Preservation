{
 "metadata": {
  "name": "",
  "signature": "sha256:6f0a7b1b1cb24155ca835008a7abde9e09a50b5426609cd3ef9c69f91a1d0508"
 },
 "nbformat": 3,
 "nbformat_minor": 0,
 "worksheets": [
  {
   "cells": [
    {
     "cell_type": "code",
     "collapsed": false,
     "input": [
      "import numpy as np\n",
      "import matplotlib.pyplot as plt\n",
      "import pandas as pd\n",
      "import sys, os, re\n",
      "%matplotlib inline"
     ],
     "language": "python",
     "metadata": {},
     "outputs": [],
     "prompt_number": 3
    },
    {
     "cell_type": "code",
     "collapsed": false,
     "input": [
      "df = pd.read_csv('fp7projects-full.csv', \n",
      "                 sep =',', quotechar = '\"', index_col=False, usecols = [\"acronym\", \"title\", \"projectUrl\"])"
     ],
     "language": "python",
     "metadata": {},
     "outputs": [],
     "prompt_number": 4
    },
    {
     "cell_type": "markdown",
     "metadata": {},
     "source": [
      "### Removing all non alphanumeric characters"
     ]
    },
    {
     "cell_type": "code",
     "collapsed": false,
     "input": [
      "df['title'] = df['title'].apply(lambda x : re.sub(r'[\\W_]', ' ', x))"
     ],
     "language": "python",
     "metadata": {},
     "outputs": [],
     "prompt_number": 9
    },
    {
     "cell_type": "code",
     "collapsed": false,
     "input": [
      "for index, row in df.iterrows():    \n",
      "    df.ix[index]['acronym'] = row['acronym'].lstrip()\n",
      "    df.ix[index]['acronym'] = row['acronym'].rstrip()\n",
      "    df.ix[index]['title'] = row['title'].lstrip()\n",
      "    df.ix[index]['title'] = row['title'].rstrip()\n",
      "    \n",
      "    df.ix[index]['title'] = ' '.join(row['title'].split())            "
     ],
     "language": "python",
     "metadata": {},
     "outputs": [],
     "prompt_number": 12
    },
    {
     "cell_type": "code",
     "collapsed": false,
     "input": [
      "df = df[df['projectUrl'].isnull()]"
     ],
     "language": "python",
     "metadata": {},
     "outputs": [],
     "prompt_number": 16
    },
    {
     "cell_type": "code",
     "collapsed": false,
     "input": [
      "df.to_csv('fp7projects-full-prepared.csv', index = False) "
     ],
     "language": "python",
     "metadata": {},
     "outputs": [],
     "prompt_number": 18
    },
    {
     "cell_type": "code",
     "collapsed": false,
     "input": [],
     "language": "python",
     "metadata": {},
     "outputs": []
    }
   ],
   "metadata": {}
  }
 ]
}