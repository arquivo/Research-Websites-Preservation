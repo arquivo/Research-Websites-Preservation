{
 "metadata": {
  "name": "",
  "signature": "sha256:59d1793e94a4235dae8e5b7ffa0d24416b4bc08c625208b11a919e61a9bdc90d"
 },
 "nbformat": 3,
 "nbformat_minor": 0,
 "worksheets": [
  {
   "cells": [
    {
     "cell_type": "code",
     "collapsed": false,
     "input": [
      "import numpy as np\n",
      "import matplotlib.pyplot as plt\n",
      "import pandas as pd\n",
      "import sys, os, re\n",
      "%matplotlib inline"
     ],
     "language": "python",
     "metadata": {},
     "outputs": [],
     "prompt_number": 21
    },
    {
     "cell_type": "code",
     "collapsed": false,
     "input": [
      "df = pd.read_csv('cordis-fp6projects.csv', sep=';', index_col = False)"
     ],
     "language": "python",
     "metadata": {},
     "outputs": [],
     "prompt_number": 22
    },
    {
     "cell_type": "code",
     "collapsed": false,
     "input": [
      "df = df[['acronym','title','projectUrl']]\n",
      "df = df.fillna(0)"
     ],
     "language": "python",
     "metadata": {},
     "outputs": [],
     "prompt_number": 40
    },
    {
     "cell_type": "markdown",
     "metadata": {},
     "source": [
      "## Cleaning"
     ]
    },
    {
     "cell_type": "code",
     "collapsed": false,
     "input": [
      "for index, row in df.iterrows():    \n",
      "    df.ix[index]['acronym'] = str(row['acronym']).lstrip()\n",
      "    df.ix[index]['acronym'] = str(row['acronym']).rstrip()\n",
      "    df.ix[index]['title'] = str(row['title']).lstrip()\n",
      "    df.ix[index]['title'] = str(row['title']).rstrip()\n",
      "    \n",
      "    df.ix[index]['title'] = ' '.join(row['title'].split())    \n",
      "    if row['projectUrl'] != 0:\n",
      "        try:\n",
      "            df.ix[index]['projectUrl'] = row['projectUrl'].lstrip()\n",
      "            df.ix[index]['projectUrl'] = row['projectUrl'].rstrip()\n",
      "        except Exception, e:\n",
      "            print row['projectUrl']"
     ],
     "language": "python",
     "metadata": {},
     "outputs": [],
     "prompt_number": 42
    },
    {
     "cell_type": "code",
     "collapsed": false,
     "input": [
      "# get projects without a URL\n",
      "df_nourl = df[df['projectUrl'] == 0]"
     ],
     "language": "python",
     "metadata": {},
     "outputs": [],
     "prompt_number": 45
    },
    {
     "cell_type": "code",
     "collapsed": false,
     "input": [
      "df_nourl.to_csv('fp6_nourl_list.txt', index = False)    "
     ],
     "language": "python",
     "metadata": {},
     "outputs": [],
     "prompt_number": 46
    },
    {
     "cell_type": "code",
     "collapsed": false,
     "input": [],
     "language": "python",
     "metadata": {},
     "outputs": []
    }
   ],
   "metadata": {}
  }
 ]
}