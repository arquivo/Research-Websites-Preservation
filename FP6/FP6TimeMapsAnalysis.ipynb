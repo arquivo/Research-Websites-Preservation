{
 "cells": [
  {
   "cell_type": "code",
   "execution_count": 1,
   "metadata": {
    "collapsed": false
   },
   "outputs": [],
   "source": [
    "import matplotlib.pyplot as plt\n",
    "import pandas as pd\n",
    "import numpy as np\n",
    "import os\n",
    "import json\n",
    "import datetime\n",
    "from pprint import pprint\n",
    "%matplotlib inline"
   ]
  },
  {
   "cell_type": "code",
   "execution_count": 31,
   "metadata": {
    "collapsed": false
   },
   "outputs": [],
   "source": [
    "# build mementos on FP6program online\n",
    "\n",
    "max_year = '2006'\n",
    "min_year = '2002'\n",
    "\n",
    "timemaps_structure = {}\n",
    "\n",
    "for timemap_file in os.listdir('./mementos_all_with_url'):           \n",
    "    with open('./mementos_all_with_url/' + timemap_file) as timemap:    \n",
    "        timemap_json = json.load(timemap)                            \n",
    "        original_uri = timemap_json['original_uri']        \n",
    "        if timemap_json.get('mementos',0) != 0:\n",
    "            all_mementos = timemap_json['mementos']['list']         \n",
    "            accepted_mementos = []\n",
    "            for memento in all_mementos:                \n",
    "                date_string = memento['datetime']                \n",
    "                date = datetime.datetime.strptime(date_string, \"%Y-%m-%dT%H:%M:%S%fZ\")\n",
    "                if (int(date.year) >= int(min_year) and int(date.year) <= int(max_year)):\n",
    "                    accepted_mementos.append(memento)        \n",
    "            timemaps_structure[original_uri] = accepted_mementos"
   ]
  },
  {
   "cell_type": "code",
   "execution_count": 34,
   "metadata": {
    "collapsed": false
   },
   "outputs": [
    {
     "name": "stdout",
     "output_type": "stream",
     "text": [
      "Number of URIs with mementos, and without a valid archived version: 934\n"
     ]
    }
   ],
   "source": [
    "iterator = timemaps_structure.iteritems()\n",
    "count = 0\n",
    "for uri,mementos in iterator:        \n",
    "    if mementos == []:        \n",
    "        count += 1        \n",
    "print \"Number of URIs with mementos, and without a valid archived version: %s\" % count            "
   ]
  },
  {
   "cell_type": "code",
   "execution_count": 33,
   "metadata": {
    "collapsed": false
   },
   "outputs": [
    {
     "data": {
      "text/plain": [
       "{u'datetime': u'2015-08-01T22:00:47Z',\n",
       " u'uri': u'http://web.archive.org/web/20150801220047/http://momocs.org/'}"
      ]
     },
     "execution_count": 33,
     "metadata": {},
     "output_type": "execute_result"
    }
   ],
   "source": [
    "memento"
   ]
  },
  {
   "cell_type": "code",
   "execution_count": 7,
   "metadata": {
    "collapsed": false
   },
   "outputs": [],
   "source": [
    "# Mementos frequency distribution\n",
    "timemaps_frequency = {}\n",
    "\n",
    "iterator = timemaps_structure.iteritems()\n",
    "count = 0\n",
    "for uri,mementos in iterator:    \n",
    "    if mementos != []:\n",
    "        timemaps_frequency[uri] = len(mementos)\n",
    "#print \"Number of URIs without any version archived: %s\" % count "
   ]
  },
  {
   "cell_type": "code",
   "execution_count": 9,
   "metadata": {
    "collapsed": false
   },
   "outputs": [],
   "source": [
    "from urlparse import urlparse\n",
    "import re\n",
    "\n",
    "domains = []\n",
    "\n",
    "iterator = timemaps_structure.iteritems()\n",
    "domains_not_archived = []\n",
    "domains_archived = []\n",
    "for uri,mementos in iterator:    \n",
    "    if mementos == []:\n",
    "        url = urlparse(uri)\n",
    "        url_parsed = url.netloc.split('.')\n",
    "        domains_not_archived.append(url_parsed[len(url_parsed) - 1])\n",
    "    else:\n",
    "        url = urlparse(uri)\n",
    "        url_parsed = url.netloc.split('.')\n",
    "        domains_archived.append(url_parsed[len(url_parsed) - 1])\n",
    "#print \"Number of URIs without any version archived: %s\" % count "
   ]
  },
  {
   "cell_type": "code",
   "execution_count": 10,
   "metadata": {
    "collapsed": false
   },
   "outputs": [],
   "source": [
    "from collections import Counter\n",
    "counter_not_archived = Counter(domains_not_archived)\n",
    "counter_archived = Counter(domains_archived)"
   ]
  },
  {
   "cell_type": "code",
   "execution_count": 11,
   "metadata": {
    "collapsed": false
   },
   "outputs": [
    {
     "data": {
      "text/plain": [
       "Counter({u'11': 1,\n",
       "         u'at': 8,\n",
       "         u'be': 13,\n",
       "         u'bg': 2,\n",
       "         u'biz': 1,\n",
       "         u'cat': 1,\n",
       "         u'ch': 10,\n",
       "         u'com': 82,\n",
       "         u'cy': 1,\n",
       "         u'cz': 1,\n",
       "         u'de': 38,\n",
       "         u'dk': 5,\n",
       "         u'edu': 7,\n",
       "         u'ee': 2,\n",
       "         u'es': 14,\n",
       "         u'eu': 266,\n",
       "         u'fi': 7,\n",
       "         u'fr': 17,\n",
       "         u'gov': 1,\n",
       "         u'gr': 21,\n",
       "         u'hr': 1,\n",
       "         u'hu': 6,\n",
       "         u'ie': 11,\n",
       "         u'il': 2,\n",
       "         u'info': 14,\n",
       "         u'is': 1,\n",
       "         u'it': 25,\n",
       "         u'lt': 1,\n",
       "         u'lv': 1,\n",
       "         u'net': 49,\n",
       "         u'nl': 14,\n",
       "         u'no': 7,\n",
       "         u'nu': 1,\n",
       "         u'org': 221,\n",
       "         u'pl': 13,\n",
       "         u'pt': 4,\n",
       "         u'ro': 3,\n",
       "         u'se': 13,\n",
       "         u'si': 2,\n",
       "         u'sk': 1,\n",
       "         u'tr': 3,\n",
       "         u'tv': 1,\n",
       "         u'uk': 42})"
      ]
     },
     "execution_count": 11,
     "metadata": {},
     "output_type": "execute_result"
    }
   ],
   "source": [
    "counter_not_archived"
   ]
  },
  {
   "cell_type": "code",
   "execution_count": 12,
   "metadata": {
    "collapsed": false
   },
   "outputs": [
    {
     "data": {
      "text/plain": [
       "Counter({u'66': 1,\n",
       "         u'at': 8,\n",
       "         u'be': 5,\n",
       "         u'bg': 2,\n",
       "         u'cc': 2,\n",
       "         u'ch': 8,\n",
       "         u'com': 80,\n",
       "         u'cz': 3,\n",
       "         u'de': 58,\n",
       "         u'dk': 7,\n",
       "         u'edu': 6,\n",
       "         u'ee': 2,\n",
       "         u'es': 9,\n",
       "         u'eu': 38,\n",
       "         u'fi': 10,\n",
       "         u'fr': 30,\n",
       "         u'fr:9098': 1,\n",
       "         u'gr': 12,\n",
       "         u'hu': 3,\n",
       "         u'ie': 13,\n",
       "         u'il': 4,\n",
       "         u'info': 21,\n",
       "         u'int': 4,\n",
       "         u'it': 19,\n",
       "         u'lv': 2,\n",
       "         u'mt': 1,\n",
       "         u'net': 96,\n",
       "         u'nl': 13,\n",
       "         u'no': 3,\n",
       "         u'org': 387,\n",
       "         u'org:8080': 1,\n",
       "         u'pl': 18,\n",
       "         u'pt': 6,\n",
       "         u'ru': 1,\n",
       "         u'se': 11,\n",
       "         u'sk': 1,\n",
       "         u'uk': 32})"
      ]
     },
     "execution_count": 12,
     "metadata": {},
     "output_type": "execute_result"
    }
   ],
   "source": [
    "counter_archived"
   ]
  },
  {
   "cell_type": "code",
   "execution_count": 13,
   "metadata": {
    "collapsed": false
   },
   "outputs": [
    {
     "data": {
      "text/plain": [
       "1.4943820224719102"
      ]
     },
     "execution_count": 13,
     "metadata": {},
     "output_type": "execute_result"
    }
   ],
   "source": [
    "counter_not_archived['eu'] / 178."
   ]
  },
  {
   "cell_type": "markdown",
   "metadata": {},
   "source": [
    "# Web Archives Distribution"
   ]
  },
  {
   "cell_type": "code",
   "execution_count": 14,
   "metadata": {
    "collapsed": false
   },
   "outputs": [],
   "source": [
    "# Mementos frequency distribution\n",
    "list_mementos = []\n",
    "\n",
    "iterator = timemaps_structure.iteritems()\n",
    "count = 0\n",
    "for uri,mementos in iterator:    \n",
    "    if mementos != []:\n",
    "        for m in mementos:\n",
    "            list_mementos.append(m)\n",
    "#print \"Number of URIs without any version archived: %s\" % count "
   ]
  },
  {
   "cell_type": "code",
   "execution_count": 15,
   "metadata": {
    "collapsed": false
   },
   "outputs": [],
   "source": [
    "web_archives = []\n",
    "for memento in list_mementos:\n",
    "    web_archives.append(memento['uri'].split('/')[2])\n",
    "\n",
    "web_archives_distribution = Counter(web_archives)    "
   ]
  },
  {
   "cell_type": "code",
   "execution_count": 16,
   "metadata": {
    "collapsed": false
   },
   "outputs": [
    {
     "data": {
      "text/plain": [
       "Counter({u'arquivo.pt': 30,\n",
       "         u'wayback.vefsafn.is': 3,\n",
       "         u'web.archive.bibalex.org:80': 9576,\n",
       "         u'web.archive.org': 17619,\n",
       "         u'webarchive.loc.gov': 55})"
      ]
     },
     "execution_count": 16,
     "metadata": {},
     "output_type": "execute_result"
    }
   ],
   "source": [
    "web_archives_distribution"
   ]
  },
  {
   "cell_type": "code",
   "execution_count": 17,
   "metadata": {
    "collapsed": false
   },
   "outputs": [
    {
     "data": {
      "text/plain": [
       "27283"
      ]
     },
     "execution_count": 17,
     "metadata": {},
     "output_type": "execute_result"
    }
   ],
   "source": [
    "len(list_mementos)"
   ]
  },
  {
   "cell_type": "code",
   "execution_count": 19,
   "metadata": {
    "collapsed": false
   },
   "outputs": [
    {
     "data": {
      "text/plain": [
       "([<matplotlib.axis.XTick at 0x7f61ae757590>,\n",
       "  <matplotlib.axis.XTick at 0x7f61ac6fd3d0>,\n",
       "  <matplotlib.axis.XTick at 0x7f61ac5e7c10>,\n",
       "  <matplotlib.axis.XTick at 0x7f61ac590490>,\n",
       "  <matplotlib.axis.XTick at 0x7f61ac590bd0>],\n",
       " <a list of 5 Text xticklabel objects>)"
      ]
     },
     "execution_count": 19,
     "metadata": {},
     "output_type": "execute_result"
    },
    {
     "data": {
      "image/png": "[encoded data removed]",
      "text/plain": [
       "<matplotlib.figure.Figure at 0x7f61ac640490>"
      ]
     },
     "metadata": {},
     "output_type": "display_data"
    }
   ],
   "source": [
    "plt.bar(range(len(web_archives_distribution)), web_archives_distribution.values(), align='center',)\n",
    "plt.xticks(range(len(web_archives_distribution)), web_archives_distribution.keys(),  rotation='vertical')"
   ]
  },
  {
   "cell_type": "code",
   "execution_count": 20,
   "metadata": {
    "collapsed": false
   },
   "outputs": [
    {
     "data": {
      "text/plain": [
       "0.9067362714586888"
      ]
     },
     "execution_count": 20,
     "metadata": {},
     "output_type": "execute_result"
    }
   ],
   "source": [
    "9032/9961."
   ]
  },
  {
   "cell_type": "markdown",
   "metadata": {},
   "source": [
    "# FP6 Archvived versions location distribution"
   ]
  },
  {
   "cell_type": "code",
   "execution_count": 22,
   "metadata": {
    "collapsed": false
   },
   "outputs": [],
   "source": [
    "iterator = timemaps_structure.iteritems()\n",
    "count = 0\n",
    "rows_list = []\n",
    "for uri,mementos in iterator:     \n",
    "    if mementos != []:        \n",
    "        dictrcow = {}    \n",
    "        dictrow['URI-O'] = uri\n",
    "        for m in mementos:        \n",
    "            dictrow[m['uri'].split('/')[2]] = 1\n",
    "        rows_list.append(dictrow)"
   ]
  },
  {
   "cell_type": "code",
   "execution_count": 27,
   "metadata": {
    "collapsed": false
   },
   "outputs": [
    {
     "data": {
      "text/plain": [
       "URI-O                         918\n",
       "arquivo.pt                      6\n",
       "wayback.vefsafn.is              2\n",
       "web.archive.bibalex.org:80    526\n",
       "web.archive.org               910\n",
       "webarchive.loc.gov             14\n",
       "dtype: int64"
      ]
     },
     "execution_count": 27,
     "metadata": {},
     "output_type": "execute_result"
    }
   ],
   "source": [
    "df = pd.DataFrame(rows_list)\n",
    "df.count() "
   ]
  },
  {
   "cell_type": "code",
   "execution_count": 36,
   "metadata": {
    "collapsed": false
   },
   "outputs": [
    {
     "data": {
      "text/plain": [
       "URI-O                         38.234069\n",
       "arquivo.pt                     0.249896\n",
       "wayback.vefsafn.is             0.083299\n",
       "web.archive.bibalex.org:80    21.907539\n",
       "web.archive.org               37.900875\n",
       "webarchive.loc.gov             0.583090\n",
       "dtype: float64"
      ]
     },
     "execution_count": 36,
     "metadata": {},
     "output_type": "execute_result"
    }
   ],
   "source": [
    "df.count() / 2401 * 100"
   ]
  },
  {
   "cell_type": "code",
   "execution_count": null,
   "metadata": {
    "collapsed": true
   },
   "outputs": [],
   "source": []
  }
 ],
 "metadata": {
  "kernelspec": {
   "display_name": "Python 2",
   "language": "python",
   "name": "python2"
  },
  "language_info": {
   "codemirror_mode": {
    "name": "ipython",
    "version": 2
   },
   "file_extension": ".py",
   "mimetype": "text/x-python",
   "name": "python",
   "nbconvert_exporter": "python",
   "pygments_lexer": "ipython2",
   "version": "2.7.11+"
  }
 },
 "nbformat": 4,
 "nbformat_minor": 0
}
