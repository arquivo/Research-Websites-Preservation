{
 "metadata": {
  "name": "",
  "signature": "sha256:404bf3464dec3dd58515d64fd1c3648d496e1bd01293706cc27b1e09c8922118"
 },
 "nbformat": 3,
 "nbformat_minor": 0,
 "worksheets": [
  {
   "cells": [
    {
     "cell_type": "code",
     "collapsed": false,
     "input": [
      "import numpy as np\n",
      "import pandas as pd\n",
      "import matplotlib as plt"
     ],
     "language": "python",
     "metadata": {},
     "outputs": [],
     "prompt_number": 1
    },
    {
     "cell_type": "code",
     "collapsed": false,
     "input": [
      "df = pd.read_csv('cordisfp4noobjectives.csv', sep=';', index_col = False)"
     ],
     "language": "python",
     "metadata": {},
     "outputs": [],
     "prompt_number": 2
    },
    {
     "cell_type": "code",
     "collapsed": false,
     "input": [
      "df = df[['Project Title', 'Project Website', 'Project Acronym']]"
     ],
     "language": "python",
     "metadata": {},
     "outputs": [],
     "prompt_number": 3
    },
    {
     "cell_type": "code",
     "collapsed": false,
     "input": [
      "df = df[~df['Project Website'].isnull()]"
     ],
     "language": "python",
     "metadata": {},
     "outputs": [],
     "prompt_number": 4
    },
    {
     "cell_type": "code",
     "collapsed": false,
     "input": [
      "# change columns names\n",
      "df.columns = ['title','projectUrl','acronym']"
     ],
     "language": "python",
     "metadata": {},
     "outputs": [],
     "prompt_number": 5
    },
    {
     "cell_type": "code",
     "collapsed": false,
     "input": [
      "df.to_csv('filtered_fp4_with_url.csv', index_col=False)"
     ],
     "language": "python",
     "metadata": {},
     "outputs": [],
     "prompt_number": 6
    },
    {
     "cell_type": "code",
     "collapsed": false,
     "input": [
      "df = pd.read_csv('filtered_fp4_with_url.csv', index_col=False, usecols=[\"title\",\"projectUrl\",\"acronym\"])"
     ],
     "language": "python",
     "metadata": {},
     "outputs": [],
     "prompt_number": 7
    },
    {
     "cell_type": "code",
     "collapsed": false,
     "input": [
      "df = pd.read_csv('fp4_return_codes.csv')"
     ],
     "language": "python",
     "metadata": {},
     "outputs": [],
     "prompt_number": 49
    },
    {
     "cell_type": "code",
     "collapsed": false,
     "input": [
      "df['return_code'].value_counts()"
     ],
     "language": "python",
     "metadata": {},
     "outputs": [
      {
       "metadata": {},
       "output_type": "pyout",
       "prompt_number": 50,
       "text": [
        "404                                               247\n",
        "[Errno -2] Name or service not known              238\n",
        "200                                               119\n",
        "301                                                72\n",
        "302                                                55\n",
        "timed out                                          54\n",
        "403                                                23\n",
        "[Errno -5] No address associated with hostname     13\n",
        "[Errno 111] Connection refused                      9\n",
        "Server Error                                        7\n",
        "303                                                 4\n",
        "503                                                 4\n",
        "[Errno 113] No route to host                        3\n",
        "500                                                 2\n",
        "307                                                 1\n",
        "408                                                 1\n",
        "418                                                 1\n",
        "dtype: int64"
       ]
      }
     ],
     "prompt_number": 50
    },
    {
     "cell_type": "code",
     "collapsed": false,
     "input": [
      "df = df[(df['return_code'] == '200') |\n",
      "    (df['return_code'] == '301') |\n",
      "    (df['return_code'] == '302') |\n",
      "    (df['return_code'] == '303') |\n",
      "    (df['return_code'] == '307') ]"
     ],
     "language": "python",
     "metadata": {},
     "outputs": [],
     "prompt_number": 51
    },
    {
     "cell_type": "code",
     "collapsed": false,
     "input": [
      "df['projectUrl'][df['redirect_url'].notnull()] = df['redirect_url']\n",
      "df.to_csv('fp4_urls_updated.csv', index_col=False)"
     ],
     "language": "python",
     "metadata": {},
     "outputs": [],
     "prompt_number": 52
    },
    {
     "cell_type": "code",
     "collapsed": false,
     "input": [
      "df"
     ],
     "language": "python",
     "metadata": {},
     "outputs": [
      {
       "html": [
        "<div style=\"max-height:1000px;max-width:1500px;overflow:auto;\">\n",
        "<table border=\"1\" class=\"dataframe\">\n",
        "  <thead>\n",
        "    <tr style=\"text-align: right;\">\n",
        "      <th></th>\n",
        "      <th>title</th>\n",
        "      <th>projectUrl</th>\n",
        "      <th>acronym</th>\n",
        "      <th>return_code</th>\n",
        "      <th>redirect_url</th>\n",
        "    </tr>\n",
        "  </thead>\n",
        "  <tbody>\n",
        "    <tr>\n",
        "      <th>3  </th>\n",
        "      <td>    COMPUTER AIDED POST IN EUROPE IN THE YEAR 2000</td>\n",
        "      <td>              http://www-vs.informatik.uni-ulm.de/</td>\n",
        "      <td>     CAPE 2000</td>\n",
        "      <td> 302</td>\n",
        "      <td>              http://www-vs.informatik.uni-ulm.de/</td>\n",
        "    </tr>\n",
        "    <tr>\n",
        "      <th>11 </th>\n",
        "      <td>           Biofouling Reduction on Optical Systems</td>\n",
        "      <td>         http://www.gla.ac.uk/schools/engineering/</td>\n",
        "      <td>          BROS</td>\n",
        "      <td> 301</td>\n",
        "      <td>         http://www.gla.ac.uk/schools/engineering/</td>\n",
        "    </tr>\n",
        "    <tr>\n",
        "      <th>21 </th>\n",
        "      <td>          European parliaments research initiative</td>\n",
        "      <td>                         http://sagsunseinfach.de/</td>\n",
        "      <td>     EPRIWATCH</td>\n",
        "      <td> 302</td>\n",
        "      <td>                         http://sagsunseinfach.de/</td>\n",
        "    </tr>\n",
        "    <tr>\n",
        "      <th>23 </th>\n",
        "      <td> Learn from video extensive real atm gigabit ex...</td>\n",
        "      <td>                  http://www.dit.upm.es/~leverage/</td>\n",
        "      <td>      LEVERAGE</td>\n",
        "      <td> 301</td>\n",
        "      <td>                  http://www.dit.upm.es/~leverage/</td>\n",
        "    </tr>\n",
        "    <tr>\n",
        "      <th>25 </th>\n",
        "      <td>  Multimedia Information Window for National Hosts</td>\n",
        "      <td>                            http://www.infowin.org</td>\n",
        "      <td>       INFOWIN</td>\n",
        "      <td> 200</td>\n",
        "      <td>                                               NaN</td>\n",
        "    </tr>\n",
        "    <tr>\n",
        "      <th>26 </th>\n",
        "      <td>                  SME and Regional Telecom Support</td>\n",
        "      <td>                             http://www.smarts.org</td>\n",
        "      <td>        SMARTS</td>\n",
        "      <td> 200</td>\n",
        "      <td>                                               NaN</td>\n",
        "    </tr>\n",
        "    <tr>\n",
        "      <th>35 </th>\n",
        "      <td> Embedded filter unit for automotive signal con...</td>\n",
        "      <td>                          http://www.integramm.org</td>\n",
        "      <td>          FILU</td>\n",
        "      <td> 200</td>\n",
        "      <td>                                               NaN</td>\n",
        "    </tr>\n",
        "    <tr>\n",
        "      <th>37 </th>\n",
        "      <td>                  Biogases transfers in estuaries.</td>\n",
        "      <td>               http://labos.ulg.ac.be/oceanologie/</td>\n",
        "      <td>       BIOGEST</td>\n",
        "      <td> 302</td>\n",
        "      <td>               http://labos.ulg.ac.be/oceanologie/</td>\n",
        "    </tr>\n",
        "    <tr>\n",
        "      <th>57 </th>\n",
        "      <td> Miniaturized and reconfigurable instrumentatio...</td>\n",
        "      <td>          http://www.mumm.ac.be/page_not_found.php</td>\n",
        "      <td>         MAUVE</td>\n",
        "      <td> 302</td>\n",
        "      <td>          http://www.mumm.ac.be/page_not_found.php</td>\n",
        "    </tr>\n",
        "    <tr>\n",
        "      <th>71 </th>\n",
        "      <td>    Maritime industries virtual enterprise linkage</td>\n",
        "      <td> http://www.biba.uni-bremen.de/projects/marvelous/</td>\n",
        "      <td>    MARVEL OUS</td>\n",
        "      <td> 301</td>\n",
        "      <td> http://www.biba.uni-bremen.de/projects/marvelous/</td>\n",
        "    </tr>\n",
        "    <tr>\n",
        "      <th>72 </th>\n",
        "      <td> Integrated information and process management ...</td>\n",
        "      <td>                            http://www.ait.org.uk/</td>\n",
        "      <td>          OPAL</td>\n",
        "      <td> 200</td>\n",
        "      <td>                                               NaN</td>\n",
        "    </tr>\n",
        "    <tr>\n",
        "      <th>74 </th>\n",
        "      <td>                            Datamining file server</td>\n",
        "      <td>                         http://www.trans.net/dafs</td>\n",
        "      <td>          DAFS</td>\n",
        "      <td> 200</td>\n",
        "      <td>                                               NaN</td>\n",
        "    </tr>\n",
        "    <tr>\n",
        "      <th>77 </th>\n",
        "      <td> System for high-speed for automatic reading of...</td>\n",
        "      <td>                          http://www.mbr-train.org</td>\n",
        "      <td>        SHAROC</td>\n",
        "      <td> 200</td>\n",
        "      <td>                                               NaN</td>\n",
        "    </tr>\n",
        "    <tr>\n",
        "      <th>86 </th>\n",
        "      <td>               European processing core technology</td>\n",
        "      <td>   http://www.cetia.com/news/EUROPRO/europroj.html</td>\n",
        "      <td>       EUROPRO</td>\n",
        "      <td> 200</td>\n",
        "      <td>                                               NaN</td>\n",
        "    </tr>\n",
        "    <tr>\n",
        "      <th>88 </th>\n",
        "      <td> A parallel optimisation scheme applied to extr...</td>\n",
        "      <td>                            http://www.polyflow.be</td>\n",
        "      <td>          ESOP</td>\n",
        "      <td> 200</td>\n",
        "      <td>                                               NaN</td>\n",
        "    </tr>\n",
        "    <tr>\n",
        "      <th>89 </th>\n",
        "      <td> Integrated simulation and design system for ci...</td>\n",
        "      <td>                                 http://home.cern/</td>\n",
        "      <td>        INSIDE</td>\n",
        "      <td> 301</td>\n",
        "      <td>                                 http://home.cern/</td>\n",
        "    </tr>\n",
        "    <tr>\n",
        "      <th>90 </th>\n",
        "      <td>    Tools for high productivity engineering design</td>\n",
        "      <td>                              http://www.bertin.fr</td>\n",
        "      <td>      TOOLSHED</td>\n",
        "      <td> 200</td>\n",
        "      <td>                                               NaN</td>\n",
        "    </tr>\n",
        "    <tr>\n",
        "      <th>94 </th>\n",
        "      <td> A planning and control system for a semiconduc...</td>\n",
        "      <td> https://www.hugedomains.com/domain_profile.cfm...</td>\n",
        "      <td>      X-CITTIC</td>\n",
        "      <td> 302</td>\n",
        "      <td> https://www.hugedomains.com/domain_profile.cfm...</td>\n",
        "    </tr>\n",
        "    <tr>\n",
        "      <th>98 </th>\n",
        "      <td>   Information technology for the textile industry</td>\n",
        "      <td>                            http://www.euratex.eu/</td>\n",
        "      <td>          ITEX</td>\n",
        "      <td> 302</td>\n",
        "      <td>                            http://www.euratex.eu/</td>\n",
        "    </tr>\n",
        "    <tr>\n",
        "      <th>101</th>\n",
        "      <td>  2 real applications for requirements engineering</td>\n",
        "      <td>       https://staff.info.unamur.be/phe/2rare.html</td>\n",
        "      <td>         2RARE</td>\n",
        "      <td> 302</td>\n",
        "      <td>       https://staff.info.unamur.be/phe/2rare.html</td>\n",
        "    </tr>\n",
        "    <tr>\n",
        "      <th>104</th>\n",
        "      <td>                  HPCN Europe on line newsmagazine</td>\n",
        "      <td>                              http://www.hoise.com</td>\n",
        "      <td>      HOISE NM</td>\n",
        "      <td> 200</td>\n",
        "      <td>                                               NaN</td>\n",
        "    </tr>\n",
        "    <tr>\n",
        "      <th>105</th>\n",
        "      <td>               Optimum design of multibody systems</td>\n",
        "      <td>                                http://ceit.es/en/</td>\n",
        "      <td>        ODESIM</td>\n",
        "      <td> 301</td>\n",
        "      <td>                                http://ceit.es/en/</td>\n",
        "    </tr>\n",
        "    <tr>\n",
        "      <th>107</th>\n",
        "      <td> High performance simulation of internal combus...</td>\n",
        "      <td>                         http://www.hlrs.de/error/</td>\n",
        "      <td>       HPS-ICE</td>\n",
        "      <td> 301</td>\n",
        "      <td>                         http://www.hlrs.de/error/</td>\n",
        "    </tr>\n",
        "    <tr>\n",
        "      <th>112</th>\n",
        "      <td> Temporal object oriented databases within info...</td>\n",
        "      <td>                http://helios.mm.di.uoa.gr/toobis/</td>\n",
        "      <td>        TOOBIS</td>\n",
        "      <td> 301</td>\n",
        "      <td>                http://helios.mm.di.uoa.gr/toobis/</td>\n",
        "    </tr>\n",
        "    <tr>\n",
        "      <th>113</th>\n",
        "      <td> Emerging software technologies for trading and...</td>\n",
        "      <td>                http://www.aber.ac.uk/en/interpol/</td>\n",
        "      <td>    ESTIMATION</td>\n",
        "      <td> 301</td>\n",
        "      <td>                http://www.aber.ac.uk/en/interpol/</td>\n",
        "    </tr>\n",
        "    <tr>\n",
        "      <th>114</th>\n",
        "      <td> Use of the expert system platform REAKT for tr...</td>\n",
        "      <td>                           http://roberta-home.de/</td>\n",
        "      <td>       RETRARO</td>\n",
        "      <td> 301</td>\n",
        "      <td>                           http://roberta-home.de/</td>\n",
        "    </tr>\n",
        "    <tr>\n",
        "      <th>117</th>\n",
        "      <td> Enhancement of electronic system design by EMC...</td>\n",
        "      <td>           http://www.ucl.ac.uk/mariecuriesocanth/</td>\n",
        "      <td>      FP5-EESD</td>\n",
        "      <td> 301</td>\n",
        "      <td>           http://www.ucl.ac.uk/mariecuriesocanth/</td>\n",
        "    </tr>\n",
        "    <tr>\n",
        "      <th>118</th>\n",
        "      <td> Trial applications of case based reasoning for...</td>\n",
        "      <td>             http://www.uclouvain.be/en-43617.html</td>\n",
        "      <td>      APPLICUS</td>\n",
        "      <td> 200</td>\n",
        "      <td>                                               NaN</td>\n",
        "    </tr>\n",
        "    <tr>\n",
        "      <th>119</th>\n",
        "      <td>                             Design for validation</td>\n",
        "      <td> http://boise.namedisplay.com/wp-signup.php?new...</td>\n",
        "      <td>          DEVA</td>\n",
        "      <td> 302</td>\n",
        "      <td> http://boise.namedisplay.com/wp-signup.php?new...</td>\n",
        "    </tr>\n",
        "    <tr>\n",
        "      <th>126</th>\n",
        "      <td> Algorithms and complexity in information techn...</td>\n",
        "      <td>              http://www.dis.uniroma1.it/alcom-it/</td>\n",
        "      <td>      ALCOM IT</td>\n",
        "      <td> 301</td>\n",
        "      <td>              http://www.dis.uniroma1.it/alcom-it/</td>\n",
        "    </tr>\n",
        "    <tr>\n",
        "      <th>...</th>\n",
        "      <td>...</td>\n",
        "      <td>...</td>\n",
        "      <td>...</td>\n",
        "      <td>...</td>\n",
        "      <td>...</td>\n",
        "    </tr>\n",
        "    <tr>\n",
        "      <th>785</th>\n",
        "      <td> TRANSFER OF DETENTE INSTANTANEE CONTROLEE \"D.I...</td>\n",
        "      <td>                      http://www.abcar-dic.com/fr/</td>\n",
        "      <td>           DIC</td>\n",
        "      <td> 303</td>\n",
        "      <td>                      http://www.abcar-dic.com/fr/</td>\n",
        "    </tr>\n",
        "    <tr>\n",
        "      <th>786</th>\n",
        "      <td> Public perceptions of agricultural biotechnolo...</td>\n",
        "      <td>                               http://www.pabe.net</td>\n",
        "      <td>          PABE</td>\n",
        "      <td> 200</td>\n",
        "      <td>                                               NaN</td>\n",
        "    </tr>\n",
        "    <tr>\n",
        "      <th>787</th>\n",
        "      <td>               LABOUR POLICIES INFORMATION NETWORK</td>\n",
        "      <td>                              http://www.lapin.org</td>\n",
        "      <td>         LAPIN</td>\n",
        "      <td> 200</td>\n",
        "      <td>                                               NaN</td>\n",
        "    </tr>\n",
        "    <tr>\n",
        "      <th>788</th>\n",
        "      <td> TELEMATIC MULTIDISCIPLINARY ASSISTIVE TECHNOLO...</td>\n",
        "      <td>                          http://www.telemate.org/</td>\n",
        "      <td>      TELEMATE</td>\n",
        "      <td> 200</td>\n",
        "      <td>                                               NaN</td>\n",
        "    </tr>\n",
        "    <tr>\n",
        "      <th>791</th>\n",
        "      <td> INTEGRATION OF NAVIGATION AND ANTICOLLISION FO...</td>\n",
        "      <td>            https://www.iao.fraunhofer.de/lang-de/</td>\n",
        "      <td>       IN-ARTE</td>\n",
        "      <td> 302</td>\n",
        "      <td>            https://www.iao.fraunhofer.de/lang-de/</td>\n",
        "    </tr>\n",
        "    <tr>\n",
        "      <th>792</th>\n",
        "      <td> PROTOCOLS FOR INTEGRATED SHIP CONTROL AND EVAL...</td>\n",
        "      <td>    http://www.itk.ntnu.no/SINTEF/pisces/Hovedside</td>\n",
        "      <td>        PISCES</td>\n",
        "      <td> 302</td>\n",
        "      <td>    http://www.itk.ntnu.no/SINTEF/pisces/Hovedside</td>\n",
        "    </tr>\n",
        "    <tr>\n",
        "      <th>794</th>\n",
        "      <td> The future developments in farm animal breedin...</td>\n",
        "      <td>                                   http://faip.dk/</td>\n",
        "      <td>           NaN</td>\n",
        "      <td> 301</td>\n",
        "      <td>                                   http://faip.dk/</td>\n",
        "    </tr>\n",
        "    <tr>\n",
        "      <th>795</th>\n",
        "      <td> Transnational collaboration within the EU for ...</td>\n",
        "      <td>                             http://www.euspen.eu/</td>\n",
        "      <td>           NaN</td>\n",
        "      <td> 301</td>\n",
        "      <td>                             http://www.euspen.eu/</td>\n",
        "    </tr>\n",
        "    <tr>\n",
        "      <th>800</th>\n",
        "      <td> European Network for Oceanographic Data &amp; Info...</td>\n",
        "      <td>                        http://www.sea-search.net/</td>\n",
        "      <td>     EURONODIM</td>\n",
        "      <td> 200</td>\n",
        "      <td>                                               NaN</td>\n",
        "    </tr>\n",
        "    <tr>\n",
        "      <th>801</th>\n",
        "      <td> First principles investigation of molecular pr...</td>\n",
        "      <td>                       http://www.3ragrocarbon.com</td>\n",
        "      <td>           NaN</td>\n",
        "      <td> 200</td>\n",
        "      <td>                                               NaN</td>\n",
        "    </tr>\n",
        "    <tr>\n",
        "      <th>802</th>\n",
        "      <td>    Information system for the ESF/QUEEN Programme</td>\n",
        "      <td> https://pangaea.de/search?env=All&amp;q=project%3A...</td>\n",
        "      <td> QUEEN/PANGAEA</td>\n",
        "      <td> 302</td>\n",
        "      <td> https://pangaea.de/search?env=All&amp;q=project%3A...</td>\n",
        "    </tr>\n",
        "    <tr>\n",
        "      <th>803</th>\n",
        "      <td> Development and evaluation of industrial elect...</td>\n",
        "      <td>                             http://www.elsyca.com</td>\n",
        "      <td>       DESINER</td>\n",
        "      <td> 200</td>\n",
        "      <td>                                               NaN</td>\n",
        "    </tr>\n",
        "    <tr>\n",
        "      <th>804</th>\n",
        "      <td>         Nde and life assessment of reformer tubes</td>\n",
        "      <td>                         http://www.edifgroup.com/</td>\n",
        "      <td>          NART</td>\n",
        "      <td> 301</td>\n",
        "      <td>                         http://www.edifgroup.com/</td>\n",
        "    </tr>\n",
        "    <tr>\n",
        "      <th>805</th>\n",
        "      <td>         Catalases for low water textile processes</td>\n",
        "      <td>                          http://www.compete.tm.fr</td>\n",
        "      <td>           NaN</td>\n",
        "      <td> 200</td>\n",
        "      <td>                                               NaN</td>\n",
        "    </tr>\n",
        "    <tr>\n",
        "      <th>811</th>\n",
        "      <td> Mediterranean model networking and archiving p...</td>\n",
        "      <td>                  http://www.ed.ac.uk/geosciences/</td>\n",
        "      <td>        MEDNET</td>\n",
        "      <td> 302</td>\n",
        "      <td>                  http://www.ed.ac.uk/geosciences/</td>\n",
        "    </tr>\n",
        "    <tr>\n",
        "      <th>819</th>\n",
        "      <td> Development and demonstrations of JBIG CODEC a...</td>\n",
        "      <td>                                  http://enbr.org/</td>\n",
        "      <td>     COLOR-JBI</td>\n",
        "      <td> 301</td>\n",
        "      <td>                                  http://enbr.org/</td>\n",
        "    </tr>\n",
        "    <tr>\n",
        "      <th>821</th>\n",
        "      <td> Active non-linear mirror for optical time-divi...</td>\n",
        "      <td>                       http://www.rubicon-net.org/</td>\n",
        "      <td>     ANLM-OTDM</td>\n",
        "      <td> 200</td>\n",
        "      <td>                                               NaN</td>\n",
        "    </tr>\n",
        "    <tr>\n",
        "      <th>822</th>\n",
        "      <td> Successful market exploitation for improved AG...</td>\n",
        "      <td>                              http://www.psi-k.org</td>\n",
        "      <td>         SMART</td>\n",
        "      <td> 200</td>\n",
        "      <td>                                               NaN</td>\n",
        "    </tr>\n",
        "    <tr>\n",
        "      <th>823</th>\n",
        "      <td> Modelling the effect of land degradation on cl...</td>\n",
        "      <td>                              http://www.ceh.ac.uk</td>\n",
        "      <td>           NaN</td>\n",
        "      <td> 200</td>\n",
        "      <td>                                               NaN</td>\n",
        "    </tr>\n",
        "    <tr>\n",
        "      <th>824</th>\n",
        "      <td> RE-START RENEWABLE ENERGIES STRATEGIES AND TEC...</td>\n",
        "      <td>                          http://www.resetters.org</td>\n",
        "      <td>           NaN</td>\n",
        "      <td> 200</td>\n",
        "      <td>                                               NaN</td>\n",
        "    </tr>\n",
        "    <tr>\n",
        "      <th>826</th>\n",
        "      <td> Development of a low cost linear friction weld...</td>\n",
        "      <td>                            http://www.linfric.com</td>\n",
        "      <td>           NaN</td>\n",
        "      <td> 200</td>\n",
        "      <td>                                               NaN</td>\n",
        "    </tr>\n",
        "    <tr>\n",
        "      <th>834</th>\n",
        "      <td> Measuring,monitoring and managing sustainabili...</td>\n",
        "      <td> http://www.teriin.org/index.php?option=com_reg...</td>\n",
        "      <td>           NaN</td>\n",
        "      <td> 302</td>\n",
        "      <td> http://www.teriin.org/index.php?option=com_reg...</td>\n",
        "    </tr>\n",
        "    <tr>\n",
        "      <th>835</th>\n",
        "      <td> HPCN-enabled simulation of cardiovascular and ...</td>\n",
        "      <td>  http://www.csi.mines-paristech.fr/WebCSI/MEDUSE/</td>\n",
        "      <td>      BLOODSIM</td>\n",
        "      <td> 301</td>\n",
        "      <td>  http://www.csi.mines-paristech.fr/WebCSI/MEDUSE/</td>\n",
        "    </tr>\n",
        "    <tr>\n",
        "      <th>836</th>\n",
        "      <td>  European footwear network for electronic trading</td>\n",
        "      <td> http://www.uni-konstanz.de/crimeandculture/cri...</td>\n",
        "      <td>         EFNET</td>\n",
        "      <td> 200</td>\n",
        "      <td>                                               NaN</td>\n",
        "    </tr>\n",
        "    <tr>\n",
        "      <th>837</th>\n",
        "      <td> New interactive and embedded system for audio ...</td>\n",
        "      <td>                   http://www.ftu-namur.org/sprew/</td>\n",
        "      <td>    GUIDE-MAN2</td>\n",
        "      <td> 200</td>\n",
        "      <td>                                               NaN</td>\n",
        "    </tr>\n",
        "    <tr>\n",
        "      <th>841</th>\n",
        "      <td>   Knowledge management with intranet technologies</td>\n",
        "      <td>    http://www.csi.mines-paristech.fr/WebCSI/PICO/</td>\n",
        "      <td>       KNOWNET</td>\n",
        "      <td> 301</td>\n",
        "      <td>    http://www.csi.mines-paristech.fr/WebCSI/PICO/</td>\n",
        "    </tr>\n",
        "    <tr>\n",
        "      <th>842</th>\n",
        "      <td> Medical representative on-line simulation trai...</td>\n",
        "      <td>         http://www.lse.ac.uk/fmg/research/RICAFE/</td>\n",
        "      <td>          MOST</td>\n",
        "      <td> 302</td>\n",
        "      <td>         http://www.lse.ac.uk/fmg/research/RICAFE/</td>\n",
        "    </tr>\n",
        "    <tr>\n",
        "      <th>844</th>\n",
        "      <td> Step-compliant data interface for numeric cont...</td>\n",
        "      <td>                  http://www.step-nc.org/index.htm</td>\n",
        "      <td>       STEP-NC</td>\n",
        "      <td> 302</td>\n",
        "      <td>                  http://www.step-nc.org/index.htm</td>\n",
        "    </tr>\n",
        "    <tr>\n",
        "      <th>847</th>\n",
        "      <td> Industry NGO fieldtest of improved efficiency ...</td>\n",
        "      <td> http://www.iesl.forth.gr/research/activity.asp...</td>\n",
        "      <td>       INFIELD</td>\n",
        "      <td> 200</td>\n",
        "      <td>                                               NaN</td>\n",
        "    </tr>\n",
        "    <tr>\n",
        "      <th>850</th>\n",
        "      <td> European Network on Developing Techniques for ...</td>\n",
        "      <td>                    https://www.jyu.fi/fysiikka/en</td>\n",
        "      <td>      EXOTRAPS</td>\n",
        "      <td> 301</td>\n",
        "      <td>                    https://www.jyu.fi/fysiikka/en</td>\n",
        "    </tr>\n",
        "  </tbody>\n",
        "</table>\n",
        "<p>251 rows \u00d7 5 columns</p>\n",
        "</div>"
       ],
       "metadata": {},
       "output_type": "pyout",
       "prompt_number": 53,
       "text": [
        "                                                 title  \\\n",
        "3       COMPUTER AIDED POST IN EUROPE IN THE YEAR 2000   \n",
        "11             Biofouling Reduction on Optical Systems   \n",
        "21            European parliaments research initiative   \n",
        "23   Learn from video extensive real atm gigabit ex...   \n",
        "25    Multimedia Information Window for National Hosts   \n",
        "26                    SME and Regional Telecom Support   \n",
        "35   Embedded filter unit for automotive signal con...   \n",
        "37                    Biogases transfers in estuaries.   \n",
        "57   Miniaturized and reconfigurable instrumentatio...   \n",
        "71      Maritime industries virtual enterprise linkage   \n",
        "72   Integrated information and process management ...   \n",
        "74                              Datamining file server   \n",
        "77   System for high-speed for automatic reading of...   \n",
        "86                 European processing core technology   \n",
        "88   A parallel optimisation scheme applied to extr...   \n",
        "89   Integrated simulation and design system for ci...   \n",
        "90      Tools for high productivity engineering design   \n",
        "94   A planning and control system for a semiconduc...   \n",
        "98     Information technology for the textile industry   \n",
        "101   2 real applications for requirements engineering   \n",
        "104                   HPCN Europe on line newsmagazine   \n",
        "105                Optimum design of multibody systems   \n",
        "107  High performance simulation of internal combus...   \n",
        "112  Temporal object oriented databases within info...   \n",
        "113  Emerging software technologies for trading and...   \n",
        "114  Use of the expert system platform REAKT for tr...   \n",
        "117  Enhancement of electronic system design by EMC...   \n",
        "118  Trial applications of case based reasoning for...   \n",
        "119                              Design for validation   \n",
        "126  Algorithms and complexity in information techn...   \n",
        "..                                                 ...   \n",
        "785  TRANSFER OF DETENTE INSTANTANEE CONTROLEE \"D.I...   \n",
        "786  Public perceptions of agricultural biotechnolo...   \n",
        "787                LABOUR POLICIES INFORMATION NETWORK   \n",
        "788  TELEMATIC MULTIDISCIPLINARY ASSISTIVE TECHNOLO...   \n",
        "791  INTEGRATION OF NAVIGATION AND ANTICOLLISION FO...   \n",
        "792  PROTOCOLS FOR INTEGRATED SHIP CONTROL AND EVAL...   \n",
        "794  The future developments in farm animal breedin...   \n",
        "795  Transnational collaboration within the EU for ...   \n",
        "800  European Network for Oceanographic Data & Info...   \n",
        "801  First principles investigation of molecular pr...   \n",
        "802     Information system for the ESF/QUEEN Programme   \n",
        "803  Development and evaluation of industrial elect...   \n",
        "804          Nde and life assessment of reformer tubes   \n",
        "805          Catalases for low water textile processes   \n",
        "811  Mediterranean model networking and archiving p...   \n",
        "819  Development and demonstrations of JBIG CODEC a...   \n",
        "821  Active non-linear mirror for optical time-divi...   \n",
        "822  Successful market exploitation for improved AG...   \n",
        "823  Modelling the effect of land degradation on cl...   \n",
        "824  RE-START RENEWABLE ENERGIES STRATEGIES AND TEC...   \n",
        "826  Development of a low cost linear friction weld...   \n",
        "834  Measuring,monitoring and managing sustainabili...   \n",
        "835  HPCN-enabled simulation of cardiovascular and ...   \n",
        "836   European footwear network for electronic trading   \n",
        "837  New interactive and embedded system for audio ...   \n",
        "841    Knowledge management with intranet technologies   \n",
        "842  Medical representative on-line simulation trai...   \n",
        "844  Step-compliant data interface for numeric cont...   \n",
        "847  Industry NGO fieldtest of improved efficiency ...   \n",
        "850  European Network on Developing Techniques for ...   \n",
        "\n",
        "                                            projectUrl        acronym  \\\n",
        "3                 http://www-vs.informatik.uni-ulm.de/      CAPE 2000   \n",
        "11           http://www.gla.ac.uk/schools/engineering/           BROS   \n",
        "21                           http://sagsunseinfach.de/      EPRIWATCH   \n",
        "23                    http://www.dit.upm.es/~leverage/       LEVERAGE   \n",
        "25                              http://www.infowin.org        INFOWIN   \n",
        "26                               http://www.smarts.org         SMARTS   \n",
        "35                            http://www.integramm.org           FILU   \n",
        "37                 http://labos.ulg.ac.be/oceanologie/        BIOGEST   \n",
        "57            http://www.mumm.ac.be/page_not_found.php          MAUVE   \n",
        "71   http://www.biba.uni-bremen.de/projects/marvelous/     MARVEL OUS   \n",
        "72                              http://www.ait.org.uk/           OPAL   \n",
        "74                           http://www.trans.net/dafs           DAFS   \n",
        "77                            http://www.mbr-train.org         SHAROC   \n",
        "86     http://www.cetia.com/news/EUROPRO/europroj.html        EUROPRO   \n",
        "88                              http://www.polyflow.be           ESOP   \n",
        "89                                   http://home.cern/         INSIDE   \n",
        "90                                http://www.bertin.fr       TOOLSHED   \n",
        "94   https://www.hugedomains.com/domain_profile.cfm...       X-CITTIC   \n",
        "98                              http://www.euratex.eu/           ITEX   \n",
        "101        https://staff.info.unamur.be/phe/2rare.html          2RARE   \n",
        "104                               http://www.hoise.com       HOISE NM   \n",
        "105                                 http://ceit.es/en/         ODESIM   \n",
        "107                          http://www.hlrs.de/error/        HPS-ICE   \n",
        "112                 http://helios.mm.di.uoa.gr/toobis/         TOOBIS   \n",
        "113                 http://www.aber.ac.uk/en/interpol/     ESTIMATION   \n",
        "114                            http://roberta-home.de/        RETRARO   \n",
        "117            http://www.ucl.ac.uk/mariecuriesocanth/       FP5-EESD   \n",
        "118              http://www.uclouvain.be/en-43617.html       APPLICUS   \n",
        "119  http://boise.namedisplay.com/wp-signup.php?new...           DEVA   \n",
        "126               http://www.dis.uniroma1.it/alcom-it/       ALCOM IT   \n",
        "..                                                 ...            ...   \n",
        "785                       http://www.abcar-dic.com/fr/            DIC   \n",
        "786                                http://www.pabe.net           PABE   \n",
        "787                               http://www.lapin.org          LAPIN   \n",
        "788                           http://www.telemate.org/       TELEMATE   \n",
        "791             https://www.iao.fraunhofer.de/lang-de/        IN-ARTE   \n",
        "792     http://www.itk.ntnu.no/SINTEF/pisces/Hovedside         PISCES   \n",
        "794                                    http://faip.dk/            NaN   \n",
        "795                              http://www.euspen.eu/            NaN   \n",
        "800                         http://www.sea-search.net/      EURONODIM   \n",
        "801                        http://www.3ragrocarbon.com            NaN   \n",
        "802  https://pangaea.de/search?env=All&q=project%3A...  QUEEN/PANGAEA   \n",
        "803                              http://www.elsyca.com        DESINER   \n",
        "804                          http://www.edifgroup.com/           NART   \n",
        "805                           http://www.compete.tm.fr            NaN   \n",
        "811                   http://www.ed.ac.uk/geosciences/         MEDNET   \n",
        "819                                   http://enbr.org/      COLOR-JBI   \n",
        "821                        http://www.rubicon-net.org/      ANLM-OTDM   \n",
        "822                               http://www.psi-k.org          SMART   \n",
        "823                               http://www.ceh.ac.uk            NaN   \n",
        "824                           http://www.resetters.org            NaN   \n",
        "826                             http://www.linfric.com            NaN   \n",
        "834  http://www.teriin.org/index.php?option=com_reg...            NaN   \n",
        "835   http://www.csi.mines-paristech.fr/WebCSI/MEDUSE/       BLOODSIM   \n",
        "836  http://www.uni-konstanz.de/crimeandculture/cri...          EFNET   \n",
        "837                    http://www.ftu-namur.org/sprew/     GUIDE-MAN2   \n",
        "841     http://www.csi.mines-paristech.fr/WebCSI/PICO/        KNOWNET   \n",
        "842          http://www.lse.ac.uk/fmg/research/RICAFE/           MOST   \n",
        "844                   http://www.step-nc.org/index.htm        STEP-NC   \n",
        "847  http://www.iesl.forth.gr/research/activity.asp...        INFIELD   \n",
        "850                     https://www.jyu.fi/fysiikka/en       EXOTRAPS   \n",
        "\n",
        "    return_code                                       redirect_url  \n",
        "3           302               http://www-vs.informatik.uni-ulm.de/  \n",
        "11          301          http://www.gla.ac.uk/schools/engineering/  \n",
        "21          302                          http://sagsunseinfach.de/  \n",
        "23          301                   http://www.dit.upm.es/~leverage/  \n",
        "25          200                                                NaN  \n",
        "26          200                                                NaN  \n",
        "35          200                                                NaN  \n",
        "37          302                http://labos.ulg.ac.be/oceanologie/  \n",
        "57          302           http://www.mumm.ac.be/page_not_found.php  \n",
        "71          301  http://www.biba.uni-bremen.de/projects/marvelous/  \n",
        "72          200                                                NaN  \n",
        "74          200                                                NaN  \n",
        "77          200                                                NaN  \n",
        "86          200                                                NaN  \n",
        "88          200                                                NaN  \n",
        "89          301                                  http://home.cern/  \n",
        "90          200                                                NaN  \n",
        "94          302  https://www.hugedomains.com/domain_profile.cfm...  \n",
        "98          302                             http://www.euratex.eu/  \n",
        "101         302        https://staff.info.unamur.be/phe/2rare.html  \n",
        "104         200                                                NaN  \n",
        "105         301                                 http://ceit.es/en/  \n",
        "107         301                          http://www.hlrs.de/error/  \n",
        "112         301                 http://helios.mm.di.uoa.gr/toobis/  \n",
        "113         301                 http://www.aber.ac.uk/en/interpol/  \n",
        "114         301                            http://roberta-home.de/  \n",
        "117         301            http://www.ucl.ac.uk/mariecuriesocanth/  \n",
        "118         200                                                NaN  \n",
        "119         302  http://boise.namedisplay.com/wp-signup.php?new...  \n",
        "126         301               http://www.dis.uniroma1.it/alcom-it/  \n",
        "..          ...                                                ...  \n",
        "785         303                       http://www.abcar-dic.com/fr/  \n",
        "786         200                                                NaN  \n",
        "787         200                                                NaN  \n",
        "788         200                                                NaN  \n",
        "791         302             https://www.iao.fraunhofer.de/lang-de/  \n",
        "792         302     http://www.itk.ntnu.no/SINTEF/pisces/Hovedside  \n",
        "794         301                                    http://faip.dk/  \n",
        "795         301                              http://www.euspen.eu/  \n",
        "800         200                                                NaN  \n",
        "801         200                                                NaN  \n",
        "802         302  https://pangaea.de/search?env=All&q=project%3A...  \n",
        "803         200                                                NaN  \n",
        "804         301                          http://www.edifgroup.com/  \n",
        "805         200                                                NaN  \n",
        "811         302                   http://www.ed.ac.uk/geosciences/  \n",
        "819         301                                   http://enbr.org/  \n",
        "821         200                                                NaN  \n",
        "822         200                                                NaN  \n",
        "823         200                                                NaN  \n",
        "824         200                                                NaN  \n",
        "826         200                                                NaN  \n",
        "834         302  http://www.teriin.org/index.php?option=com_reg...  \n",
        "835         301   http://www.csi.mines-paristech.fr/WebCSI/MEDUSE/  \n",
        "836         200                                                NaN  \n",
        "837         200                                                NaN  \n",
        "841         301     http://www.csi.mines-paristech.fr/WebCSI/PICO/  \n",
        "842         302          http://www.lse.ac.uk/fmg/research/RICAFE/  \n",
        "844         302                   http://www.step-nc.org/index.htm  \n",
        "847         200                                                NaN  \n",
        "850         301                     https://www.jyu.fi/fysiikka/en  \n",
        "\n",
        "[251 rows x 5 columns]"
       ]
      }
     ],
     "prompt_number": 53
    },
    {
     "cell_type": "markdown",
     "metadata": {},
     "source": [
      "# URL Context Validation"
     ]
    },
    {
     "cell_type": "code",
     "collapsed": false,
     "input": [
      "# PSEUDO ALGORITHM\n",
      "#1. tokenize title\n",
      "#2. lower case tokens\n",
      "#3. extract text corpus from site\n",
      "#4. tokenize text corpus\n",
      "#5. lower case tokens\n",
      "#4. match title on text corpus\n",
      "import urllib2\n",
      "import re\n",
      "from bs4 import BeautifulSoup\n",
      "\n",
      "def extract_text(html_corpus):\n",
      "    stripped_html = []\n",
      "    \n",
      "    soup = BeautifulSoup(html_corpus, 'lxml')\n",
      "    \n",
      "    # remove all script and style elements\n",
      "    for junk in soup([\"script\", \"style\"]):\n",
      "        junk.extract()\n",
      "    \n",
      "    # pageText = soup.find_all('p').getText()\n",
      "    pageText = soup.get_text(separator=' ')\n",
      "    lines = (line.strip() for line in pageText.splitlines())\n",
      "    chunks = (phrase.strip()\n",
      "              for line in lines for phrase in line.split(\"  \"))\n",
      "    text = '\\n'.join(chunk for chunk in chunks if chunk)\n",
      "    stripped_html.append(text)    \n",
      "    return text\n",
      "\n",
      "def tokenizer(text):\n",
      "    \"\"\"Tokenizer function to extract words and stem them.\"\"\"    \n",
      "    words = set(re.sub(r'[\\W_\\d]', ' ', text).lower().split())\n",
      "    words_pruned = words.copy()\n",
      "    for word in words:\n",
      "        if len(word) <= 3:\n",
      "             words_pruned.discard(word)                \n",
      "    return words_pruned    \n",
      "\n",
      "def download_html(url):\n",
      "    print 'Downloading %s' % url\n",
      "    u = urllib2.urlopen(url, timeout = 10)\n",
      "    return u.read()\n",
      "\n",
      "for index,row in df.iterrows():\n",
      "    url = row['projectUrl']\n",
      "    try:\n",
      "        html_corpus = download_html(url)        \n",
      "        site_tokens = set(tokenizer(extract_text(html_corpus)))                \n",
      "        title_tokens = set(tokenizer(row['title']))\n",
      "        intersection = title_tokens.intersection(site_tokens)\n",
      "        if len(intersection) >= len(title_tokens) / 2:\n",
      "            df.loc[index,'ValidURL'] = True\n",
      "            df.loc[index,'Intersection'] = len(intersection)\n",
      "        else:\n",
      "            df.loc[index,'ValidURL'] = False\n",
      "            df.loc[index,'Intersection'] = len(intersection)\n",
      "    except Exception:\n",
      "        df.loc[index,'ValidURL'] = False\n",
      "        df.loc[index,'Intersection'] = 0\n",
      "        print 'Unhandled Error'\n"
     ],
     "language": "python",
     "metadata": {},
     "outputs": [
      {
       "output_type": "stream",
       "stream": "stdout",
       "text": [
        "Downloading http://www-vs.informatik.uni-ulm.de/\n",
        "Downloading http://www.gla.ac.uk/schools/engineering/"
       ]
      },
      {
       "output_type": "stream",
       "stream": "stdout",
       "text": [
        "\n",
        "Downloading http://sagsunseinfach.de/"
       ]
      },
      {
       "output_type": "stream",
       "stream": "stdout",
       "text": [
        "\n",
        "Unhandled Error"
       ]
      },
      {
       "output_type": "stream",
       "stream": "stdout",
       "text": [
        "\n",
        "Downloading http://www.dit.upm.es/~leverage/\n",
        "Downloading http://www.infowin.org"
       ]
      },
      {
       "output_type": "stream",
       "stream": "stdout",
       "text": [
        "\n",
        "Downloading http://www.smarts.org"
       ]
      },
      {
       "output_type": "stream",
       "stream": "stdout",
       "text": [
        "\n",
        "Unhandled Error"
       ]
      },
      {
       "output_type": "stream",
       "stream": "stdout",
       "text": [
        "\n",
        "Downloading http://www.integramm.org\n",
        "Downloading http://labos.ulg.ac.be/oceanologie/"
       ]
      },
      {
       "output_type": "stream",
       "stream": "stdout",
       "text": [
        "\n",
        "Downloading http://www.mumm.ac.be/page_not_found.php"
       ]
      },
      {
       "output_type": "stream",
       "stream": "stdout",
       "text": [
        "\n",
        "Downloading http://www.biba.uni-bremen.de/projects/marvelous/"
       ]
      },
      {
       "output_type": "stream",
       "stream": "stdout",
       "text": [
        "\n",
        "Downloading http://www.ait.org.uk/"
       ]
      },
      {
       "output_type": "stream",
       "stream": "stdout",
       "text": [
        "\n",
        "Downloading http://www.trans.net/dafs"
       ]
      },
      {
       "output_type": "stream",
       "stream": "stdout",
       "text": [
        "\n",
        "Downloading http://www.mbr-train.org"
       ]
      },
      {
       "output_type": "stream",
       "stream": "stdout",
       "text": [
        "\n",
        "Downloading http://www.cetia.com/news/EUROPRO/europroj.html"
       ]
      },
      {
       "output_type": "stream",
       "stream": "stdout",
       "text": [
        "\n",
        "Downloading http://www.polyflow.be"
       ]
      },
      {
       "output_type": "stream",
       "stream": "stdout",
       "text": [
        "\n",
        "Downloading http://home.cern/"
       ]
      },
      {
       "output_type": "stream",
       "stream": "stdout",
       "text": [
        "\n",
        "Downloading http://www.bertin.fr"
       ]
      },
      {
       "output_type": "stream",
       "stream": "stdout",
       "text": [
        "\n",
        "Downloading https://www.hugedomains.com/domain_profile.cfm?d=nimblesite&e=com"
       ]
      },
      {
       "output_type": "stream",
       "stream": "stdout",
       "text": [
        "\n",
        "Downloading http://www.euratex.eu/"
       ]
      },
      {
       "output_type": "stream",
       "stream": "stdout",
       "text": [
        "\n",
        "Downloading https://staff.info.unamur.be/phe/2rare.html"
       ]
      },
      {
       "output_type": "stream",
       "stream": "stdout",
       "text": [
        "\n",
        "Downloading http://www.hoise.com"
       ]
      },
      {
       "output_type": "stream",
       "stream": "stdout",
       "text": [
        "\n",
        "Downloading http://ceit.es/en/"
       ]
      },
      {
       "output_type": "stream",
       "stream": "stdout",
       "text": [
        "\n",
        "Downloading http://www.hlrs.de/error/"
       ]
      },
      {
       "output_type": "stream",
       "stream": "stdout",
       "text": [
        "\n",
        "Downloading http://helios.mm.di.uoa.gr/toobis/"
       ]
      },
      {
       "output_type": "stream",
       "stream": "stdout",
       "text": [
        "\n",
        "Downloading http://www.aber.ac.uk/en/interpol/"
       ]
      },
      {
       "output_type": "stream",
       "stream": "stdout",
       "text": [
        "\n",
        "Downloading http://roberta-home.de/"
       ]
      },
      {
       "output_type": "stream",
       "stream": "stdout",
       "text": [
        "\n",
        "Downloading http://www.ucl.ac.uk/mariecuriesocanth/"
       ]
      },
      {
       "output_type": "stream",
       "stream": "stdout",
       "text": [
        "\n",
        "Downloading http://www.uclouvain.be/en-43617.html"
       ]
      },
      {
       "output_type": "stream",
       "stream": "stdout",
       "text": [
        "\n",
        "Downloading http://boise.namedisplay.com/wp-signup.php?new=www.newcastle.research.ec.org"
       ]
      },
      {
       "output_type": "stream",
       "stream": "stdout",
       "text": [
        "\n",
        "Downloading http://www.dis.uniroma1.it/alcom-it/"
       ]
      },
      {
       "output_type": "stream",
       "stream": "stdout",
       "text": [
        "\n",
        "Downloading http://www.uni-kassel.de/fb15/ite/solar/solnet/"
       ]
      },
      {
       "output_type": "stream",
       "stream": "stdout",
       "text": [
        "\n",
        "Downloading http://www.ieec.uned.es/"
       ]
      },
      {
       "output_type": "stream",
       "stream": "stdout",
       "text": [
        "\n",
        "Downloading http://me2doc.com/"
       ]
      },
      {
       "output_type": "stream",
       "stream": "stdout",
       "text": [
        "\n",
        "Downloading http://www.kaifestersen.com/"
       ]
      },
      {
       "output_type": "stream",
       "stream": "stdout",
       "text": [
        "\n",
        "Downloading http://www.plantscafe.net/"
       ]
      },
      {
       "output_type": "stream",
       "stream": "stdout",
       "text": [
        "\n",
        "Downloading http://tissus.cpr.it/"
       ]
      },
      {
       "output_type": "stream",
       "stream": "stdout",
       "text": [
        "\n",
        "Downloading http://www.omega.it/"
       ]
      },
      {
       "output_type": "stream",
       "stream": "stdout",
       "text": [
        "\n",
        "Downloading http://www.ehto.be/ht_projects/vrepar/"
       ]
      },
      {
       "output_type": "stream",
       "stream": "stdout",
       "text": [
        "\n",
        "Downloading http://www.dfki.de/fluids/"
       ]
      },
      {
       "output_type": "stream",
       "stream": "stdout",
       "text": [
        "\n",
        "Downloading https://imp.boku.ac.at/votalp/"
       ]
      },
      {
       "output_type": "stream",
       "stream": "stdout",
       "text": [
        "\n",
        "Downloading http://www.nilu.no/projects/baltic/"
       ]
      },
      {
       "output_type": "stream",
       "stream": "stdout",
       "text": [
        "\n",
        "Downloading http://www.regam.se"
       ]
      },
      {
       "output_type": "stream",
       "stream": "stdout",
       "text": [
        "\n",
        "Downloading http://www.materna.de/DE/Home/home_node.html"
       ]
      },
      {
       "output_type": "stream",
       "stream": "stdout",
       "text": [
        "\n",
        "Downloading http://www.svb.nl/project/testlab/testlab.htm"
       ]
      },
      {
       "output_type": "stream",
       "stream": "stdout",
       "text": [
        "\n",
        "Downloading http://www.inf.ed.ac.uk/systems/web/oldcogsci.html"
       ]
      },
      {
       "output_type": "stream",
       "stream": "stdout",
       "text": [
        "\n",
        "Downloading http://www.envirocity.com"
       ]
      },
      {
       "output_type": "stream",
       "stream": "stdout",
       "text": [
        "\n",
        "Downloading http://www.ehto.be/"
       ]
      },
      {
       "output_type": "stream",
       "stream": "stdout",
       "text": [
        "\n",
        "Downloading https://www.surf.nl/over-surf/werkmaatschappijen/surfnet"
       ]
      },
      {
       "output_type": "stream",
       "stream": "stdout",
       "text": [
        "\n",
        "Downloading http://www.univ-lille2.fr/"
       ]
      },
      {
       "output_type": "stream",
       "stream": "stdout",
       "text": [
        "\n",
        "Downloading http://www.sintef.no/en/marintek/"
       ]
      },
      {
       "output_type": "stream",
       "stream": "stdout",
       "text": [
        "\n",
        "Downloading http://www.comnets.rwth-aachen.de/home.html"
       ]
      },
      {
       "output_type": "stream",
       "stream": "stdout",
       "text": [
        "\n",
        "Downloading http://www.sycomore.fr/"
       ]
      },
      {
       "output_type": "stream",
       "stream": "stdout",
       "text": [
        "\n",
        "Downloading http://www.agora.org/home"
       ]
      },
      {
       "output_type": "stream",
       "stream": "stdout",
       "text": [
        "\n",
        "Downloading http://www.diabcare.de/dc_stvincent/_cats.htm"
       ]
      },
      {
       "output_type": "stream",
       "stream": "stdout",
       "text": [
        "\n",
        "Downloading http://www.roma.otm.it"
       ]
      },
      {
       "output_type": "stream",
       "stream": "stdout",
       "text": [
        "\n",
        "Downloading http://www.ebr.org/"
       ]
      },
      {
       "output_type": "stream",
       "stream": "stdout",
       "text": [
        "\n",
        "Downloading http://www.dmu.dk/lakeandestuarineecology/NICE/"
       ]
      },
      {
       "output_type": "stream",
       "stream": "stdout",
       "text": [
        "\n",
        "Downloading http://www.medac.de/startseite/"
       ]
      },
      {
       "output_type": "stream",
       "stream": "stdout",
       "text": [
        "\n",
        "Downloading http://www.siegert.de"
       ]
      },
      {
       "output_type": "stream",
       "stream": "stdout",
       "text": [
        "\n",
        "Downloading http://www.edc-internet.nl/nl/"
       ]
      },
      {
       "output_type": "stream",
       "stream": "stdout",
       "text": [
        "\n",
        "Downloading http://www.softwareag.com/corporate/default.asp"
       ]
      },
      {
       "output_type": "stream",
       "stream": "stdout",
       "text": [
        "\n",
        "Downloading http://www.ncl.ac.uk/cbcb/"
       ]
      },
      {
       "output_type": "stream",
       "stream": "stdout",
       "text": [
        "\n",
        "Downloading http://www.opengroup.org/"
       ]
      },
      {
       "output_type": "stream",
       "stream": "stdout",
       "text": [
        "\n",
        "Downloading http://www.lancaster.ac.uk/scc/"
       ]
      },
      {
       "output_type": "stream",
       "stream": "stdout",
       "text": [
        "\n",
        "Downloading https://www.scimitar.terena.nl/scimitar/"
       ]
      },
      {
       "output_type": "stream",
       "stream": "stdout",
       "text": [
        "\n",
        "Downloading http://www.nottingham.ac.uk/cmmb/index.aspx"
       ]
      },
      {
       "output_type": "stream",
       "stream": "stdout",
       "text": [
        "\n",
        "Downloading http://www.lboro.ac.uk/elsewise/"
       ]
      },
      {
       "output_type": "stream",
       "stream": "stdout",
       "text": [
        "\n",
        "Downloading http://www.cecam.org/"
       ]
      },
      {
       "output_type": "stream",
       "stream": "stdout",
       "text": [
        "\n",
        "Downloading http://www.ruhr-uni-bochum.de/novobrain/"
       ]
      },
      {
       "output_type": "stream",
       "stream": "stdout",
       "text": [
        "\n",
        "Downloading http://www.smithsys.co.uk/"
       ]
      },
      {
       "output_type": "stream",
       "stream": "stdout",
       "text": [
        "\n",
        "Downloading http://www.atomos.org/"
       ]
      },
      {
       "output_type": "stream",
       "stream": "stdout",
       "text": [
        "\n",
        "Unhandled Error"
       ]
      },
      {
       "output_type": "stream",
       "stream": "stdout",
       "text": [
        "\n",
        "Downloading http://www.ait.org.uk/\n",
        "Downloading http://www.mcube.org"
       ]
      },
      {
       "output_type": "stream",
       "stream": "stdout",
       "text": [
        "\n",
        "Downloading http://www.cl.cam.ac.uk/research/srg/pegasus/"
       ]
      },
      {
       "output_type": "stream",
       "stream": "stdout",
       "text": [
        "\n",
        "Downloading http://umr-bgpi.cirad.fr/equipes/equipe3.htm"
       ]
      },
      {
       "output_type": "stream",
       "stream": "stdout",
       "text": [
        "\n",
        "Downloading http://ww1.3dscanners.com/"
       ]
      },
      {
       "output_type": "stream",
       "stream": "stdout",
       "text": [
        "\n",
        "Downloading http://www.fatronik.com"
       ]
      },
      {
       "output_type": "stream",
       "stream": "stdout",
       "text": [
        "\n",
        "Downloading http://www.echangeur.fr"
       ]
      },
      {
       "output_type": "stream",
       "stream": "stdout",
       "text": [
        "\n",
        "Downloading http://sunsite.informatik.rwth-aachen.de/CREWS/"
       ]
      },
      {
       "output_type": "stream",
       "stream": "stdout",
       "text": [
        "\n",
        "Downloading https://www.vdab.be/start"
       ]
      },
      {
       "output_type": "stream",
       "stream": "stdout",
       "text": [
        "\n",
        "Downloading https://www.iao.fraunhofer.de/lang-de/"
       ]
      },
      {
       "output_type": "stream",
       "stream": "stdout",
       "text": [
        "\n",
        "Downloading http://boise.namedisplay.com/wp-signup.php?new=www.newcastle.research.ec.org"
       ]
      },
      {
       "output_type": "stream",
       "stream": "stdout",
       "text": [
        "\n",
        "Downloading http://www.aster.it/tiki-index.php"
       ]
      },
      {
       "output_type": "stream",
       "stream": "stdout",
       "text": [
        "\n",
        "Downloading http://www.kuleuven.be/kuleuven/crisis"
       ]
      },
      {
       "output_type": "stream",
       "stream": "stdout",
       "text": [
        "\n",
        "Downloading http://www.keraben.com/"
       ]
      },
      {
       "output_type": "stream",
       "stream": "stdout",
       "text": [
        "\n",
        "Downloading http://www.adcon.com/index.php?lang=en"
       ]
      },
      {
       "output_type": "stream",
       "stream": "stdout",
       "text": [
        "\n",
        "Downloading http://www.bane.dk/visForside.asp?artikelID=4268"
       ]
      },
      {
       "output_type": "stream",
       "stream": "stdout",
       "text": [
        "\n",
        "Downloading http://www.scarrie.com"
       ]
      },
      {
       "output_type": "stream",
       "stream": "stdout",
       "text": [
        "\n",
        "Downloading http://www.ucc.ie/hfrg/baseline/"
       ]
      },
      {
       "output_type": "stream",
       "stream": "stdout",
       "text": [
        "\n",
        "Downloading http://www.npl.co.uk/category/2095"
       ]
      },
      {
       "output_type": "stream",
       "stream": "stdout",
       "text": [
        "\n",
        "Downloading http://www.chalmers.se/sv/institutioner/cse/Sidor/default.aspx"
       ]
      },
      {
       "output_type": "stream",
       "stream": "stdout",
       "text": [
        "\n",
        "Downloading http://www.birmingham.ac.uk/research/activity/mds/centres/mrc-immune/index.aspx"
       ]
      },
      {
       "output_type": "stream",
       "stream": "stdout",
       "text": [
        "\n",
        "Unhandled Error"
       ]
      },
      {
       "output_type": "stream",
       "stream": "stdout",
       "text": [
        "\n",
        "Downloading http://www0.cs.ucl.ac.uk/research/renoir/\n",
        "Downloading http://hiten.com/"
       ]
      },
      {
       "output_type": "stream",
       "stream": "stdout",
       "text": [
        "\n",
        "Downloading http://boise.namedisplay.com/wp-signup.php?new=www.newcastle.research.ec.org"
       ]
      },
      {
       "output_type": "stream",
       "stream": "stdout",
       "text": [
        "\n",
        "Downloading http://www.loria.fr/"
       ]
      },
      {
       "output_type": "stream",
       "stream": "stdout",
       "text": [
        "\n",
        "Downloading http://www.magnet.org/magpie.html"
       ]
      },
      {
       "output_type": "stream",
       "stream": "stdout",
       "text": [
        "\n",
        "Downloading http://www.nada.kth.se/inscape/"
       ]
      },
      {
       "output_type": "stream",
       "stream": "stdout",
       "text": [
        "\n",
        "Downloading http://www.kth.se"
       ]
      },
      {
       "output_type": "stream",
       "stream": "stdout",
       "text": [
        "\n",
        "Downloading http://www.westpharma.com/en/Pages/Default.aspx"
       ]
      },
      {
       "output_type": "stream",
       "stream": "stdout",
       "text": [
        "\n",
        "Downloading https://www.hugedomains.com/domain_profile.cfm?d=maidireweb&e=com"
       ]
      },
      {
       "output_type": "stream",
       "stream": "stdout",
       "text": [
        "\n",
        "Downloading http://www.inescop.es"
       ]
      },
      {
       "output_type": "stream",
       "stream": "stdout",
       "text": [
        "\n",
        "Downloading http://www.aquafin.be"
       ]
      },
      {
       "output_type": "stream",
       "stream": "stdout",
       "text": [
        "\n",
        "Downloading http://www.hadwaco.com"
       ]
      },
      {
       "output_type": "stream",
       "stream": "stdout",
       "text": [
        "\n",
        "Downloading http://www.osm.net"
       ]
      },
      {
       "output_type": "stream",
       "stream": "stdout",
       "text": [
        "\n",
        "Downloading http://penelope.gr/"
       ]
      },
      {
       "output_type": "stream",
       "stream": "stdout",
       "text": [
        "\n",
        "Downloading http://projects.ael.uni-tuebingen.de/telos/index.html"
       ]
      },
      {
       "output_type": "stream",
       "stream": "stdout",
       "text": [
        "\n",
        "Downloading http://www.echo.lu/telematics/education/en/"
       ]
      },
      {
       "output_type": "stream",
       "stream": "stdout",
       "text": [
        "\n",
        "Downloading http://www.dmu.ac.uk/home.aspx"
       ]
      },
      {
       "output_type": "stream",
       "stream": "stdout",
       "text": [
        "\n",
        "Downloading http://www.svb.nl/project/harmonica/harmonica.htm"
       ]
      },
      {
       "output_type": "stream",
       "stream": "stdout",
       "text": [
        "\n",
        "Downloading http://www.editeur.org/"
       ]
      },
      {
       "output_type": "stream",
       "stream": "stdout",
       "text": [
        "\n",
        "Downloading http://mulinex.dfki.de/"
       ]
      },
      {
       "output_type": "stream",
       "stream": "stdout",
       "text": [
        "\n",
        "Downloading http://www.cti.gr/el/"
       ]
      },
      {
       "output_type": "stream",
       "stream": "stdout",
       "text": [
        "\n",
        "Downloading http://www.metronix.de"
       ]
      },
      {
       "output_type": "stream",
       "stream": "stdout",
       "text": [
        "\n",
        "Downloading http://www.chalice.co.uk"
       ]
      },
      {
       "output_type": "stream",
       "stream": "stdout",
       "text": [
        "\n",
        "Downloading http://www.imt.liu.se"
       ]
      },
      {
       "output_type": "stream",
       "stream": "stdout",
       "text": [
        "\n",
        "Downloading http://www.efan.no"
       ]
      },
      {
       "output_type": "stream",
       "stream": "stdout",
       "text": [
        "\n",
        "Unhandled Error"
       ]
      },
      {
       "output_type": "stream",
       "stream": "stdout",
       "text": [
        "\n",
        "Downloading https://www.limsi.fr/fr/?option=com_content&view=article&id=403\n",
        "Downloading http://www.magnet.org/magnet.html"
       ]
      },
      {
       "output_type": "stream",
       "stream": "stdout",
       "text": [
        "\n",
        "Downloading https://www.sfr.fr/sfr-et-moi.html"
       ]
      },
      {
       "output_type": "stream",
       "stream": "stdout",
       "text": [
        "\n",
        "Downloading http://www.mech.kuleuven.be/imswg/welcome.html"
       ]
      },
      {
       "output_type": "stream",
       "stream": "stdout",
       "text": [
        "\n",
        "Unhandled Error"
       ]
      },
      {
       "output_type": "stream",
       "stream": "stdout",
       "text": [
        "\n",
        "Downloading http://arch.her.hcmr.gr/enviefh/\n",
        "Downloading http://www.daucom.es"
       ]
      },
      {
       "output_type": "stream",
       "stream": "stdout",
       "text": [
        "\n",
        "Downloading http://boise.namedisplay.com/wp-signup.php?new=www.perdis.esprit.ec.org"
       ]
      },
      {
       "output_type": "stream",
       "stream": "stdout",
       "text": [
        "\n",
        "Downloading http://www.netapdex.infowin.org/"
       ]
      },
      {
       "output_type": "stream",
       "stream": "stdout",
       "text": [
        "\n",
        "Downloading http://www-verimag.imag.fr/PROJECTS/SYNCHRONE/SYRF/syrf.html"
       ]
      },
      {
       "output_type": "stream",
       "stream": "stdout",
       "text": [
        "\n",
        "Downloading http://www.mech.kuleuven.be/mascada/welcome.html"
       ]
      },
      {
       "output_type": "stream",
       "stream": "stdout",
       "text": [
        "\n",
        "Unhandled Error"
       ]
      },
      {
       "output_type": "stream",
       "stream": "stdout",
       "text": [
        "\n",
        "Downloading http://www.telespazio-vega.de/EN/Pages/default.aspx\n",
        "Downloading http://www.brameur.co.uk/qpi/multispace"
       ]
      },
      {
       "output_type": "stream",
       "stream": "stdout",
       "text": [
        "\n",
        "Unhandled Error"
       ]
      },
      {
       "output_type": "stream",
       "stream": "stdout",
       "text": [
        "\n",
        "Downloading http://www.q-team.de/de/\n",
        "Downloading http://www.elsnet.org/"
       ]
      },
      {
       "output_type": "stream",
       "stream": "stdout",
       "text": [
        "\n",
        "Downloading http://www.isen.fr/isen-lci/quest"
       ]
      },
      {
       "output_type": "stream",
       "stream": "stdout",
       "text": [
        "\n",
        "Downloading http://www.nvidia-arc.com/index.php"
       ]
      },
      {
       "output_type": "stream",
       "stream": "stdout",
       "text": [
        "\n",
        "Downloading http://www.research.ibm.com/labs/zurich/"
       ]
      },
      {
       "output_type": "stream",
       "stream": "stdout",
       "text": [
        "\n",
        "Downloading http://www.ait.org.uk/"
       ]
      },
      {
       "output_type": "stream",
       "stream": "stdout",
       "text": [
        "\n",
        "Downloading http://www.ii.uib.no/saga/"
       ]
      },
      {
       "output_type": "stream",
       "stream": "stdout",
       "text": [
        "\n",
        "Downloading http://theory.cs.uni-bonn.de/info5/projects/rand-rec-en.html"
       ]
      },
      {
       "output_type": "stream",
       "stream": "stdout",
       "text": [
        "\n",
        "Downloading https://www.hugedomains.com/domain_profile.cfm?d=nimblesite&e=com"
       ]
      },
      {
       "output_type": "stream",
       "stream": "stdout",
       "text": [
        "\n",
        "Downloading http://www.biba.uni-bremen.de/projects/edimar/"
       ]
      },
      {
       "output_type": "stream",
       "stream": "stdout",
       "text": [
        "\n",
        "Downloading http://www.rebeca-net.de"
       ]
      },
      {
       "output_type": "stream",
       "stream": "stdout",
       "text": [
        "\n",
        "Downloading http://www.tzm.de"
       ]
      },
      {
       "output_type": "stream",
       "stream": "stdout",
       "text": [
        "\n",
        "Downloading http://www.ecoserve.ie/projects/sealice/"
       ]
      },
      {
       "output_type": "stream",
       "stream": "stdout",
       "text": [
        "\n",
        "Downloading http://www2.hull.ac.uk/science/error404.htm?aspxerrorpath=/science/iecs.aspx/"
       ]
      },
      {
       "output_type": "stream",
       "stream": "stdout",
       "text": [
        "\n",
        "Downloading http://www.anzwers.org/trade/lear/index.htm"
       ]
      },
      {
       "output_type": "stream",
       "stream": "stdout",
       "text": [
        "\n",
        "Downloading http://www.dolphinics.no"
       ]
      },
      {
       "output_type": "stream",
       "stream": "stdout",
       "text": [
        "\n",
        "Downloading http://www.vcpc.univie.ac.at/activities/projects/FITS/"
       ]
      },
      {
       "output_type": "stream",
       "stream": "stdout",
       "text": [
        "\n",
        "Downloading http://homes.esat.kuleuven.be/~konijn/improofs.html"
       ]
      },
      {
       "output_type": "stream",
       "stream": "stdout",
       "text": [
        "\n",
        "Downloading https://en.wikipedia.org/wiki/Askja"
       ]
      },
      {
       "output_type": "stream",
       "stream": "stdout",
       "text": [
        "\n",
        "Downloading http://www.femipol.uni-frankfurt.de"
       ]
      },
      {
       "output_type": "stream",
       "stream": "stdout",
       "text": [
        "\n",
        "Downloading http://www.dsclab.ece.ntua.gr/~defacto/default.htm"
       ]
      },
      {
       "output_type": "stream",
       "stream": "stdout",
       "text": [
        "\n",
        "Downloading http://www.sdu.dk/Om_SDU/Fakulteterne/Teknik.aspx"
       ]
      },
      {
       "output_type": "stream",
       "stream": "stdout",
       "text": [
        "\n",
        "Downloading http://www.otomec.it"
       ]
      },
      {
       "output_type": "stream",
       "stream": "stdout",
       "text": [
        "\n",
        "Downloading http://www.dbnet.ece.ntua.gr/~dwq/"
       ]
      },
      {
       "output_type": "stream",
       "stream": "stdout",
       "text": [
        "\n",
        "Downloading http://www.ess.co.at/HITERM/"
       ]
      },
      {
       "output_type": "stream",
       "stream": "stdout",
       "text": [
        "\n",
        "Downloading http://www.informatik.uni-bremen.de/theorie//appligraph/home.html"
       ]
      },
      {
       "output_type": "stream",
       "stream": "stdout",
       "text": [
        "\n",
        "Downloading http://www.its.leeds.ac.uk/projects/fatima/"
       ]
      },
      {
       "output_type": "stream",
       "stream": "stdout",
       "text": [
        "\n",
        "Downloading http://giove.cnuce.cnr.it/mefisto.html"
       ]
      },
      {
       "output_type": "stream",
       "stream": "stdout",
       "text": [
        "\n",
        "Downloading http://www.nada.kth.se/erena/"
       ]
      },
      {
       "output_type": "stream",
       "stream": "stdout",
       "text": [
        "\n",
        "Downloading http://ww1.3dscanners.com/"
       ]
      },
      {
       "output_type": "stream",
       "stream": "stdout",
       "text": [
        "\n",
        "Downloading http://www.inescop.es"
       ]
      },
      {
       "output_type": "stream",
       "stream": "stdout",
       "text": [
        "\n",
        "Downloading https://www.deltares.nl/nl/"
       ]
      },
      {
       "output_type": "stream",
       "stream": "stdout",
       "text": [
        "\n",
        "Downloading http://www.noc.soton.ac.uk/CHD/seisweb/SEISCAN.html"
       ]
      },
      {
       "output_type": "stream",
       "stream": "stdout",
       "text": [
        "\n",
        "Downloading http://www-01.ibm.com/software/fr/websphere/"
       ]
      },
      {
       "output_type": "stream",
       "stream": "stdout",
       "text": [
        "\n",
        "Downloading http://www.hrwallingford.com/"
       ]
      },
      {
       "output_type": "stream",
       "stream": "stdout",
       "text": [
        "\n",
        "Downloading http://www.circle-era.eu/np4/home.html"
       ]
      },
      {
       "output_type": "stream",
       "stream": "stdout",
       "text": [
        "\n",
        "Downloading http://www.puvep.com"
       ]
      },
      {
       "output_type": "stream",
       "stream": "stdout",
       "text": [
        "\n",
        "Downloading http://abyss.iopan.gda.pl/biocolor/"
       ]
      },
      {
       "output_type": "stream",
       "stream": "stdout",
       "text": [
        "\n",
        "Downloading http://wwwdown.aalto.fi/www.hut.fi/HUT/Control/research_projects.html"
       ]
      },
      {
       "output_type": "stream",
       "stream": "stdout",
       "text": [
        "\n",
        "Downloading http://agent.ign.fr"
       ]
      },
      {
       "output_type": "stream",
       "stream": "stdout",
       "text": [
        "\n",
        "Downloading http://www.stepwise.org/"
       ]
      },
      {
       "output_type": "stream",
       "stream": "stdout",
       "text": [
        "\n",
        "Downloading http://ww5.safetynet.de/"
       ]
      },
      {
       "output_type": "stream",
       "stream": "stdout",
       "text": [
        "\n",
        "Downloading http://orsiweb.com/ESPRIT/ASSISTANT/index.htm/"
       ]
      },
      {
       "output_type": "stream",
       "stream": "stdout",
       "text": [
        "\n",
        "Downloading http://www.dbai.tuwien.ac.at/sitmoon/"
       ]
      },
      {
       "output_type": "stream",
       "stream": "stdout",
       "text": [
        "\n",
        "Downloading http://boise.namedisplay.com/wp-signup.php?new=www.newcastle.research.ec.org"
       ]
      },
      {
       "output_type": "stream",
       "stream": "stdout",
       "text": [
        "\n",
        "Downloading http://www.beasy.com"
       ]
      },
      {
       "output_type": "stream",
       "stream": "stdout",
       "text": [
        "\n",
        "Downloading http://www.6s.org"
       ]
      },
      {
       "output_type": "stream",
       "stream": "stdout",
       "text": [
        "\n",
        "Downloading http://www.strath.ac.uk/404/index.html"
       ]
      },
      {
       "output_type": "stream",
       "stream": "stdout",
       "text": [
        "\n",
        "Downloading http://www.aiju.es"
       ]
      },
      {
       "output_type": "stream",
       "stream": "stdout",
       "text": [
        "\n",
        "Downloading http://www.redbankfoodco.com/"
       ]
      },
      {
       "output_type": "stream",
       "stream": "stdout",
       "text": [
        "\n",
        "Downloading http://www.biomerieux.fr"
       ]
      },
      {
       "output_type": "stream",
       "stream": "stdout",
       "text": [
        "\n",
        "Downloading http://www.ucc.ie"
       ]
      },
      {
       "output_type": "stream",
       "stream": "stdout",
       "text": [
        "\n",
        "Downloading http://www.lzh.de"
       ]
      },
      {
       "output_type": "stream",
       "stream": "stdout",
       "text": [
        "\n",
        "Downloading http://www.kuleuven.be/kuleuven/crisis"
       ]
      },
      {
       "output_type": "stream",
       "stream": "stdout",
       "text": [
        "\n",
        "Downloading https://www.hugedomains.com/domain_profile.cfm?d=ericlebas&e=com"
       ]
      },
      {
       "output_type": "stream",
       "stream": "stdout",
       "text": [
        "\n",
        "Downloading http://www.ucd.ie"
       ]
      },
      {
       "output_type": "stream",
       "stream": "stdout",
       "text": [
        "\n",
        "Downloading http://www.mpa.uni-stuttgart.de"
       ]
      },
      {
       "output_type": "stream",
       "stream": "stdout",
       "text": [
        "\n",
        "Downloading http://www.bgs.ac.uk/hydro/famest.htm"
       ]
      },
      {
       "output_type": "stream",
       "stream": "stdout",
       "text": [
        "\n",
        "Downloading http://www.maridan.atlas-elektronik.com/companyinfo/"
       ]
      },
      {
       "output_type": "stream",
       "stream": "stdout",
       "text": [
        "\n",
        "Downloading http://odnature.naturalsciences.be/coherens/"
       ]
      },
      {
       "output_type": "stream",
       "stream": "stdout",
       "text": [
        "\n",
        "Downloading http://www.occterra.fr/"
       ]
      },
      {
       "output_type": "stream",
       "stream": "stdout",
       "text": [
        "\n",
        "Downloading http://ww1.flair-flow.com/"
       ]
      },
      {
       "output_type": "stream",
       "stream": "stdout",
       "text": [
        "\n",
        "Downloading http://www.captec.fr"
       ]
      },
      {
       "output_type": "stream",
       "stream": "stdout",
       "text": [
        "\n",
        "Downloading http://www.aces.su.se/"
       ]
      },
      {
       "output_type": "stream",
       "stream": "stdout",
       "text": [
        "\n",
        "Downloading http://www.domainmarkt.de/adhesives.de/direct"
       ]
      },
      {
       "output_type": "stream",
       "stream": "stdout",
       "text": [
        "\n",
        "Downloading http://www.compete.tm.fr"
       ]
      },
      {
       "output_type": "stream",
       "stream": "stdout",
       "text": [
        "\n",
        "Downloading http://www.nicole.org/"
       ]
      },
      {
       "output_type": "stream",
       "stream": "stdout",
       "text": [
        "\n",
        "Downloading http://www.caracas.at/"
       ]
      },
      {
       "output_type": "stream",
       "stream": "stdout",
       "text": [
        "\n",
        "Downloading https://imp.boku.ac.at/votalp/"
       ]
      },
      {
       "output_type": "stream",
       "stream": "stdout",
       "text": [
        "\n",
        "Downloading https://imp.boku.ac.at/votalp/"
       ]
      },
      {
       "output_type": "stream",
       "stream": "stdout",
       "text": [
        "\n",
        "Downloading http://www.avs.com"
       ]
      },
      {
       "output_type": "stream",
       "stream": "stdout",
       "text": [
        "\n",
        "Downloading http://www.lzh.de"
       ]
      },
      {
       "output_type": "stream",
       "stream": "stdout",
       "text": [
        "\n",
        "Downloading https://umr6553.univ-rennes1.fr/eurossam/default.htm"
       ]
      },
      {
       "output_type": "stream",
       "stream": "stdout",
       "text": [
        "\n",
        "Downloading http://www.theeuropeanlibrary.org/tel4/"
       ]
      },
      {
       "output_type": "stream",
       "stream": "stdout",
       "text": [
        "\n",
        "Downloading http://www.emis.de/projects/EULER/."
       ]
      },
      {
       "output_type": "stream",
       "stream": "stdout",
       "text": [
        "\n",
        "Downloading http://www.baltic.vtt.fi"
       ]
      },
      {
       "output_type": "stream",
       "stream": "stdout",
       "text": [
        "\n",
        "Downloading http://www.nhm.ac.uk/"
       ]
      },
      {
       "output_type": "stream",
       "stream": "stdout",
       "text": [
        "\n",
        "Downloading http://www.neurocolt.com"
       ]
      },
      {
       "output_type": "stream",
       "stream": "stdout",
       "text": [
        "\n",
        "Downloading http://www.agentlink.org/index.php"
       ]
      },
      {
       "output_type": "stream",
       "stream": "stdout",
       "text": [
        "\n",
        "Downloading http://www.hep.lu.se/Lund-HEP/spec/"
       ]
      },
      {
       "output_type": "stream",
       "stream": "stdout",
       "text": [
        "\n",
        "Downloading http://www.dcs.gla.ac.uk/prosper/"
       ]
      },
      {
       "output_type": "stream",
       "stream": "stdout",
       "text": [
        "\n",
        "Downloading http://www-verimag.imag.fr/PROJECTS/TEMPO/VHS/"
       ]
      },
      {
       "output_type": "stream",
       "stream": "stdout",
       "text": [
        "\n",
        "Downloading http://www.su.se/profiles/doos-1.184227"
       ]
      },
      {
       "output_type": "stream",
       "stream": "stdout",
       "text": [
        "\n",
        "Downloading http://www.neuroinformatik.ruhr-uni-bochum.de/home"
       ]
      },
      {
       "output_type": "stream",
       "stream": "stdout",
       "text": [
        "\n",
        "Downloading http://stampack.com/quantech/"
       ]
      },
      {
       "output_type": "stream",
       "stream": "stdout",
       "text": [
        "\n",
        "Downloading http://www.irstea.fr/accueil"
       ]
      },
      {
       "output_type": "stream",
       "stream": "stdout",
       "text": [
        "\n",
        "Downloading http://www.agr.kuleuven.ac.be/dp/ztc/laboztc.htm"
       ]
      },
      {
       "output_type": "stream",
       "stream": "stdout",
       "text": [
        "\n",
        "Downloading http://www.metamedia.org.uk"
       ]
      },
      {
       "output_type": "stream",
       "stream": "stdout",
       "text": [
        "\n",
        "Downloading http://www.tecnalia.com/es/"
       ]
      },
      {
       "output_type": "stream",
       "stream": "stdout",
       "text": [
        "\n",
        "Downloading http://www.vub.ac.be"
       ]
      },
      {
       "output_type": "stream",
       "stream": "stdout",
       "text": [
        "\n",
        "Downloading http://www.affitech.com"
       ]
      },
      {
       "output_type": "stream",
       "stream": "stdout",
       "text": [
        "\n",
        "Downloading http://www.vegagerdin.is/"
       ]
      },
      {
       "output_type": "stream",
       "stream": "stdout",
       "text": [
        "\n",
        "Downloading http://www.abcar-dic.com/fr/"
       ]
      },
      {
       "output_type": "stream",
       "stream": "stdout",
       "text": [
        "\n",
        "Downloading http://www.pabe.net"
       ]
      },
      {
       "output_type": "stream",
       "stream": "stdout",
       "text": [
        "\n",
        "Unhandled Error"
       ]
      },
      {
       "output_type": "stream",
       "stream": "stdout",
       "text": [
        "\n",
        "Downloading http://www.lapin.org\n",
        "Downloading http://www.telemate.org/"
       ]
      },
      {
       "output_type": "stream",
       "stream": "stdout",
       "text": [
        "\n",
        "Downloading https://www.iao.fraunhofer.de/lang-de/"
       ]
      },
      {
       "output_type": "stream",
       "stream": "stdout",
       "text": [
        "\n",
        "Downloading http://www.itk.ntnu.no/SINTEF/pisces/Hovedside"
       ]
      },
      {
       "output_type": "stream",
       "stream": "stdout",
       "text": [
        "\n",
        "Downloading http://faip.dk/"
       ]
      },
      {
       "output_type": "stream",
       "stream": "stdout",
       "text": [
        "\n",
        "Downloading http://www.euspen.eu/"
       ]
      },
      {
       "output_type": "stream",
       "stream": "stdout",
       "text": [
        "\n",
        "Downloading http://www.sea-search.net/"
       ]
      },
      {
       "output_type": "stream",
       "stream": "stdout",
       "text": [
        "\n",
        "Downloading http://www.3ragrocarbon.com"
       ]
      },
      {
       "output_type": "stream",
       "stream": "stdout",
       "text": [
        "\n",
        "Downloading https://pangaea.de/search?env=All&q=project%3Alabel%3AQUEEN"
       ]
      },
      {
       "output_type": "stream",
       "stream": "stdout",
       "text": [
        "\n",
        "Downloading http://www.elsyca.com"
       ]
      },
      {
       "output_type": "stream",
       "stream": "stdout",
       "text": [
        "\n",
        "Downloading http://www.edifgroup.com/"
       ]
      },
      {
       "output_type": "stream",
       "stream": "stdout",
       "text": [
        "\n",
        "Downloading http://www.compete.tm.fr"
       ]
      },
      {
       "output_type": "stream",
       "stream": "stdout",
       "text": [
        "\n",
        "Downloading http://www.ed.ac.uk/geosciences/"
       ]
      },
      {
       "output_type": "stream",
       "stream": "stdout",
       "text": [
        "\n",
        "Downloading http://enbr.org/"
       ]
      },
      {
       "output_type": "stream",
       "stream": "stdout",
       "text": [
        "\n",
        "Downloading http://www.rubicon-net.org/"
       ]
      },
      {
       "output_type": "stream",
       "stream": "stdout",
       "text": [
        "\n",
        "Downloading http://www.psi-k.org"
       ]
      },
      {
       "output_type": "stream",
       "stream": "stdout",
       "text": [
        "\n",
        "Downloading http://www.ceh.ac.uk"
       ]
      },
      {
       "output_type": "stream",
       "stream": "stdout",
       "text": [
        "\n",
        "Downloading http://www.resetters.org"
       ]
      },
      {
       "output_type": "stream",
       "stream": "stdout",
       "text": [
        "\n",
        "Downloading http://www.linfric.com"
       ]
      },
      {
       "output_type": "stream",
       "stream": "stdout",
       "text": [
        "\n",
        "Downloading http://www.teriin.org/index.php?option=com_regionalcenter&view=contact&region_id=6&Itemid=189"
       ]
      },
      {
       "output_type": "stream",
       "stream": "stdout",
       "text": [
        "\n",
        "Downloading http://www.csi.mines-paristech.fr/WebCSI/MEDUSE/"
       ]
      },
      {
       "output_type": "stream",
       "stream": "stdout",
       "text": [
        "\n",
        "Downloading http://www.uni-konstanz.de/crimeandculture/crimeandculture.html"
       ]
      },
      {
       "output_type": "stream",
       "stream": "stdout",
       "text": [
        "\n",
        "Downloading http://www.ftu-namur.org/sprew/"
       ]
      },
      {
       "output_type": "stream",
       "stream": "stdout",
       "text": [
        "\n",
        "Downloading http://www.csi.mines-paristech.fr/WebCSI/PICO/"
       ]
      },
      {
       "output_type": "stream",
       "stream": "stdout",
       "text": [
        "\n",
        "Downloading http://www.lse.ac.uk/fmg/research/RICAFE/"
       ]
      },
      {
       "output_type": "stream",
       "stream": "stdout",
       "text": [
        "\n",
        "Downloading http://www.step-nc.org/index.htm"
       ]
      },
      {
       "output_type": "stream",
       "stream": "stdout",
       "text": [
        "\n",
        "Downloading http://www.iesl.forth.gr/research/activity.aspx?id=47"
       ]
      },
      {
       "output_type": "stream",
       "stream": "stdout",
       "text": [
        "\n",
        "Downloading https://www.jyu.fi/fysiikka/en"
       ]
      },
      {
       "output_type": "stream",
       "stream": "stdout",
       "text": [
        "\n"
       ]
      }
     ],
     "prompt_number": 54
    },
    {
     "cell_type": "code",
     "collapsed": false,
     "input": [
      "df = df[['title','projectUrl','acronym','ValidURL','Intersection']]\n",
      "df"
     ],
     "language": "python",
     "metadata": {},
     "outputs": [
      {
       "html": [
        "<div style=\"max-height:1000px;max-width:1500px;overflow:auto;\">\n",
        "<table border=\"1\" class=\"dataframe\">\n",
        "  <thead>\n",
        "    <tr style=\"text-align: right;\">\n",
        "      <th></th>\n",
        "      <th>title</th>\n",
        "      <th>projectUrl</th>\n",
        "      <th>acronym</th>\n",
        "      <th>ValidURL</th>\n",
        "      <th>Intersection</th>\n",
        "    </tr>\n",
        "  </thead>\n",
        "  <tbody>\n",
        "    <tr>\n",
        "      <th>3  </th>\n",
        "      <td>    COMPUTER AIDED POST IN EUROPE IN THE YEAR 2000</td>\n",
        "      <td>              http://www-vs.informatik.uni-ulm.de/</td>\n",
        "      <td>     CAPE 2000</td>\n",
        "      <td> False</td>\n",
        "      <td> 0</td>\n",
        "    </tr>\n",
        "    <tr>\n",
        "      <th>11 </th>\n",
        "      <td>           Biofouling Reduction on Optical Systems</td>\n",
        "      <td>         http://www.gla.ac.uk/schools/engineering/</td>\n",
        "      <td>          BROS</td>\n",
        "      <td> False</td>\n",
        "      <td> 0</td>\n",
        "    </tr>\n",
        "    <tr>\n",
        "      <th>21 </th>\n",
        "      <td>          European parliaments research initiative</td>\n",
        "      <td>                         http://sagsunseinfach.de/</td>\n",
        "      <td>     EPRIWATCH</td>\n",
        "      <td> False</td>\n",
        "      <td> 0</td>\n",
        "    </tr>\n",
        "    <tr>\n",
        "      <th>23 </th>\n",
        "      <td> Learn from video extensive real atm gigabit ex...</td>\n",
        "      <td>                  http://www.dit.upm.es/~leverage/</td>\n",
        "      <td>      LEVERAGE</td>\n",
        "      <td>  True</td>\n",
        "      <td> 7</td>\n",
        "    </tr>\n",
        "    <tr>\n",
        "      <th>25 </th>\n",
        "      <td>  Multimedia Information Window for National Hosts</td>\n",
        "      <td>                            http://www.infowin.org</td>\n",
        "      <td>       INFOWIN</td>\n",
        "      <td> False</td>\n",
        "      <td> 0</td>\n",
        "    </tr>\n",
        "    <tr>\n",
        "      <th>26 </th>\n",
        "      <td>                  SME and Regional Telecom Support</td>\n",
        "      <td>                             http://www.smarts.org</td>\n",
        "      <td>        SMARTS</td>\n",
        "      <td> False</td>\n",
        "      <td> 0</td>\n",
        "    </tr>\n",
        "    <tr>\n",
        "      <th>35 </th>\n",
        "      <td> Embedded filter unit for automotive signal con...</td>\n",
        "      <td>                          http://www.integramm.org</td>\n",
        "      <td>          FILU</td>\n",
        "      <td> False</td>\n",
        "      <td> 0</td>\n",
        "    </tr>\n",
        "    <tr>\n",
        "      <th>37 </th>\n",
        "      <td>                  Biogases transfers in estuaries.</td>\n",
        "      <td>               http://labos.ulg.ac.be/oceanologie/</td>\n",
        "      <td>       BIOGEST</td>\n",
        "      <td> False</td>\n",
        "      <td> 0</td>\n",
        "    </tr>\n",
        "    <tr>\n",
        "      <th>57 </th>\n",
        "      <td> Miniaturized and reconfigurable instrumentatio...</td>\n",
        "      <td>          http://www.mumm.ac.be/page_not_found.php</td>\n",
        "      <td>         MAUVE</td>\n",
        "      <td> False</td>\n",
        "      <td> 0</td>\n",
        "    </tr>\n",
        "    <tr>\n",
        "      <th>71 </th>\n",
        "      <td>    Maritime industries virtual enterprise linkage</td>\n",
        "      <td> http://www.biba.uni-bremen.de/projects/marvelous/</td>\n",
        "      <td>    MARVEL OUS</td>\n",
        "      <td>  True</td>\n",
        "      <td> 4</td>\n",
        "    </tr>\n",
        "    <tr>\n",
        "      <th>72 </th>\n",
        "      <td> Integrated information and process management ...</td>\n",
        "      <td>                            http://www.ait.org.uk/</td>\n",
        "      <td>          OPAL</td>\n",
        "      <td> False</td>\n",
        "      <td> 0</td>\n",
        "    </tr>\n",
        "    <tr>\n",
        "      <th>74 </th>\n",
        "      <td>                            Datamining file server</td>\n",
        "      <td>                         http://www.trans.net/dafs</td>\n",
        "      <td>          DAFS</td>\n",
        "      <td> False</td>\n",
        "      <td> 0</td>\n",
        "    </tr>\n",
        "    <tr>\n",
        "      <th>77 </th>\n",
        "      <td> System for high-speed for automatic reading of...</td>\n",
        "      <td>                          http://www.mbr-train.org</td>\n",
        "      <td>        SHAROC</td>\n",
        "      <td> False</td>\n",
        "      <td> 0</td>\n",
        "    </tr>\n",
        "    <tr>\n",
        "      <th>86 </th>\n",
        "      <td>               European processing core technology</td>\n",
        "      <td>   http://www.cetia.com/news/EUROPRO/europroj.html</td>\n",
        "      <td>       EUROPRO</td>\n",
        "      <td> False</td>\n",
        "      <td> 0</td>\n",
        "    </tr>\n",
        "    <tr>\n",
        "      <th>88 </th>\n",
        "      <td> A parallel optimisation scheme applied to extr...</td>\n",
        "      <td>                            http://www.polyflow.be</td>\n",
        "      <td>          ESOP</td>\n",
        "      <td> False</td>\n",
        "      <td> 0</td>\n",
        "    </tr>\n",
        "    <tr>\n",
        "      <th>89 </th>\n",
        "      <td> Integrated simulation and design system for ci...</td>\n",
        "      <td>                                 http://home.cern/</td>\n",
        "      <td>        INSIDE</td>\n",
        "      <td> False</td>\n",
        "      <td> 0</td>\n",
        "    </tr>\n",
        "    <tr>\n",
        "      <th>90 </th>\n",
        "      <td>    Tools for high productivity engineering design</td>\n",
        "      <td>                              http://www.bertin.fr</td>\n",
        "      <td>      TOOLSHED</td>\n",
        "      <td> False</td>\n",
        "      <td> 0</td>\n",
        "    </tr>\n",
        "    <tr>\n",
        "      <th>94 </th>\n",
        "      <td> A planning and control system for a semiconduc...</td>\n",
        "      <td> https://www.hugedomains.com/domain_profile.cfm...</td>\n",
        "      <td>      X-CITTIC</td>\n",
        "      <td> False</td>\n",
        "      <td> 0</td>\n",
        "    </tr>\n",
        "    <tr>\n",
        "      <th>98 </th>\n",
        "      <td>   Information technology for the textile industry</td>\n",
        "      <td>                            http://www.euratex.eu/</td>\n",
        "      <td>          ITEX</td>\n",
        "      <td>  True</td>\n",
        "      <td> 3</td>\n",
        "    </tr>\n",
        "    <tr>\n",
        "      <th>101</th>\n",
        "      <td>  2 real applications for requirements engineering</td>\n",
        "      <td>       https://staff.info.unamur.be/phe/2rare.html</td>\n",
        "      <td>         2RARE</td>\n",
        "      <td>  True</td>\n",
        "      <td> 4</td>\n",
        "    </tr>\n",
        "    <tr>\n",
        "      <th>104</th>\n",
        "      <td>                  HPCN Europe on line newsmagazine</td>\n",
        "      <td>                              http://www.hoise.com</td>\n",
        "      <td>      HOISE NM</td>\n",
        "      <td> False</td>\n",
        "      <td> 0</td>\n",
        "    </tr>\n",
        "    <tr>\n",
        "      <th>105</th>\n",
        "      <td>               Optimum design of multibody systems</td>\n",
        "      <td>                                http://ceit.es/en/</td>\n",
        "      <td>        ODESIM</td>\n",
        "      <td> False</td>\n",
        "      <td> 0</td>\n",
        "    </tr>\n",
        "    <tr>\n",
        "      <th>107</th>\n",
        "      <td> High performance simulation of internal combus...</td>\n",
        "      <td>                         http://www.hlrs.de/error/</td>\n",
        "      <td>       HPS-ICE</td>\n",
        "      <td> False</td>\n",
        "      <td> 2</td>\n",
        "    </tr>\n",
        "    <tr>\n",
        "      <th>112</th>\n",
        "      <td> Temporal object oriented databases within info...</td>\n",
        "      <td>                http://helios.mm.di.uoa.gr/toobis/</td>\n",
        "      <td>        TOOBIS</td>\n",
        "      <td> False</td>\n",
        "      <td> 0</td>\n",
        "    </tr>\n",
        "    <tr>\n",
        "      <th>113</th>\n",
        "      <td> Emerging software technologies for trading and...</td>\n",
        "      <td>                http://www.aber.ac.uk/en/interpol/</td>\n",
        "      <td>    ESTIMATION</td>\n",
        "      <td> False</td>\n",
        "      <td> 0</td>\n",
        "    </tr>\n",
        "    <tr>\n",
        "      <th>114</th>\n",
        "      <td> Use of the expert system platform REAKT for tr...</td>\n",
        "      <td>                           http://roberta-home.de/</td>\n",
        "      <td>       RETRARO</td>\n",
        "      <td> False</td>\n",
        "      <td> 0</td>\n",
        "    </tr>\n",
        "    <tr>\n",
        "      <th>117</th>\n",
        "      <td> Enhancement of electronic system design by EMC...</td>\n",
        "      <td>           http://www.ucl.ac.uk/mariecuriesocanth/</td>\n",
        "      <td>      FP5-EESD</td>\n",
        "      <td> False</td>\n",
        "      <td> 0</td>\n",
        "    </tr>\n",
        "    <tr>\n",
        "      <th>118</th>\n",
        "      <td> Trial applications of case based reasoning for...</td>\n",
        "      <td>             http://www.uclouvain.be/en-43617.html</td>\n",
        "      <td>      APPLICUS</td>\n",
        "      <td> False</td>\n",
        "      <td> 0</td>\n",
        "    </tr>\n",
        "    <tr>\n",
        "      <th>119</th>\n",
        "      <td>                             Design for validation</td>\n",
        "      <td> http://boise.namedisplay.com/wp-signup.php?new...</td>\n",
        "      <td>          DEVA</td>\n",
        "      <td>  True</td>\n",
        "      <td> 1</td>\n",
        "    </tr>\n",
        "    <tr>\n",
        "      <th>126</th>\n",
        "      <td> Algorithms and complexity in information techn...</td>\n",
        "      <td>              http://www.dis.uniroma1.it/alcom-it/</td>\n",
        "      <td>      ALCOM IT</td>\n",
        "      <td>  True</td>\n",
        "      <td> 4</td>\n",
        "    </tr>\n",
        "    <tr>\n",
        "      <th>...</th>\n",
        "      <td>...</td>\n",
        "      <td>...</td>\n",
        "      <td>...</td>\n",
        "      <td>...</td>\n",
        "      <td>...</td>\n",
        "    </tr>\n",
        "    <tr>\n",
        "      <th>785</th>\n",
        "      <td> TRANSFER OF DETENTE INSTANTANEE CONTROLEE \"D.I...</td>\n",
        "      <td>                      http://www.abcar-dic.com/fr/</td>\n",
        "      <td>           DIC</td>\n",
        "      <td> False</td>\n",
        "      <td> 1</td>\n",
        "    </tr>\n",
        "    <tr>\n",
        "      <th>786</th>\n",
        "      <td> Public perceptions of agricultural biotechnolo...</td>\n",
        "      <td>                               http://www.pabe.net</td>\n",
        "      <td>          PABE</td>\n",
        "      <td> False</td>\n",
        "      <td> 0</td>\n",
        "    </tr>\n",
        "    <tr>\n",
        "      <th>787</th>\n",
        "      <td>               LABOUR POLICIES INFORMATION NETWORK</td>\n",
        "      <td>                              http://www.lapin.org</td>\n",
        "      <td>         LAPIN</td>\n",
        "      <td> False</td>\n",
        "      <td> 0</td>\n",
        "    </tr>\n",
        "    <tr>\n",
        "      <th>788</th>\n",
        "      <td> TELEMATIC MULTIDISCIPLINARY ASSISTIVE TECHNOLO...</td>\n",
        "      <td>                          http://www.telemate.org/</td>\n",
        "      <td>      TELEMATE</td>\n",
        "      <td> False</td>\n",
        "      <td> 0</td>\n",
        "    </tr>\n",
        "    <tr>\n",
        "      <th>791</th>\n",
        "      <td> INTEGRATION OF NAVIGATION AND ANTICOLLISION FO...</td>\n",
        "      <td>            https://www.iao.fraunhofer.de/lang-de/</td>\n",
        "      <td>       IN-ARTE</td>\n",
        "      <td> False</td>\n",
        "      <td> 2</td>\n",
        "    </tr>\n",
        "    <tr>\n",
        "      <th>792</th>\n",
        "      <td> PROTOCOLS FOR INTEGRATED SHIP CONTROL AND EVAL...</td>\n",
        "      <td>    http://www.itk.ntnu.no/SINTEF/pisces/Hovedside</td>\n",
        "      <td>        PISCES</td>\n",
        "      <td> False</td>\n",
        "      <td> 0</td>\n",
        "    </tr>\n",
        "    <tr>\n",
        "      <th>794</th>\n",
        "      <td> The future developments in farm animal breedin...</td>\n",
        "      <td>                                   http://faip.dk/</td>\n",
        "      <td>           NaN</td>\n",
        "      <td> False</td>\n",
        "      <td> 0</td>\n",
        "    </tr>\n",
        "    <tr>\n",
        "      <th>795</th>\n",
        "      <td> Transnational collaboration within the EU for ...</td>\n",
        "      <td>                             http://www.euspen.eu/</td>\n",
        "      <td>           NaN</td>\n",
        "      <td>  True</td>\n",
        "      <td> 8</td>\n",
        "    </tr>\n",
        "    <tr>\n",
        "      <th>800</th>\n",
        "      <td> European Network for Oceanographic Data &amp; Info...</td>\n",
        "      <td>                        http://www.sea-search.net/</td>\n",
        "      <td>     EURONODIM</td>\n",
        "      <td> False</td>\n",
        "      <td> 0</td>\n",
        "    </tr>\n",
        "    <tr>\n",
        "      <th>801</th>\n",
        "      <td> First principles investigation of molecular pr...</td>\n",
        "      <td>                       http://www.3ragrocarbon.com</td>\n",
        "      <td>           NaN</td>\n",
        "      <td> False</td>\n",
        "      <td> 1</td>\n",
        "    </tr>\n",
        "    <tr>\n",
        "      <th>802</th>\n",
        "      <td>    Information system for the ESF/QUEEN Programme</td>\n",
        "      <td> https://pangaea.de/search?env=All&amp;q=project%3A...</td>\n",
        "      <td> QUEEN/PANGAEA</td>\n",
        "      <td> False</td>\n",
        "      <td> 1</td>\n",
        "    </tr>\n",
        "    <tr>\n",
        "      <th>803</th>\n",
        "      <td> Development and evaluation of industrial elect...</td>\n",
        "      <td>                             http://www.elsyca.com</td>\n",
        "      <td>       DESINER</td>\n",
        "      <td>  True</td>\n",
        "      <td> 2</td>\n",
        "    </tr>\n",
        "    <tr>\n",
        "      <th>804</th>\n",
        "      <td>         Nde and life assessment of reformer tubes</td>\n",
        "      <td>                         http://www.edifgroup.com/</td>\n",
        "      <td>          NART</td>\n",
        "      <td>  True</td>\n",
        "      <td> 2</td>\n",
        "    </tr>\n",
        "    <tr>\n",
        "      <th>805</th>\n",
        "      <td>         Catalases for low water textile processes</td>\n",
        "      <td>                          http://www.compete.tm.fr</td>\n",
        "      <td>           NaN</td>\n",
        "      <td> False</td>\n",
        "      <td> 0</td>\n",
        "    </tr>\n",
        "    <tr>\n",
        "      <th>811</th>\n",
        "      <td> Mediterranean model networking and archiving p...</td>\n",
        "      <td>                  http://www.ed.ac.uk/geosciences/</td>\n",
        "      <td>        MEDNET</td>\n",
        "      <td> False</td>\n",
        "      <td> 0</td>\n",
        "    </tr>\n",
        "    <tr>\n",
        "      <th>819</th>\n",
        "      <td> Development and demonstrations of JBIG CODEC a...</td>\n",
        "      <td>                                  http://enbr.org/</td>\n",
        "      <td>     COLOR-JBI</td>\n",
        "      <td> False</td>\n",
        "      <td> 1</td>\n",
        "    </tr>\n",
        "    <tr>\n",
        "      <th>821</th>\n",
        "      <td> Active non-linear mirror for optical time-divi...</td>\n",
        "      <td>                       http://www.rubicon-net.org/</td>\n",
        "      <td>     ANLM-OTDM</td>\n",
        "      <td> False</td>\n",
        "      <td> 0</td>\n",
        "    </tr>\n",
        "    <tr>\n",
        "      <th>822</th>\n",
        "      <td> Successful market exploitation for improved AG...</td>\n",
        "      <td>                              http://www.psi-k.org</td>\n",
        "      <td>         SMART</td>\n",
        "      <td> False</td>\n",
        "      <td> 0</td>\n",
        "    </tr>\n",
        "    <tr>\n",
        "      <th>823</th>\n",
        "      <td> Modelling the effect of land degradation on cl...</td>\n",
        "      <td>                              http://www.ceh.ac.uk</td>\n",
        "      <td>           NaN</td>\n",
        "      <td>  True</td>\n",
        "      <td> 2</td>\n",
        "    </tr>\n",
        "    <tr>\n",
        "      <th>824</th>\n",
        "      <td> RE-START RENEWABLE ENERGIES STRATEGIES AND TEC...</td>\n",
        "      <td>                          http://www.resetters.org</td>\n",
        "      <td>           NaN</td>\n",
        "      <td> False</td>\n",
        "      <td> 0</td>\n",
        "    </tr>\n",
        "    <tr>\n",
        "      <th>826</th>\n",
        "      <td> Development of a low cost linear friction weld...</td>\n",
        "      <td>                            http://www.linfric.com</td>\n",
        "      <td>           NaN</td>\n",
        "      <td>  True</td>\n",
        "      <td> 3</td>\n",
        "    </tr>\n",
        "    <tr>\n",
        "      <th>834</th>\n",
        "      <td> Measuring,monitoring and managing sustainabili...</td>\n",
        "      <td> http://www.teriin.org/index.php?option=com_reg...</td>\n",
        "      <td>           NaN</td>\n",
        "      <td> False</td>\n",
        "      <td> 1</td>\n",
        "    </tr>\n",
        "    <tr>\n",
        "      <th>835</th>\n",
        "      <td> HPCN-enabled simulation of cardiovascular and ...</td>\n",
        "      <td>  http://www.csi.mines-paristech.fr/WebCSI/MEDUSE/</td>\n",
        "      <td>      BLOODSIM</td>\n",
        "      <td> False</td>\n",
        "      <td> 0</td>\n",
        "    </tr>\n",
        "    <tr>\n",
        "      <th>836</th>\n",
        "      <td>  European footwear network for electronic trading</td>\n",
        "      <td> http://www.uni-konstanz.de/crimeandculture/cri...</td>\n",
        "      <td>         EFNET</td>\n",
        "      <td> False</td>\n",
        "      <td> 1</td>\n",
        "    </tr>\n",
        "    <tr>\n",
        "      <th>837</th>\n",
        "      <td> New interactive and embedded system for audio ...</td>\n",
        "      <td>                   http://www.ftu-namur.org/sprew/</td>\n",
        "      <td>    GUIDE-MAN2</td>\n",
        "      <td> False</td>\n",
        "      <td> 1</td>\n",
        "    </tr>\n",
        "    <tr>\n",
        "      <th>841</th>\n",
        "      <td>   Knowledge management with intranet technologies</td>\n",
        "      <td>    http://www.csi.mines-paristech.fr/WebCSI/PICO/</td>\n",
        "      <td>       KNOWNET</td>\n",
        "      <td>  True</td>\n",
        "      <td> 4</td>\n",
        "    </tr>\n",
        "    <tr>\n",
        "      <th>842</th>\n",
        "      <td> Medical representative on-line simulation trai...</td>\n",
        "      <td>         http://www.lse.ac.uk/fmg/research/RICAFE/</td>\n",
        "      <td>          MOST</td>\n",
        "      <td> False</td>\n",
        "      <td> 0</td>\n",
        "    </tr>\n",
        "    <tr>\n",
        "      <th>844</th>\n",
        "      <td> Step-compliant data interface for numeric cont...</td>\n",
        "      <td>                  http://www.step-nc.org/index.htm</td>\n",
        "      <td>       STEP-NC</td>\n",
        "      <td> False</td>\n",
        "      <td> 1</td>\n",
        "    </tr>\n",
        "    <tr>\n",
        "      <th>847</th>\n",
        "      <td> Industry NGO fieldtest of improved efficiency ...</td>\n",
        "      <td> http://www.iesl.forth.gr/research/activity.asp...</td>\n",
        "      <td>       INFIELD</td>\n",
        "      <td> False</td>\n",
        "      <td> 0</td>\n",
        "    </tr>\n",
        "    <tr>\n",
        "      <th>850</th>\n",
        "      <td> European Network on Developing Techniques for ...</td>\n",
        "      <td>                    https://www.jyu.fi/fysiikka/en</td>\n",
        "      <td>      EXOTRAPS</td>\n",
        "      <td> False</td>\n",
        "      <td> 1</td>\n",
        "    </tr>\n",
        "  </tbody>\n",
        "</table>\n",
        "<p>251 rows \u00d7 5 columns</p>\n",
        "</div>"
       ],
       "metadata": {},
       "output_type": "pyout",
       "prompt_number": 55,
       "text": [
        "                                                 title  \\\n",
        "3       COMPUTER AIDED POST IN EUROPE IN THE YEAR 2000   \n",
        "11             Biofouling Reduction on Optical Systems   \n",
        "21            European parliaments research initiative   \n",
        "23   Learn from video extensive real atm gigabit ex...   \n",
        "25    Multimedia Information Window for National Hosts   \n",
        "26                    SME and Regional Telecom Support   \n",
        "35   Embedded filter unit for automotive signal con...   \n",
        "37                    Biogases transfers in estuaries.   \n",
        "57   Miniaturized and reconfigurable instrumentatio...   \n",
        "71      Maritime industries virtual enterprise linkage   \n",
        "72   Integrated information and process management ...   \n",
        "74                              Datamining file server   \n",
        "77   System for high-speed for automatic reading of...   \n",
        "86                 European processing core technology   \n",
        "88   A parallel optimisation scheme applied to extr...   \n",
        "89   Integrated simulation and design system for ci...   \n",
        "90      Tools for high productivity engineering design   \n",
        "94   A planning and control system for a semiconduc...   \n",
        "98     Information technology for the textile industry   \n",
        "101   2 real applications for requirements engineering   \n",
        "104                   HPCN Europe on line newsmagazine   \n",
        "105                Optimum design of multibody systems   \n",
        "107  High performance simulation of internal combus...   \n",
        "112  Temporal object oriented databases within info...   \n",
        "113  Emerging software technologies for trading and...   \n",
        "114  Use of the expert system platform REAKT for tr...   \n",
        "117  Enhancement of electronic system design by EMC...   \n",
        "118  Trial applications of case based reasoning for...   \n",
        "119                              Design for validation   \n",
        "126  Algorithms and complexity in information techn...   \n",
        "..                                                 ...   \n",
        "785  TRANSFER OF DETENTE INSTANTANEE CONTROLEE \"D.I...   \n",
        "786  Public perceptions of agricultural biotechnolo...   \n",
        "787                LABOUR POLICIES INFORMATION NETWORK   \n",
        "788  TELEMATIC MULTIDISCIPLINARY ASSISTIVE TECHNOLO...   \n",
        "791  INTEGRATION OF NAVIGATION AND ANTICOLLISION FO...   \n",
        "792  PROTOCOLS FOR INTEGRATED SHIP CONTROL AND EVAL...   \n",
        "794  The future developments in farm animal breedin...   \n",
        "795  Transnational collaboration within the EU for ...   \n",
        "800  European Network for Oceanographic Data & Info...   \n",
        "801  First principles investigation of molecular pr...   \n",
        "802     Information system for the ESF/QUEEN Programme   \n",
        "803  Development and evaluation of industrial elect...   \n",
        "804          Nde and life assessment of reformer tubes   \n",
        "805          Catalases for low water textile processes   \n",
        "811  Mediterranean model networking and archiving p...   \n",
        "819  Development and demonstrations of JBIG CODEC a...   \n",
        "821  Active non-linear mirror for optical time-divi...   \n",
        "822  Successful market exploitation for improved AG...   \n",
        "823  Modelling the effect of land degradation on cl...   \n",
        "824  RE-START RENEWABLE ENERGIES STRATEGIES AND TEC...   \n",
        "826  Development of a low cost linear friction weld...   \n",
        "834  Measuring,monitoring and managing sustainabili...   \n",
        "835  HPCN-enabled simulation of cardiovascular and ...   \n",
        "836   European footwear network for electronic trading   \n",
        "837  New interactive and embedded system for audio ...   \n",
        "841    Knowledge management with intranet technologies   \n",
        "842  Medical representative on-line simulation trai...   \n",
        "844  Step-compliant data interface for numeric cont...   \n",
        "847  Industry NGO fieldtest of improved efficiency ...   \n",
        "850  European Network on Developing Techniques for ...   \n",
        "\n",
        "                                            projectUrl        acronym  \\\n",
        "3                 http://www-vs.informatik.uni-ulm.de/      CAPE 2000   \n",
        "11           http://www.gla.ac.uk/schools/engineering/           BROS   \n",
        "21                           http://sagsunseinfach.de/      EPRIWATCH   \n",
        "23                    http://www.dit.upm.es/~leverage/       LEVERAGE   \n",
        "25                              http://www.infowin.org        INFOWIN   \n",
        "26                               http://www.smarts.org         SMARTS   \n",
        "35                            http://www.integramm.org           FILU   \n",
        "37                 http://labos.ulg.ac.be/oceanologie/        BIOGEST   \n",
        "57            http://www.mumm.ac.be/page_not_found.php          MAUVE   \n",
        "71   http://www.biba.uni-bremen.de/projects/marvelous/     MARVEL OUS   \n",
        "72                              http://www.ait.org.uk/           OPAL   \n",
        "74                           http://www.trans.net/dafs           DAFS   \n",
        "77                            http://www.mbr-train.org         SHAROC   \n",
        "86     http://www.cetia.com/news/EUROPRO/europroj.html        EUROPRO   \n",
        "88                              http://www.polyflow.be           ESOP   \n",
        "89                                   http://home.cern/         INSIDE   \n",
        "90                                http://www.bertin.fr       TOOLSHED   \n",
        "94   https://www.hugedomains.com/domain_profile.cfm...       X-CITTIC   \n",
        "98                              http://www.euratex.eu/           ITEX   \n",
        "101        https://staff.info.unamur.be/phe/2rare.html          2RARE   \n",
        "104                               http://www.hoise.com       HOISE NM   \n",
        "105                                 http://ceit.es/en/         ODESIM   \n",
        "107                          http://www.hlrs.de/error/        HPS-ICE   \n",
        "112                 http://helios.mm.di.uoa.gr/toobis/         TOOBIS   \n",
        "113                 http://www.aber.ac.uk/en/interpol/     ESTIMATION   \n",
        "114                            http://roberta-home.de/        RETRARO   \n",
        "117            http://www.ucl.ac.uk/mariecuriesocanth/       FP5-EESD   \n",
        "118              http://www.uclouvain.be/en-43617.html       APPLICUS   \n",
        "119  http://boise.namedisplay.com/wp-signup.php?new...           DEVA   \n",
        "126               http://www.dis.uniroma1.it/alcom-it/       ALCOM IT   \n",
        "..                                                 ...            ...   \n",
        "785                       http://www.abcar-dic.com/fr/            DIC   \n",
        "786                                http://www.pabe.net           PABE   \n",
        "787                               http://www.lapin.org          LAPIN   \n",
        "788                           http://www.telemate.org/       TELEMATE   \n",
        "791             https://www.iao.fraunhofer.de/lang-de/        IN-ARTE   \n",
        "792     http://www.itk.ntnu.no/SINTEF/pisces/Hovedside         PISCES   \n",
        "794                                    http://faip.dk/            NaN   \n",
        "795                              http://www.euspen.eu/            NaN   \n",
        "800                         http://www.sea-search.net/      EURONODIM   \n",
        "801                        http://www.3ragrocarbon.com            NaN   \n",
        "802  https://pangaea.de/search?env=All&q=project%3A...  QUEEN/PANGAEA   \n",
        "803                              http://www.elsyca.com        DESINER   \n",
        "804                          http://www.edifgroup.com/           NART   \n",
        "805                           http://www.compete.tm.fr            NaN   \n",
        "811                   http://www.ed.ac.uk/geosciences/         MEDNET   \n",
        "819                                   http://enbr.org/      COLOR-JBI   \n",
        "821                        http://www.rubicon-net.org/      ANLM-OTDM   \n",
        "822                               http://www.psi-k.org          SMART   \n",
        "823                               http://www.ceh.ac.uk            NaN   \n",
        "824                           http://www.resetters.org            NaN   \n",
        "826                             http://www.linfric.com            NaN   \n",
        "834  http://www.teriin.org/index.php?option=com_reg...            NaN   \n",
        "835   http://www.csi.mines-paristech.fr/WebCSI/MEDUSE/       BLOODSIM   \n",
        "836  http://www.uni-konstanz.de/crimeandculture/cri...          EFNET   \n",
        "837                    http://www.ftu-namur.org/sprew/     GUIDE-MAN2   \n",
        "841     http://www.csi.mines-paristech.fr/WebCSI/PICO/        KNOWNET   \n",
        "842          http://www.lse.ac.uk/fmg/research/RICAFE/           MOST   \n",
        "844                   http://www.step-nc.org/index.htm        STEP-NC   \n",
        "847  http://www.iesl.forth.gr/research/activity.asp...        INFIELD   \n",
        "850                     https://www.jyu.fi/fysiikka/en       EXOTRAPS   \n",
        "\n",
        "    ValidURL  Intersection  \n",
        "3      False             0  \n",
        "11     False             0  \n",
        "21     False             0  \n",
        "23      True             7  \n",
        "25     False             0  \n",
        "26     False             0  \n",
        "35     False             0  \n",
        "37     False             0  \n",
        "57     False             0  \n",
        "71      True             4  \n",
        "72     False             0  \n",
        "74     False             0  \n",
        "77     False             0  \n",
        "86     False             0  \n",
        "88     False             0  \n",
        "89     False             0  \n",
        "90     False             0  \n",
        "94     False             0  \n",
        "98      True             3  \n",
        "101     True             4  \n",
        "104    False             0  \n",
        "105    False             0  \n",
        "107    False             2  \n",
        "112    False             0  \n",
        "113    False             0  \n",
        "114    False             0  \n",
        "117    False             0  \n",
        "118    False             0  \n",
        "119     True             1  \n",
        "126     True             4  \n",
        "..       ...           ...  \n",
        "785    False             1  \n",
        "786    False             0  \n",
        "787    False             0  \n",
        "788    False             0  \n",
        "791    False             2  \n",
        "792    False             0  \n",
        "794    False             0  \n",
        "795     True             8  \n",
        "800    False             0  \n",
        "801    False             1  \n",
        "802    False             1  \n",
        "803     True             2  \n",
        "804     True             2  \n",
        "805    False             0  \n",
        "811    False             0  \n",
        "819    False             1  \n",
        "821    False             0  \n",
        "822    False             0  \n",
        "823     True             2  \n",
        "824    False             0  \n",
        "826     True             3  \n",
        "834    False             1  \n",
        "835    False             0  \n",
        "836    False             1  \n",
        "837    False             1  \n",
        "841     True             4  \n",
        "842    False             0  \n",
        "844    False             1  \n",
        "847    False             0  \n",
        "850    False             1  \n",
        "\n",
        "[251 rows x 5 columns]"
       ]
      }
     ],
     "prompt_number": 55
    },
    {
     "cell_type": "code",
     "collapsed": false,
     "input": [
      "df.to_csv('fp4_valid_urls.csv', index_col=False)"
     ],
     "language": "python",
     "metadata": {},
     "outputs": []
    },
    {
     "cell_type": "code",
     "collapsed": false,
     "input": [
      "df[df['ValidURL'] == True].count()"
     ],
     "language": "python",
     "metadata": {},
     "outputs": [
      {
       "metadata": {},
       "output_type": "pyout",
       "prompt_number": 57,
       "text": [
        "title           58\n",
        "projectUrl      58\n",
        "acronym         52\n",
        "ValidURL        58\n",
        "Intersection    58\n",
        "dtype: int64"
       ]
      }
     ],
     "prompt_number": 57
    },
    {
     "cell_type": "code",
     "collapsed": false,
     "input": [
      "df.count()"
     ],
     "language": "python",
     "metadata": {},
     "outputs": [
      {
       "metadata": {},
       "output_type": "pyout",
       "prompt_number": 58,
       "text": [
        "title           251\n",
        "projectUrl      251\n",
        "acronym         228\n",
        "ValidURL        251\n",
        "Intersection    251\n",
        "dtype: int64"
       ]
      }
     ],
     "prompt_number": 58
    },
    {
     "cell_type": "code",
     "collapsed": false,
     "input": [],
     "language": "python",
     "metadata": {},
     "outputs": []
    }
   ],
   "metadata": {}
  }
 ]
}