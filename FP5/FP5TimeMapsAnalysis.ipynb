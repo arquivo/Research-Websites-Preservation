{
 "cells": [
  {
   "cell_type": "code",
   "execution_count": 4,
   "metadata": {
    "collapsed": false
   },
   "outputs": [],
   "source": [
    "import matplotlib.pyplot as plt\n",
    "import pandas as pd\n",
    "import numpy as np\n",
    "import os\n",
    "import json\n",
    "import datetime\n",
    "from pprint import pprint\n",
    "%matplotlib inline"
   ]
  },
  {
   "cell_type": "code",
   "execution_count": 5,
   "metadata": {
    "collapsed": false
   },
   "outputs": [],
   "source": [
    "# build mementos on FP5program online\n",
    "\n",
    "max_year = '2002'\n",
    "min_year = '1998'\n",
    "\n",
    "timemaps_structure = {}\n",
    "\n",
    "for timemap_file in os.listdir('./mementos_all_with_url'):           \n",
    "    with open('./mementos_all_with_url/' + timemap_file) as timemap:    \n",
    "        timemap_json = json.load(timemap)                            \n",
    "        original_uri = timemap_json['original_uri']        \n",
    "        if timemap_json.get('mementos',0) != 0:\n",
    "            all_mementos = timemap_json['mementos']['list']         \n",
    "            accepted_mementos = []\n",
    "            for memento in all_mementos:                \n",
    "                date_string = memento['datetime']                \n",
    "                date = datetime.datetime.strptime(date_string, \"%Y-%m-%dT%H:%M:%S%fZ\")\n",
    "                if (int(date.year) >= int(min_year) and int(date.year) <= int(max_year)):\n",
    "                    accepted_mementos.append(memento)        \n",
    "            timemaps_structure[original_uri] = accepted_mementos"
   ]
  },
  {
   "cell_type": "code",
   "execution_count": 6,
   "metadata": {
    "collapsed": false
   },
   "outputs": [
    {
     "name": "stdout",
     "output_type": "stream",
     "text": [
      "Number of URIs without a version archived: 1661\n"
     ]
    }
   ],
   "source": [
    "iterator = timemaps_structure.iteritems()\n",
    "count = 0\n",
    "for uri,mementos in iterator:    \n",
    "    if mementos != []:        \n",
    "        count += 1        \n",
    "print \"Number of URIs without a version archived: %s\" % count            "
   ]
  },
  {
   "cell_type": "code",
   "execution_count": 7,
   "metadata": {
    "collapsed": false
   },
   "outputs": [],
   "source": [
    "# Mementos frequency distribution\n",
    "timemaps_frequency = {}\n",
    "\n",
    "iterator = timemaps_structure.iteritems()\n",
    "count = 0\n",
    "for uri,mementos in iterator:    \n",
    "    if mementos != []:\n",
    "        timemaps_frequency[uri] = len(mementos)\n",
    "#print \"Number of URIs without any version archived: %s\" % count "
   ]
  },
  {
   "cell_type": "code",
   "execution_count": 8,
   "metadata": {
    "collapsed": false
   },
   "outputs": [],
   "source": [
    "from urlparse import urlparse\n",
    "import re\n",
    "\n",
    "domains = []\n",
    "\n",
    "iterator = timemaps_structure.iteritems()\n",
    "domains_not_archived = []\n",
    "domains_archived = []\n",
    "for uri,mementos in iterator:    \n",
    "    if mementos == []:\n",
    "        url = urlparse(uri)\n",
    "        url_parsed = url.netloc.split('.')\n",
    "        domains_not_archived.append(url_parsed[len(url_parsed) - 1])\n",
    "    else:\n",
    "        url = urlparse(uri)\n",
    "        url_parsed = url.netloc.split('.')\n",
    "        domains_archived.append(url_parsed[len(url_parsed) - 1])\n",
    "#print \"Number of URIs without any version archived: %s\" % count "
   ]
  },
  {
   "cell_type": "code",
   "execution_count": 9,
   "metadata": {
    "collapsed": false
   },
   "outputs": [],
   "source": [
    "from collections import Counter\n",
    "counter_not_archived = Counter(domains_not_archived)\n",
    "counter_archived = Counter(domains_archived)"
   ]
  },
  {
   "cell_type": "code",
   "execution_count": 10,
   "metadata": {
    "collapsed": false
   },
   "outputs": [
    {
     "data": {
      "text/plain": [
       "Counter({u'165': 1,\n",
       "         u'222': 1,\n",
       "         u'32': 1,\n",
       "         u'at': 2,\n",
       "         u'be': 7,\n",
       "         u'bg': 2,\n",
       "         u'bz': 1,\n",
       "         u'cc': 1,\n",
       "         u'ch': 3,\n",
       "         u'com': 40,\n",
       "         u'cx': 1,\n",
       "         u'cz': 2,\n",
       "         u'de': 40,\n",
       "         u'dk': 6,\n",
       "         u'edu': 1,\n",
       "         u'es': 19,\n",
       "         u'eu': 2,\n",
       "         u'fi': 5,\n",
       "         u'fr': 20,\n",
       "         u'gr': 13,\n",
       "         u'gr:8080': 1,\n",
       "         u'hu': 1,\n",
       "         u'ie': 2,\n",
       "         u'info': 12,\n",
       "         u'int': 1,\n",
       "         u'is': 1,\n",
       "         u'it': 25,\n",
       "         u'net': 17,\n",
       "         u'nl': 10,\n",
       "         u'no': 5,\n",
       "         u'org': 67,\n",
       "         u'pl': 4,\n",
       "         u'pt': 2,\n",
       "         u'se': 13,\n",
       "         u'si': 1,\n",
       "         u'sk': 1,\n",
       "         u'uk': 26})"
      ]
     },
     "execution_count": 10,
     "metadata": {},
     "output_type": "execute_result"
    }
   ],
   "source": [
    "counter_not_archived"
   ]
  },
  {
   "cell_type": "code",
   "execution_count": 11,
   "metadata": {
    "collapsed": false
   },
   "outputs": [
    {
     "data": {
      "text/plain": [
       "Counter({u'10': 1,\n",
       "         u'174': 1,\n",
       "         u'DE': 1,\n",
       "         u'IE': 1,\n",
       "         u'IT': 1,\n",
       "         u'at': 34,\n",
       "         u'be': 29,\n",
       "         u'bg': 9,\n",
       "         u'biz': 2,\n",
       "         u'cc': 1,\n",
       "         u'ch': 10,\n",
       "         u'cl': 1,\n",
       "         u'com': 206,\n",
       "         u'cy': 2,\n",
       "         u'cz': 14,\n",
       "         u'de': 155,\n",
       "         u'dk': 27,\n",
       "         u'edu': 3,\n",
       "         u'ee': 2,\n",
       "         u'es': 75,\n",
       "         u'fi': 19,\n",
       "         u'fr': 102,\n",
       "         u'gr': 68,\n",
       "         u'hu': 14,\n",
       "         u'ie': 19,\n",
       "         u'il': 10,\n",
       "         u'info': 10,\n",
       "         u'int': 5,\n",
       "         u'is': 1,\n",
       "         u'it': 138,\n",
       "         u'lt': 1,\n",
       "         u'lu': 4,\n",
       "         u'lv': 4,\n",
       "         u'mu': 1,\n",
       "         u'net': 77,\n",
       "         u'nl': 44,\n",
       "         u'no': 19,\n",
       "         u'nu': 3,\n",
       "         u'org': 336,\n",
       "         u'pl': 25,\n",
       "         u'pt': 18,\n",
       "         u'ro': 4,\n",
       "         u'ru': 1,\n",
       "         u'se': 23,\n",
       "         u'si': 4,\n",
       "         u'sk': 3,\n",
       "         u'tr': 1,\n",
       "         u'tv': 1,\n",
       "         u'uk': 129,\n",
       "         u'ws': 2})"
      ]
     },
     "execution_count": 11,
     "metadata": {},
     "output_type": "execute_result"
    }
   ],
   "source": [
    "counter_archived"
   ]
  },
  {
   "cell_type": "markdown",
   "metadata": {},
   "source": [
    "# Web Archives Distribution"
   ]
  },
  {
   "cell_type": "code",
   "execution_count": 15,
   "metadata": {
    "collapsed": false
   },
   "outputs": [],
   "source": [
    "# Mementos frequency distribution\n",
    "list_mementos = []\n",
    "\n",
    "iterator = timemaps_structure.iteritems()\n",
    "count = 0\n",
    "for uri,mementos in iterator:    \n",
    "    if mementos != []:\n",
    "        for m in mementos:\n",
    "            list_mementos.append(m)\n",
    "#print \"Number of URIs without any version archived: %s\" % count "
   ]
  },
  {
   "cell_type": "code",
   "execution_count": 16,
   "metadata": {
    "collapsed": false
   },
   "outputs": [],
   "source": [
    "web_archives = []\n",
    "for memento in list_mementos:\n",
    "    web_archives.append(memento['uri'].split('/')[2])\n",
    "\n",
    "web_archives_distribution = Counter(web_archives)    "
   ]
  },
  {
   "cell_type": "code",
   "execution_count": 19,
   "metadata": {
    "collapsed": false
   },
   "outputs": [
    {
     "data": {
      "text/plain": [
       "Counter({u'arquivo.pt': 138,\n",
       "         u'wayback.archive-it.org': 3,\n",
       "         u'wayback.vefsafn.is': 7,\n",
       "         u'web.archive.bibalex.org:80': 6061,\n",
       "         u'web.archive.org': 17533,\n",
       "         u'webarchive.loc.gov': 97,\n",
       "         u'webarchive.nationalarchives.gov.uk': 45})"
      ]
     },
     "execution_count": 19,
     "metadata": {},
     "output_type": "execute_result"
    }
   ],
   "source": [
    "web_archives_distribution"
   ]
  },
  {
   "cell_type": "code",
   "execution_count": 20,
   "metadata": {
    "collapsed": false
   },
   "outputs": [
    {
     "data": {
      "text/plain": [
       "23884"
      ]
     },
     "execution_count": 20,
     "metadata": {},
     "output_type": "execute_result"
    }
   ],
   "source": [
    "len(list_mementos)"
   ]
  },
  {
   "cell_type": "code",
   "execution_count": 21,
   "metadata": {
    "collapsed": false
   },
   "outputs": [
    {
     "data": {
      "text/plain": [
       "([<matplotlib.axis.XTick at 0x7f30949a8910>,\n",
       "  <matplotlib.axis.XTick at 0x7f30949a83d0>,\n",
       "  <matplotlib.axis.XTick at 0x7f3094977410>,\n",
       "  <matplotlib.axis.XTick at 0x7f30949249d0>,\n",
       "  <matplotlib.axis.XTick at 0x7f3094933150>,\n",
       "  <matplotlib.axis.XTick at 0x7f3094933890>,\n",
       "  <matplotlib.axis.XTick at 0x7f3094933fd0>],\n",
       " <a list of 7 Text xticklabel objects>)"
      ]
     },
     "execution_count": 21,
     "metadata": {},
     "output_type": "execute_result"
    },
    {
     "data": {
      "image/png": "[encoded data removed]",
      "text/plain": [
       "<matplotlib.figure.Figure at 0x7f3096a9d210>"
      ]
     },
     "metadata": {},
     "output_type": "display_data"
    }
   ],
   "source": [
    "plt.bar(range(len(web_archives_distribution)), web_archives_distribution.values(), align='center',)\n",
    "plt.xticks(range(len(web_archives_distribution)), web_archives_distribution.keys(),  rotation='vertical')"
   ]
  },
  {
   "cell_type": "code",
   "execution_count": 22,
   "metadata": {
    "collapsed": false
   },
   "outputs": [
    {
     "data": {
      "text/plain": [
       "0.9067362714586888"
      ]
     },
     "execution_count": 22,
     "metadata": {},
     "output_type": "execute_result"
    }
   ],
   "source": [
    "9032/9961."
   ]
  },
  {
   "cell_type": "markdown",
   "metadata": {},
   "source": [
    "# FP5 Archvived versions location distribution"
   ]
  },
  {
   "cell_type": "code",
   "execution_count": 24,
   "metadata": {
    "collapsed": false
   },
   "outputs": [],
   "source": [
    "iterator = timemaps_structure.iteritems()\n",
    "count = 0\n",
    "rows_list = []\n",
    "for uri,mementos in iterator:     \n",
    "    if mementos != []:        \n",
    "        dictrow = {}    \n",
    "        dictrow['URI-O'] = uri\n",
    "        for m in mementos:        \n",
    "            dictrow[m['uri'].split('/')[2]] = 1\n",
    "        rows_list.append(dictrow)"
   ]
  },
  {
   "cell_type": "code",
   "execution_count": 25,
   "metadata": {
    "collapsed": false
   },
   "outputs": [
    {
     "data": {
      "text/plain": [
       "URI-O                                 1661\n",
       "arquivo.pt                              15\n",
       "wayback.archive-it.org                   1\n",
       "wayback.vefsafn.is                       1\n",
       "web.archive.bibalex.org:80             613\n",
       "web.archive.org                       1655\n",
       "webarchive.loc.gov                      49\n",
       "webarchive.nationalarchives.gov.uk       6\n",
       "dtype: int64"
      ]
     },
     "execution_count": 25,
     "metadata": {},
     "output_type": "execute_result"
    }
   ],
   "source": [
    "df = pd.DataFrame(rows_list)\n",
    "df.count()"
   ]
  },
  {
   "cell_type": "code",
   "execution_count": 26,
   "metadata": {
    "collapsed": false
   },
   "outputs": [
    {
     "data": {
      "text/plain": [
       "URI-O                                 61.133603\n",
       "arquivo.pt                             0.552079\n",
       "wayback.archive-it.org                 0.036805\n",
       "wayback.vefsafn.is                     0.036805\n",
       "web.archive.bibalex.org:80            22.561649\n",
       "web.archive.org                       60.912771\n",
       "webarchive.loc.gov                     1.803460\n",
       "webarchive.nationalarchives.gov.uk     0.220832\n",
       "dtype: float64"
      ]
     },
     "execution_count": 26,
     "metadata": {},
     "output_type": "execute_result"
    }
   ],
   "source": [
    "df.count() / 2717 * 100"
   ]
  },
  {
   "cell_type": "code",
   "execution_count": null,
   "metadata": {
    "collapsed": false
   },
   "outputs": [],
   "source": []
  }
 ],
 "metadata": {
  "kernelspec": {
   "display_name": "Python 2",
   "language": "python",
   "name": "python2"
  },
  "language_info": {
   "codemirror_mode": {
    "name": "ipython",
    "version": 2
   },
   "file_extension": ".py",
   "mimetype": "text/x-python",
   "name": "python",
   "nbconvert_exporter": "python",
   "pygments_lexer": "ipython2",
   "version": "2.7.11+"
  }
 },
 "nbformat": 4,
 "nbformat_minor": 0
}
