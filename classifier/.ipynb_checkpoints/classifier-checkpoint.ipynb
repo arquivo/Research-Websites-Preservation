{
 "metadata": {
  "name": "",
  "signature": "sha256:2ed1966a3036bb6d3017b10eec0497b6c7b15bc61c0734224d89b40abdd2afa6"
 },
 "nbformat": 3,
 "nbformat_minor": 0,
 "worksheets": [
  {
   "cells": [
    {
     "cell_type": "code",
     "collapsed": false,
     "input": [
      "import numpy as np\n",
      "import pandas as pd\n",
      "import matplotlib.pyplot as plt\n",
      "\n",
      "import os\n",
      "import codecs\n",
      "import re\n",
      "\n",
      "from sklearn import metrics\n",
      "from sklearn.metrics import classification_report\n",
      "from sklearn.metrics import confusion_matrix\n",
      "from sklearn.metrics import f1_score\n",
      "from sklearn.feature_extraction.text import TfidfVectorizer\n",
      "from sklearn.feature_extraction.text import CountVectorizer\n",
      "\n",
      "from sklearn.neighbors import KNeighborsClassifier\n",
      "from sklearn.naive_bayes import MultinomialNB\n",
      "from sklearn.naive_bayes import BernoulliNB\n",
      "\n",
      "from collections import Counter\n",
      "from stemming.porter2 import stem\n",
      "\n",
      "from bs4 import BeautifulSoup\n",
      "\n",
      "%matplotlib inline"
     ],
     "language": "python",
     "metadata": {},
     "outputs": [],
     "prompt_number": 31
    },
    {
     "cell_type": "markdown",
     "metadata": {},
     "source": [
      "### Get corpus from project sites and no project sites"
     ]
    },
    {
     "cell_type": "code",
     "collapsed": false,
     "input": [
      "fp7projects_docs = []\n",
      "nofp7projects_docs = []\n",
      "\n",
      "for htmlfile in os.listdir('sites_html_ok/'):\n",
      "    html_entry_path = os.path.join('sites_html_ok/', htmlfile)\n",
      "    if os.path.isfile(html_entry_path):\n",
      "        with codecs.open(html_entry_path, 'r') as html_doc:\n",
      "            soup = BeautifulSoup(html_doc.read(), 'lxml')\n",
      "            # remove all scrit and style elements\n",
      "            for junk in soup([\"script\", \"style\"]):\n",
      "                junk.extract()\n",
      "            # pageText = soup.find_all('p').getText()\n",
      "            pageText = soup.get_text(separator=' ')\n",
      "            lines = (line.strip() for line in pageText.splitlines())\n",
      "            chunks = (phrase.strip()\n",
      "                      for line in lines for phrase in line.split(\"  \"))            \n",
      "            text = '\\n'.join(chunk for chunk in chunks if chunk)            \n",
      "            fp7projects_docs.append(text)\n",
      "            \n",
      "for htmlfile in os.listdir('sites_html_nok/'):\n",
      "    html_entry_path = os.path.join('sites_html_nok/', htmlfile)\n",
      "    if os.path.isfile(html_entry_path):\n",
      "        with codecs.open(html_entry_path, 'r') as html_doc:\n",
      "            soup = BeautifulSoup(html_doc.read(), 'lxml')\n",
      "            # remove all scrit and style elements\n",
      "            for junk in soup([\"script\", \"style\"]):\n",
      "                junk.extract()\n",
      "            # pageText = soup.find_all('p').getText()\n",
      "            pageText = soup.get_text(separator=' ')\n",
      "            lines = (line.strip() for line in pageText.splitlines())\n",
      "            chunks = (phrase.strip()\n",
      "                      for line in lines for phrase in line.split(\"  \"))\n",
      "            text = '\\n'.join(chunk for chunk in chunks if chunk)        \n",
      "            nofp7projects_docs.append(text)            "
     ],
     "language": "python",
     "metadata": {},
     "outputs": [],
     "prompt_number": 2
    },
    {
     "cell_type": "code",
     "collapsed": false,
     "input": [
      "print len(fp7projects_docs)\n",
      "print len(nofp7projects_docs)\n",
      "\n",
      "docs = np.hstack((fp7projects_docs,nofp7projects_docs))\n",
      "\n",
      "train_docs = np.hstack((fp7projects_docs[:1000],nofp7projects_docs[:300]))\n",
      "test_docs = np.hstack((fp7projects_docs[1000:],nofp7projects_docs[300:]))"
     ],
     "language": "python",
     "metadata": {},
     "outputs": [
      {
       "output_type": "stream",
       "stream": "stdout",
       "text": [
        "1300\n",
        "424\n"
       ]
      }
     ],
     "prompt_number": 3
    },
    {
     "cell_type": "code",
     "collapsed": false,
     "input": [
      "def tokenize(text):\n",
      "    words = re.sub(r'[\\W_\\d]', ' ', text).lower().split()\n",
      "    #word_stem = []\n",
      "    #for w in words:\n",
      "    #    word_stem.append(stem(w))\n",
      "    #return word_stem \n",
      "    return words "
     ],
     "language": "python",
     "metadata": {},
     "outputs": [],
     "prompt_number": 23
    },
    {
     "cell_type": "code",
     "collapsed": false,
     "input": [
      "vectorizer = CountVectorizer(stop_words='english',tokenizer = tokenize, max_features = 160)\n",
      "vectorizer.fit(docs)\n",
      "train_data = vectorizer.transform(train_docs)\n",
      "test_data = vectorizer.transform(test_docs)"
     ],
     "language": "python",
     "metadata": {},
     "outputs": [],
     "prompt_number": 32
    },
    {
     "cell_type": "markdown",
     "metadata": {},
     "source": [
      "# KNN Classifier"
     ]
    },
    {
     "cell_type": "code",
     "collapsed": false,
     "input": [
      "# Train Classifier\n",
      "neigh = KNeighborsClassifier(n_neighbors=10)\n",
      "\n",
      "train_labels = np.hstack((np.ones(1000,int),np.zeros(300,int)))\n",
      "test_labels =  np.hstack((np.ones(300,int),np.zeros(124,int)))\n",
      "\n",
      "neigh.fit(train_data, train_labels)\n",
      "predicted_labels = neigh.predict(test_data)"
     ],
     "language": "python",
     "metadata": {},
     "outputs": [],
     "prompt_number": 33
    },
    {
     "cell_type": "code",
     "collapsed": false,
     "input": [
      "cf = confusion_matrix(predicted_labels,test_labels)\n",
      "print cf\n",
      "print \"Erro Total: %0.2f\" % ((cf[0,1] + cf[1,0]) / float(cf[1,0] + cf[1,1] + cf[0,1] + cf[0,0]))\n",
      "print \"Precision Projects: %0.2f\" % ((cf[1,1]) / float(cf[1,1] + cf[0,1]))\n",
      "print \"Precision NoProjects: %0.2f\" % ((cf[0,0]) / float(cf[0,0] + cf[1,0]))\n",
      "print \"Accuracy: %0.2f:\" % ((cf[0,0] + cf[1,1]) / float(cf[1,0] + cf[1,1] + cf[0,1] + cf[0,0]))"
     ],
     "language": "python",
     "metadata": {},
     "outputs": [
      {
       "output_type": "stream",
       "stream": "stdout",
       "text": [
        "[[ 32   9]\n",
        " [ 92 291]]\n",
        "Erro Total: 0.24\n",
        "Precision Projects: 0.97\n",
        "Precision NoProjects: 0.26\n",
        "Accuracy: 0.76:\n"
       ]
      }
     ],
     "prompt_number": 34
    },
    {
     "cell_type": "markdown",
     "metadata": {},
     "source": [
      "# Bernoulli NB"
     ]
    },
    {
     "cell_type": "code",
     "collapsed": false,
     "input": [
      "nbb = BernoulliNB(fit_prior = False)\n",
      "nbb.fit(train_data, train_labels)\n",
      "predicted_labels = nbb.predict(test_data)"
     ],
     "language": "python",
     "metadata": {},
     "outputs": [],
     "prompt_number": 35
    },
    {
     "cell_type": "code",
     "collapsed": false,
     "input": [
      "cf = confusion_matrix(predicted_labels,test_labels)\n",
      "print cf\n",
      "print \"Erro Total: %0.2f\" % ((cf[0,1] + cf[1,0]) / float(cf[1,0] + cf[1,1] + cf[0,1] + cf[0,0]))\n",
      "print \"Precision Projects: %0.2f\" % ((cf[1,1]) / float(cf[1,1] + cf[0,1]))\n",
      "print \"Precision NoProjects: %0.2f\" % ((cf[0,0]) / float(cf[0,0] + cf[1,0]))\n",
      "print \"Accuracy: %0.2f:\" % ((cf[0,0] + cf[1,1]) / float(cf[1,0] + cf[1,1] + cf[0,1] + cf[0,0]))"
     ],
     "language": "python",
     "metadata": {},
     "outputs": [
      {
       "output_type": "stream",
       "stream": "stdout",
       "text": [
        "[[ 87  51]\n",
        " [ 37 249]]\n",
        "Erro Total: 0.21\n",
        "Precision Projects: 0.83\n",
        "Precision NoProjects: 0.70\n",
        "Accuracy: 0.79:\n"
       ]
      }
     ],
     "prompt_number": 36
    },
    {
     "cell_type": "code",
     "collapsed": false,
     "input": [
      "plt.matshow(cf, cmap=plt.cm.binary, interpolation='nearest')\n",
      "plt.title('confusion matrix')\n",
      "plt.colorbar()\n",
      "plt.ylabel('expected label')\n",
      "plt.xlabel('predicted label')"
     ],
     "language": "python",
     "metadata": {},
     "outputs": [
      {
       "metadata": {},
       "output_type": "pyout",
       "prompt_number": 37,
       "text": [
        "<matplotlib.text.Text at 0x7f80b0970750>"
       ]
      },
      {
       "metadata": {},
       "output_type": "display_data",
       "png": "[encoded data removed]",
       "text": [
        "<matplotlib.figure.Figure at 0x7f80b0ac8dd0>"
       ]
      }
     ],
     "prompt_number": 37
    },
    {
     "cell_type": "markdown",
     "metadata": {},
     "source": [
      "# Multinomial NB"
     ]
    },
    {
     "cell_type": "code",
     "collapsed": false,
     "input": [
      "nbm = MultinomialNB()\n",
      "nbm.fit(train_data, train_labels)\n",
      "predicted_labels = nbm.predict(test_data)\n",
      "cf = confusion_matrix(predicted_labels,test_labels)\n",
      "print cf\n",
      "print \"Erro Total: %0.2f\" % ((cf[0,1] + cf[1,0]) / float(cf[1,0] + cf[1,1] + cf[0,1] + cf[0,0]))\n",
      "print \"Precision Projects: %0.2f\" % ((cf[1,1]) / float(cf[1,1] + cf[0,1]))\n",
      "print \"Precision NoProjects: %0.2f\" % ((cf[0,0]) / float(cf[0,0] + cf[1,0]))\n",
      "print \"Accuracy: %0.2f:\" % ((cf[0,0] + cf[1,1]) / float(cf[1,0] + cf[1,1] + cf[0,1] + cf[0,0]))"
     ],
     "language": "python",
     "metadata": {},
     "outputs": [
      {
       "output_type": "stream",
       "stream": "stdout",
       "text": [
        "[[ 40  14]\n",
        " [ 84 286]]\n",
        "Erro Total: 0.23\n",
        "Precision Projects: 0.95\n",
        "Precision NoProjects: 0.32\n",
        "Accuracy: 0.77:\n"
       ]
      }
     ],
     "prompt_number": 38
    },
    {
     "cell_type": "code",
     "collapsed": false,
     "input": [
      "plt.matshow(cf, cmap=plt.cm.binary, interpolation='nearest')\n",
      "plt.title('confusion matrix')\n",
      "plt.colorbar()\n",
      "plt.ylabel('expected label')\n",
      "plt.xlabel('predicted label')"
     ],
     "language": "python",
     "metadata": {},
     "outputs": [
      {
       "metadata": {},
       "output_type": "pyout",
       "prompt_number": 39,
       "text": [
        "<matplotlib.text.Text at 0x7f80b1388bd0>"
       ]
      },
      {
       "metadata": {},
       "output_type": "display_data",
       "png": "[encoded data removed]",
       "text": [
        "<matplotlib.figure.Figure at 0x7f80b11d2b90>"
       ]
      }
     ],
     "prompt_number": 39
    },
    {
     "cell_type": "markdown",
     "metadata": {},
     "source": [
      "# Random Forest"
     ]
    },
    {
     "cell_type": "code",
     "collapsed": false,
     "input": [
      "from sklearn.ensemble import RandomForestClassifier \n",
      "\n",
      "forest = RandomForestClassifier(n_estimators = 100)\n",
      "\n",
      "forest = forest.fit(train_data,train_labels)\n",
      "\n",
      "predicted_labels = forest.predict(test_data)\n",
      "cf = confusion_matrix(predicted_labels,test_labels)\n",
      "print cf\n",
      "print \"Erro Total: %0.2f\" % ((cf[0,1] + cf[1,0]) / float(cf[1,0] + cf[1,1] + cf[0,1] + cf[0,0]))\n",
      "print \"Precision Projects: %0.2f\" % ((cf[1,1]) / float(cf[1,1] + cf[0,1]))\n",
      "print \"Precision NoProjects: %0.2f\" % ((cf[0,0]) / float(cf[0,0] + cf[1,0]))\n",
      "print \"Accuracy: %0.2f:\" % ((cf[0,0] + cf[1,1]) / float(cf[1,0] + cf[1,1] + cf[0,1] + cf[0,0]))"
     ],
     "language": "python",
     "metadata": {},
     "outputs": [
      {
       "output_type": "stream",
       "stream": "stdout",
       "text": [
        "[[ 48  10]\n",
        " [ 76 290]]\n",
        "Erro Total: 0.20\n",
        "Precision Projects: 0.97\n",
        "Precision NoProjects: 0.39\n",
        "Accuracy: 0.80:\n"
       ]
      }
     ],
     "prompt_number": 40
    },
    {
     "cell_type": "code",
     "collapsed": false,
     "input": [
      "plt.matshow(cf, cmap=plt.cm.binary, interpolation='nearest')\n",
      "plt.title('confusion matrix')\n",
      "plt.colorbar()\n",
      "plt.ylabel('expected label')\n",
      "plt.xlabel('predicted label')"
     ],
     "language": "python",
     "metadata": {},
     "outputs": [
      {
       "metadata": {},
       "output_type": "pyout",
       "prompt_number": 41,
       "text": [
        "<matplotlib.text.Text at 0x7f80b0df6b50>"
       ]
      },
      {
       "metadata": {},
       "output_type": "display_data",
       "png": "[encoded data removed]",
       "text": [
        "<matplotlib.figure.Figure at 0x7f80b13faa50>"
       ]
      }
     ],
     "prompt_number": 41
    },
    {
     "cell_type": "markdown",
     "metadata": {},
     "source": [
      "# One Class Classifiers"
     ]
    },
    {
     "cell_type": "code",
     "collapsed": false,
     "input": [
      "from sklearn.svm import OneClassSVM"
     ],
     "language": "python",
     "metadata": {},
     "outputs": [],
     "prompt_number": 18
    },
    {
     "cell_type": "code",
     "collapsed": false,
     "input": [
      "vectorizer = TfidfVectorizer(stop_words='english', tokenizer=tokenize, max_features=150)\n",
      "vectorizer.fit(fp7projects_docs)\n",
      "train_data = vectorizer.transform(fp7projects_docs[:1000])\n",
      "test_data = vectorizer.transform(test_docs)\n",
      "\n",
      "onesvm = OneClassSVM()\n",
      "onesvm.fit(train_data)"
     ],
     "language": "python",
     "metadata": {},
     "outputs": [
      {
       "metadata": {},
       "output_type": "pyout",
       "prompt_number": 19,
       "text": [
        "OneClassSVM(cache_size=200, coef0=0.0, degree=3, gamma='auto', kernel='rbf',\n",
        "      max_iter=-1, nu=0.5, random_state=None, shrinking=True, tol=0.001,\n",
        "      verbose=False)"
       ]
      }
     ],
     "prompt_number": 19
    },
    {
     "cell_type": "code",
     "collapsed": false,
     "input": [
      "predicted = onesvm.predict(test_data)"
     ],
     "language": "python",
     "metadata": {},
     "outputs": [],
     "prompt_number": 20
    },
    {
     "cell_type": "code",
     "collapsed": false,
     "input": [
      "test_labels =  np.hstack((np.ones(300,int),-np.ones(124,int)))\n",
      "cf = confusion_matrix(predicted,test_labels)\n",
      "print cf\n",
      "print \"Erro Total: %0.2f\" % ((cf[0,1] + cf[1,0]) / float(cf[1,0] + cf[1,1] + cf[0,1] + cf[0,0]))\n",
      "print \"Precision Projects: %0.2f\" % ((cf[1,1]) / float(cf[1,1] + cf[0,1]))\n",
      "print \"Precision NoProjects: %0.2f\" % ((cf[0,0]) / float(cf[0,0] + cf[1,0]))\n",
      "print \"Accuracy: %0.2f:\" % ((cf[0,0] + cf[1,1]) / float(cf[1,0] + cf[1,1] + cf[0,1] + cf[0,0]))"
     ],
     "language": "python",
     "metadata": {},
     "outputs": [
      {
       "output_type": "stream",
       "stream": "stdout",
       "text": [
        "[[ 85 130]\n",
        " [ 39 170]]\n",
        "Erro Total: 0.40\n",
        "Precision Projects: 0.57\n",
        "Precision NoProjects: 0.69\n",
        "Accuracy: 0.60:\n"
       ]
      }
     ],
     "prompt_number": 21
    },
    {
     "cell_type": "code",
     "collapsed": false,
     "input": [
      "plt.matshow(cf, cmap=plt.cm.binary, interpolation='nearest')\n",
      "plt.title('confusion matrix')\n",
      "plt.colorbar()\n",
      "plt.ylabel('expected label')\n",
      "plt.xlabel('predicted label')"
     ],
     "language": "python",
     "metadata": {},
     "outputs": [
      {
       "metadata": {},
       "output_type": "pyout",
       "prompt_number": 22,
       "text": [
        "<matplotlib.text.Text at 0x7f80b0ae2610>"
       ]
      },
      {
       "metadata": {},
       "output_type": "display_data",
       "png": "[encoded data removed]",
       "text": [
        "<matplotlib.figure.Figure at 0x7f80b0e50c90>"
       ]
      }
     ],
     "prompt_number": 22
    },
    {
     "cell_type": "code",
     "collapsed": false,
     "input": [],
     "language": "python",
     "metadata": {},
     "outputs": []
    }
   ],
   "metadata": {}
  }
 ]
}