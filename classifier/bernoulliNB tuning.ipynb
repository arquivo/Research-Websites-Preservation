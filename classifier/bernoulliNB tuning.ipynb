{
 "metadata": {
  "name": "",
  "signature": "sha256:40755aa068c9c10bd8c617ffa0f75eee58eb683a06620a389ce26f6fd649d566"
 },
 "nbformat": 3,
 "nbformat_minor": 0,
 "worksheets": [
  {
   "cells": [
    {
     "cell_type": "code",
     "collapsed": false,
     "input": [
      "import numpy as np\n",
      "import pandas as pd\n",
      "import matplotlib.pyplot as plt\n",
      "\n",
      "import os\n",
      "import codecs\n",
      "import re\n",
      "\n",
      "from sklearn.pipeline import Pipeline\n",
      "from sklearn import metrics\n",
      "from sklearn.metrics import classification_report\n",
      "from sklearn.metrics import confusion_matrix\n",
      "from sklearn.metrics import f1_score\n",
      "from sklearn.feature_extraction.text import TfidfVectorizer\n",
      "from sklearn.feature_extraction.text import CountVectorizer\n",
      "\n",
      "from sklearn.neighbors import KNeighborsClassifier\n",
      "from sklearn.naive_bayes import MultinomialNB\n",
      "from sklearn.naive_bayes import BernoulliNB\n",
      "\n",
      "from collections import Counter\n",
      "from stemming.porter2 import stem\n",
      "\n",
      "from bs4 import BeautifulSoup\n",
      "\n",
      "%matplotlib inline"
     ],
     "language": "python",
     "metadata": {},
     "outputs": [],
     "prompt_number": 1
    },
    {
     "cell_type": "code",
     "collapsed": false,
     "input": [
      "fp7projects_docs = []\n",
      "nofp7projects_docs = []\n",
      "\n",
      "for htmlfile in os.listdir('sites_html_ok/'):\n",
      "    html_entry_path = os.path.join('sites_html_ok/', htmlfile)\n",
      "    if os.path.isfile(html_entry_path):\n",
      "        with codecs.open(html_entry_path, 'r') as html_doc:\n",
      "            soup = BeautifulSoup(html_doc.read(), 'lxml')\n",
      "            # remove all scrit and style elements\n",
      "            for junk in soup([\"script\", \"style\"]):\n",
      "                junk.extract()\n",
      "            # pageText = soup.find_all('p').getText()\n",
      "            pageText = soup.get_text(separator=' ')\n",
      "            lines = (line.strip() for line in pageText.splitlines())\n",
      "            chunks = (phrase.strip()\n",
      "                      for line in lines for phrase in line.split(\"  \"))            \n",
      "            text = '\\n'.join(chunk for chunk in chunks if chunk)            \n",
      "            fp7projects_docs.append(text)\n",
      "            \n",
      "for htmlfile in os.listdir('sites_html_nok/'):\n",
      "    html_entry_path = os.path.join('sites_html_nok/', htmlfile)\n",
      "    if os.path.isfile(html_entry_path):\n",
      "        with codecs.open(html_entry_path, 'r') as html_doc:\n",
      "            soup = BeautifulSoup(html_doc.read(), 'lxml')\n",
      "            # remove all scrit and style elements\n",
      "            for junk in soup([\"script\", \"style\"]):\n",
      "                junk.extract()\n",
      "            # pageText = soup.find_all('p').getText()\n",
      "            pageText = soup.get_text(separator=' ')\n",
      "            lines = (line.strip() for line in pageText.splitlines())\n",
      "            chunks = (phrase.strip()\n",
      "                      for line in lines for phrase in line.split(\"  \"))\n",
      "            text = '\\n'.join(chunk for chunk in chunks if chunk)        \n",
      "            nofp7projects_docs.append(text) "
     ],
     "language": "python",
     "metadata": {},
     "outputs": [],
     "prompt_number": 2
    },
    {
     "cell_type": "code",
     "collapsed": false,
     "input": [
      "def tokenize(text):\n",
      "    words = re.sub(r'[\\W_\\d]', ' ', text).lower().split()\n",
      "    #word_stem = []\n",
      "    #for w in words:\n",
      "    #    word_stem.append(stem(w))\n",
      "    #return word_stem \n",
      "    return words "
     ],
     "language": "python",
     "metadata": {},
     "outputs": [],
     "prompt_number": 3
    },
    {
     "cell_type": "code",
     "collapsed": false,
     "input": [
      "print len(fp7projects_docs)\n",
      "print len(nofp7projects_docs)\n",
      "\n",
      "docs = np.hstack((fp7projects_docs,nofp7projects_docs))\n",
      "\n",
      "train_docs = np.hstack((fp7projects_docs[:1000],nofp7projects_docs[:300]))\n",
      "test_docs = np.hstack((fp7projects_docs[1000:],nofp7projects_docs[300:]))"
     ],
     "language": "python",
     "metadata": {},
     "outputs": [
      {
       "output_type": "stream",
       "stream": "stdout",
       "text": [
        "1300\n",
        "424\n"
       ]
      }
     ],
     "prompt_number": 4
    },
    {
     "cell_type": "code",
     "collapsed": false,
     "input": [
      "#vectorizer = CountVectorizer(stop_words='english',tokenizer = tokenize, max_features = 800)\n",
      "#vectorizer.fit(train_docs)\n",
      "#vocabulary = vectorizer.vocabulary_\n",
      "#vectorizer.get_feature_names()\n",
      "\n",
      "#train_data = vectorizer.transform(train_docs)\n",
      "#test_data = vectorizer.transform(test_docs)"
     ],
     "language": "python",
     "metadata": {},
     "outputs": [],
     "prompt_number": 5
    },
    {
     "cell_type": "markdown",
     "metadata": {},
     "source": [
      "# Bernoulli NB"
     ]
    },
    {
     "cell_type": "code",
     "collapsed": false,
     "input": [
      "f1_score_array = []\n",
      "accuracy_array = []\n",
      "projects_precision_array = []\n",
      "noprojects_precision_array = []\n",
      "\n",
      "train_labels = np.hstack((np.ones(1000,int),np.zeros(300,int)))\n",
      "test_labels =  np.hstack((np.ones(300,int),np.zeros(124,int)))\n",
      "\n",
      "for i in np.arange(20,1000,10):\n",
      "    pipeline = Pipeline([        \n",
      "        ('vectorizer',  CountVectorizer(stop_words='english',tokenizer = tokenize, max_features = i)),\n",
      "        ('classifier',  BernoulliNB()) ])\n",
      "    \n",
      "    pipeline.fit(train_docs,train_labels)\n",
      "    predicted_labels = pipeline.predict(test_docs)\n",
      "    cf = confusion_matrix(predicted_labels,test_labels)\n",
      "    f1 = f1_score(test_labels,predicted_labels)\n",
      "    f1_score_array.append(f1)\n",
      "    accuracy_array.append(((cf[0,0] + cf[1,1]) / float(cf[1,0] + cf[1,1] + cf[0,1] + cf[0,0])))\n",
      "    projects_precision_array.append(((cf[1,1]) / float(cf[1,1] + cf[0,1])))\n",
      "    noprojects_precision_array.append(((cf[0,0]) / float(cf[0,0] + cf[1,0])))"
     ],
     "language": "python",
     "metadata": {},
     "outputs": [],
     "prompt_number": 6
    },
    {
     "cell_type": "code",
     "collapsed": false,
     "input": [
      "x_values = np.arange(20,1000,10)\n",
      "plt.plot(x_values,f1_score_array,linestyle='-',marker='.',color='r',label='f1-score')\n",
      "plt.plot(x_values,accuracy_array,linestyle='-',marker='.',color='b',label='accuracy')\n",
      "plt.plot(x_values,projects_precision_array,linestyle='-',marker='.',color='g',label='projects precision')\n",
      "plt.plot(x_values,noprojects_precision_array,linestyle='-',marker='.',color='k',label='noprojects precision')\n",
      "plt.legend()\n",
      "plt.legend(bbox_to_anchor=(1.05, 1), loc=2, borderaxespad=0.)\n",
      "#plt.axis([10,290,0.80,0.90])\n",
      "plt.grid()\n",
      "plt.ylabel(\"Scores\")\n",
      "plt.xlabel(\"Number of features\")"
     ],
     "language": "python",
     "metadata": {},
     "outputs": [
      {
       "metadata": {},
       "output_type": "pyout",
       "prompt_number": 7,
       "text": [
        "<matplotlib.text.Text at 0x7fe55e63df50>"
       ]
      },
      {
       "metadata": {},
       "output_type": "display_data",
       "png": "[encoded data removed]",
       "text": [
        "<matplotlib.figure.Figure at 0x7fe51f4e3f50>"
       ]
      }
     ],
     "prompt_number": 7
    },
    {
     "cell_type": "markdown",
     "metadata": {},
     "source": [
      "## Real usage test"
     ]
    },
    {
     "cell_type": "code",
     "collapsed": false,
     "input": [
      "seeds = pd.read_csv('/home/dbicho/Dropbox/papers/experiments-RDprojects/bing_experiments/preservingR&D/seeds.txt')"
     ],
     "language": "python",
     "metadata": {},
     "outputs": [],
     "prompt_number": 5
    },
    {
     "cell_type": "code",
     "collapsed": false,
     "input": [
      "vectorizer = CountVectorizer(stop_words='english',tokenizer = tokenize, max_features = 800)\n",
      "vectorizer.fit(docs)\n",
      "train_data = vectorizer.transform(train_docs)\n",
      "train_labels = np.hstack((np.ones(1000,int),np.zeros(300,int)))\n",
      "\n",
      "nbb = BernoulliNB()\n",
      "nbb.fit(train_data,train_labels)\n",
      "\n",
      "import urllib2\n",
      "import csv\n",
      "\n",
      "with open('projects_classification.csv','w') as csvfile:\n",
      "    fieldnames = ['acronym','title','foundProjectUrl1','classification']\n",
      "    writer = csv.DictWriter(csvfile, fieldnames=fieldnames)\n",
      "    writer.writeheader()\n",
      "    \n",
      "    # iterate over seeds\n",
      "    for index,row in seeds.iterrows():\n",
      "        try:\n",
      "            url = row['foundProjectUrl1']\n",
      "            u = urllib2.urlopen(url)\n",
      "            data = u.read()\n",
      "            # filter for relevant data\n",
      "            soup = BeautifulSoup(data, 'lxml')\n",
      "            # remove all scrit and style elements\n",
      "            for junk in soup([\"script\", \"style\"]):\n",
      "                junk.extract()\n",
      "            # pageText = soup.find_all('p').getText()\n",
      "            pageText = soup.get_text(separator=' ')\n",
      "            lines = (line.strip() for line in pageText.splitlines())\n",
      "            chunks = (phrase.strip()\n",
      "                      for line in lines for phrase in line.split(\"  \"))            \n",
      "            text = '\\n'.join(chunk for chunk in chunks if chunk)\n",
      "                        \n",
      "            # generate features vector   \n",
      "            toclassify_text = []\n",
      "            #sucess_indexes = []\n",
      "            \n",
      "            toclassify_text.append(text)\n",
      "            #sucess_indexes.append(index)\n",
      "            \n",
      "            toclassify_data = vectorizer.transform(toclassify_text)\n",
      "            predicted_class = nbb.predict(toclassify_data)\n",
      "            \n",
      "                      \n",
      "            writer.writerow({'acronym':row['acronym'],'title':row['title'],'foundProjectUrl1':row['foundProjectUrl1'],\n",
      "                             'classification':predicted_class[0]})\n",
      "        except Exception:        \n",
      "            print 'Unhandled Error'\n",
      "    \n",
      "#b = 0\n",
      "#for i in sucess_indexes:\n",
      "#    print \"project url %s classified as: %s\" % (seeds.ix[int(i)]['foundProjectUrl1'],predicted_class[b])    \n",
      "#    b += 1"
     ],
     "language": "python",
     "metadata": {},
     "outputs": []
    },
    {
     "cell_type": "markdown",
     "metadata": {},
     "source": [
      "# Experimental Tests"
     ]
    },
    {
     "cell_type": "code",
     "collapsed": false,
     "input": [
      "from sklearn.decomposition import PCA\n",
      "from sklearn.pipeline import FeatureUnion\n",
      "from sklearn.feature_selection import SelectKBest\n",
      "from sklearn.feature_selection import chi2\n",
      "\n",
      "vectorizer = TfidfVectorizer(stop_words='english',tokenizer = tokenize)\n",
      "train_data = vectorizer.fit_transform(train_docs)\n",
      "test_data = vectorizer.transform(test_docs)"
     ],
     "language": "python",
     "metadata": {},
     "outputs": [],
     "prompt_number": 235
    },
    {
     "cell_type": "code",
     "collapsed": false,
     "input": [
      "f1_score_array = []\n",
      "accuracy_array = []\n",
      "projects_precision_array = []\n",
      "noprojects_precision_array = []\n",
      "\n",
      "train_labels = np.hstack((np.ones(1000,int),np.zeros(300,int)))\n",
      "test_labels =  np.hstack((np.ones(300,int),np.zeros(124,int)))\n",
      "\n",
      "for i in np.arange(20,1000,10):\n",
      "    pipeline = Pipeline([        \n",
      "        ('feature_selection',  SelectKBest(chi2, k=i)),\n",
      "        ('classifier',  BernoulliNB()) ])\n",
      "    \n",
      "    pipeline.fit(train_data,train_labels)\n",
      "    test_data\n",
      "    predicted_labels = pipeline.predict(test_docs)\n",
      "    cf = confusion_matrix(predicted_labels,test_labels)\n",
      "    f1 = f1_score(test_labels,predicted_labels)\n",
      "    f1_score_array.append(f1)\n",
      "    accuracy_array.append(((cf[0,0] + cf[1,1]) / float(cf[1,0] + cf[1,1] + cf[0,1] + cf[0,0])))\n",
      "    projects_precision_array.append(((cf[1,1]) / float(cf[1,1] + cf[0,1])))\n",
      "    noprojects_precision_array.append(((cf[0,0]) / float(cf[0,0] + cf[1,0])))"
     ],
     "language": "python",
     "metadata": {},
     "outputs": []
    },
    {
     "cell_type": "code",
     "collapsed": false,
     "input": [
      "x_values = np.arange(20,1000,10)\n",
      "plt.plot(x_values,f1_score_array,linestyle='-',marker='.',color='r',label='f1-score')\n",
      "plt.plot(x_values,accuracy_array,linestyle='-',marker='.',color='b',label='accuracy')\n",
      "plt.plot(x_values,projects_precision_array,linestyle='-',marker='.',color='g',label='projects precision')\n",
      "plt.plot(x_values,noprojects_precision_array,linestyle='-',marker='.',color='k',label='noprojects precision')\n",
      "plt.legend()\n",
      "plt.legend(bbox_to_anchor=(1.05, 1), loc=2, borderaxespad=0.)\n",
      "#plt.axis([10,290,0.80,0.90])\n",
      "plt.grid()\n",
      "plt.ylabel(\"Scores\")\n",
      "plt.xlabel(\"Number of features\")"
     ],
     "language": "python",
     "metadata": {},
     "outputs": []
    },
    {
     "cell_type": "code",
     "collapsed": false,
     "input": [
      "#pca = PCA()\n",
      "#train_data = pca.fit_transform(train_data.todense())\n",
      "#test_data = pca.transform(test_data.todense())"
     ],
     "language": "python",
     "metadata": {},
     "outputs": [],
     "prompt_number": 239
    },
    {
     "cell_type": "code",
     "collapsed": false,
     "input": [
      "#chi2 = SelectKBest(chi2, k=800)\n",
      "#train_data = chi2.fit_transform(train_data, train_labels)\n",
      "#test_data = chi2.transform(test_data)"
     ],
     "language": "python",
     "metadata": {},
     "outputs": [],
     "prompt_number": 229
    },
    {
     "cell_type": "code",
     "collapsed": false,
     "input": [
      "nbb = BernoulliNB()\n",
      "nbb.fit(train_data, train_labels)\n",
      "predicted_labels = nbb.predict(test_data)"
     ],
     "language": "python",
     "metadata": {},
     "outputs": [],
     "prompt_number": 240
    },
    {
     "cell_type": "code",
     "collapsed": false,
     "input": [
      "cf = confusion_matrix(predicted_labels,test_labels)\n",
      "print cf\n",
      "print \"Erro Total: %0.2f\" % ((cf[0,1] + cf[1,0]) / float(cf[1,0] + cf[1,1] + cf[0,1] + cf[0,0]))\n",
      "print \"Precision Projects: %0.2f\" % ((cf[1,1]) / float(cf[1,1] + cf[0,1]))\n",
      "print \"Precision NoProjects: %0.2f\" % ((cf[0,0]) / float(cf[0,0] + cf[1,0]))\n",
      "print \"Accuracy: %0.2f:\" % ((cf[0,0] + cf[1,1]) / float(cf[1,0] + cf[1,1] + cf[0,1] + cf[0,0]))\n",
      "print \"F1-Score %0.2f:\" % (f1_score(test_labels,predicted_labels))"
     ],
     "language": "python",
     "metadata": {},
     "outputs": [
      {
       "output_type": "stream",
       "stream": "stdout",
       "text": [
        "[[ 54  24]\n",
        " [ 70 276]]\n",
        "Erro Total: 0.22\n",
        "Precision Projects: 0.92\n",
        "Precision NoProjects: 0.44\n",
        "Accuracy: 0.78:\n",
        "F1-Score 0.85:\n"
       ]
      }
     ],
     "prompt_number": 241
    },
    {
     "cell_type": "code",
     "collapsed": false,
     "input": [
      "from sklearn.ensemble import RandomForestClassifier \n",
      "\n",
      "forest = RandomForestClassifier(n_estimators = 100)\n",
      "\n",
      "forest = forest.fit(train_data,train_labels)\n",
      "\n",
      "predicted_labels = forest.predict(test_data)\n",
      "cf = confusion_matrix(predicted_labels,test_labels)\n",
      "print cf\n",
      "print \"Erro Total: %0.2f\" % ((cf[0,1] + cf[1,0]) / float(cf[1,0] + cf[1,1] + cf[0,1] + cf[0,0]))\n",
      "print \"Precision Projects: %0.2f\" % ((cf[1,1]) / float(cf[1,1] + cf[0,1]))\n",
      "print \"Precision NoProjects: %0.2f\" % ((cf[0,0]) / float(cf[0,0] + cf[1,0]))\n",
      "print \"Accuracy: %0.2f:\" % ((cf[0,0] + cf[1,1]) / float(cf[1,0] + cf[1,1] + cf[0,1] + cf[0,0]))\n",
      "print \"F1-Score %0.2f:\" % (f1_score(test_labels,predicted_labels))"
     ],
     "language": "python",
     "metadata": {},
     "outputs": [
      {
       "output_type": "stream",
       "stream": "stdout",
       "text": [
        "[[ 32   5]\n",
        " [ 92 295]]\n",
        "Erro Total: 0.23\n",
        "Precision Projects: 0.98\n",
        "Precision NoProjects: 0.26\n",
        "Accuracy: 0.77:\n",
        "F1-Score 0.86:\n"
       ]
      }
     ],
     "prompt_number": 242
    },
    {
     "cell_type": "code",
     "collapsed": false,
     "input": [
      "# Train Classifier\n",
      "neigh = KNeighborsClassifier(n_neighbors=10)\n",
      "\n",
      "train_labels = np.hstack((np.ones(1000,int),np.zeros(300,int)))\n",
      "test_labels =  np.hstack((np.ones(300,int),np.zeros(124,int)))\n",
      "\n",
      "neigh.fit(train_data, train_labels)\n",
      "predicted_labels = neigh.predict(test_data)"
     ],
     "language": "python",
     "metadata": {},
     "outputs": [],
     "prompt_number": 244
    },
    {
     "cell_type": "code",
     "collapsed": false,
     "input": [
      "cf = confusion_matrix(predicted_labels,test_labels)\n",
      "print cf\n",
      "print \"Erro Total: %0.2f\" % ((cf[0,1] + cf[1,0]) / float(cf[1,0] + cf[1,1] + cf[0,1] + cf[0,0]))\n",
      "print \"Precision Projects: %0.2f\" % ((cf[1,1]) / float(cf[1,1] + cf[0,1]))\n",
      "print \"Precision NoProjects: %0.2f\" % ((cf[0,0]) / float(cf[0,0] + cf[1,0]))\n",
      "print \"Accuracy: %0.2f:\" % ((cf[0,0] + cf[1,1]) / float(cf[1,0] + cf[1,1] + cf[0,1] + cf[0,0]))\n",
      "print \"F1-Score %0.2f:\" % (f1_score(test_labels,predicted_labels))"
     ],
     "language": "python",
     "metadata": {},
     "outputs": [
      {
       "output_type": "stream",
       "stream": "stdout",
       "text": [
        "[[ 52  37]\n",
        " [ 72 263]]\n",
        "Erro Total: 0.26\n",
        "Precision Projects: 0.88\n",
        "Precision NoProjects: 0.42\n",
        "Accuracy: 0.74:\n",
        "F1-Score 0.83:\n"
       ]
      }
     ],
     "prompt_number": 245
    },
    {
     "cell_type": "code",
     "collapsed": false,
     "input": [],
     "language": "python",
     "metadata": {},
     "outputs": []
    }
   ],
   "metadata": {}
  }
 ]
}