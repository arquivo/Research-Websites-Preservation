{
 "metadata": {
  "name": "",
  "signature": "sha256:d3e96fe83c827d9af8368b28f1b1ae4f7626f73794e96a155a81d1c9e8b5905d"
 },
 "nbformat": 3,
 "nbformat_minor": 0,
 "worksheets": [
  {
   "cells": [
    {
     "cell_type": "code",
     "collapsed": false,
     "input": [
      "import re\n",
      "import numpy as np\n",
      "import matplotlib.pyplot as plt\n",
      "\n",
      "from sklearn import metrics\n",
      "from sklearn.metrics import classification_report\n",
      "from sklearn.metrics import confusion_matrix\n",
      "from sklearn.feature_extraction.text import CountVectorizer\n",
      "from sklearn.pipeline import Pipeline\n",
      "from sklearn.feature_extraction.text import TfidfVectorizer\n",
      "from sklearn.naive_bayes import MultinomialNB\n",
      "from sklearn.naive_bayes import BernoulliNB\n",
      "\n",
      "from collections import Counter\n",
      "from stemming.porter2 import stem\n",
      "import numpy.linalg as la\n",
      "from mpl_toolkits.mplot3d import Axes3D\n",
      "%matplotlib inline"
     ],
     "language": "python",
     "metadata": {},
     "outputs": [],
     "prompt_number": 22
    },
    {
     "cell_type": "markdown",
     "metadata": {},
     "source": [
      "## Constru\u00e7\u00e3o do corpo dos emails"
     ]
    },
    {
     "cell_type": "code",
     "collapsed": false,
     "input": [
      "# data set files are encoded with iso 8859-15 \n",
      "emails_subject_ham = []\n",
      "emails_body_ham = []\n",
      "\n",
      "emails_subject_spam = []\n",
      "emails_body_spam = []\n",
      "\n",
      "with open('emailHAMTreino.txt','r') as file:\n",
      "\n",
      "    for line in file:\n",
      "        subject = re.match('^subject:(.*)$',line)\n",
      "        body = re.match('^body:(.*)$',line)   \n",
      "        if subject:\n",
      "            emails_subject_ham.append(subject.groups(1)[0])\n",
      "        elif body:\n",
      "            emails_body_ham.append(body.groups(1)[0])\n",
      "\n",
      "with open('emailSPAMTreino.txt','r') as file:\n",
      "\n",
      "    for line in file:\n",
      "        subject = re.match('^subject:(.*)$',line)\n",
      "        body = re.match('^body:(.*)$',line)   \n",
      "        if subject:\n",
      "            emails_subject_spam.append(subject.groups(1)[0])\n",
      "        elif body:\n",
      "            emails_body_spam.append(body.groups(1)[0])\n",
      "\n",
      "\n",
      "# sanity check\n",
      "try:\n",
      "    if len(emails_subject_ham) != len(emails_body_ham):\n",
      "        raise Exception \n",
      "    if len(emails_subject_spam) != len(emails_body_spam):\n",
      "        raise Exception    \n",
      "except:\n",
      "    print \"Number of subjects dont match number of bodys\"\n",
      "    exit(3)\n",
      "    \n",
      "# generate documents with fields subject + body       \n",
      "documents_ham = []\n",
      "documents_spam = []\n",
      "\n",
      "for i in range(len(emails_subject_ham)):\n",
      "    documents_ham.append(emails_subject_ham[i] + emails_body_ham[i])\n",
      "    \n",
      "for i in range(len(emails_subject_spam)):\n",
      "    documents_spam.append(emails_subject_spam[i] + emails_body_spam[i])   \n",
      "    \n",
      "documents = np.hstack((documents_ham,documents_spam))"
     ],
     "language": "python",
     "metadata": {},
     "outputs": [],
     "prompt_number": 5
    },
    {
     "cell_type": "markdown",
     "metadata": {},
     "source": [
      "## Constru\u00e7\u00e3o do Dicion\u00e1rio"
     ]
    },
    {
     "cell_type": "code",
     "collapsed": false,
     "input": [
      "def tokenize(text):\n",
      "    words = re.sub(r'[\\W_]', ' ', text).lower().split()\n",
      "    word_stem = []\n",
      "    for w in words:\n",
      "        word_stem.append(stem(w))\n",
      "    return word_stem "
     ],
     "language": "python",
     "metadata": {},
     "outputs": [],
     "prompt_number": 6
    },
    {
     "cell_type": "code",
     "collapsed": false,
     "input": [
      "# tokenize documents\n",
      "vocabulary_ham = list()\n",
      "vocabulary_spam = list()\n",
      "\n",
      "for document in documents_ham:\n",
      "    vocabulary_ham.extend(tokenize(document))\n",
      "for document in documents_spam:\n",
      "    vocabulary_spam.extend(tokenize(document))"
     ],
     "language": "python",
     "metadata": {},
     "outputs": [],
     "prompt_number": 8
    },
    {
     "cell_type": "code",
     "collapsed": false,
     "input": [
      "# Counters for each class and one with both\n",
      "counts_ham = Counter(vocabulary_ham)    \n",
      "counts_spam = Counter(vocabulary_spam) \n",
      "\n",
      "# Filter by word lengh and by number of ocurrences\n",
      "for word in list(counts_ham):\n",
      "    # mininum character size 3 and maximum character size 15\n",
      "    if len(word) < 3 or len(word) > 15:\n",
      "        del counts_ham[word]\n",
      "    # mininum number of ocurrenecs 5   \n",
      "    if counts_ham[word] < 5:\n",
      "        del counts_ham[word]\n",
      "        \n",
      "for word in list(counts_spam):\n",
      "    # mininum character size 3 and maximum character size 15\n",
      "    if len(word) < 3 or len(word) > 15:\n",
      "        del counts_spam[word]\n",
      "    # mininum number of ocurrenecs 5   \n",
      "    if counts_spam[word] < 5:\n",
      "        del counts_spam[word]"
     ],
     "language": "python",
     "metadata": {},
     "outputs": [],
     "prompt_number": 9
    },
    {
     "cell_type": "code",
     "collapsed": false,
     "input": [
      "# add the two Counters toghether\n",
      "counts = counts_ham + counts_spam\n",
      "Vocabulary = counts.keys()"
     ],
     "language": "python",
     "metadata": {},
     "outputs": [],
     "prompt_number": 18
    },
    {
     "cell_type": "code",
     "collapsed": false,
     "input": [
      "def get_test_data():\n",
      "    ham_emails_subject_test = []\n",
      "    ham_emails_body_test = []\n",
      "    with open('emailHAMTeste.txt','r') as file:\n",
      "        for line in file:\n",
      "            subject = re.match('^subject:(.*)$',line)\n",
      "            body = re.match('^body:(.*)$',line)   \n",
      "            if subject:\n",
      "                ham_emails_subject_test.append(subject.groups(1)[0])\n",
      "            elif body:\n",
      "                ham_emails_body_test.append(body.groups(1)[0])\n",
      "\n",
      "    spam_emails_subject_test = []\n",
      "    spam_emails_body_test = []           \n",
      "    with open('emailSPAMTeste.txt','r') as file:\n",
      "        for line in file:\n",
      "            subject = re.match('^subject:(.*)$',line)\n",
      "            body = re.match('^body:(.*)$',line)   \n",
      "            if subject:\n",
      "                spam_emails_subject_test.append(subject.groups(1)[0])\n",
      "            elif body:\n",
      "                spam_emails_body_test.append(body.groups(1)[0])\n",
      "\n",
      "\n",
      "    test_documents = []\n",
      "    for i in range(len(ham_emails_subject_test)):\n",
      "        test_documents.append(ham_emails_subject_test[i] + ham_emails_body_test[i])\n",
      "    for i in range(len(spam_emails_subject_test)):\n",
      "        test_documents.append(spam_emails_subject_test[i] + spam_emails_body_test[i])\n",
      "    return test_documents"
     ],
     "language": "python",
     "metadata": {},
     "outputs": [],
     "prompt_number": 15
    },
    {
     "cell_type": "markdown",
     "metadata": {},
     "source": [
      "## Word Entropy"
     ]
    },
    {
     "cell_type": "code",
     "collapsed": false,
     "input": [
      "def calculate_word_entropy(documents_ham, documents_spam, Vocabulary):\n",
      "\n",
      "    cv = CountVectorizer(tokenizer=tokenize, vocabulary = Vocabulary, encoding=\"iso 8859-15\")\n",
      "    ham_vectors = cv.fit_transform(documents_ham)\n",
      "    spam_vectors = cv.fit_transform(documents_spam)\n",
      "    ham_count_docs_with_word = np.zeros(len(Vocabulary))\n",
      "    spam_count_docs_with_word = np.zeros(len(Vocabulary))\n",
      "    for vector in ham_vectors:\n",
      "        for feature in vector.nonzero()[1]:\n",
      "            ham_count_docs_with_word[feature] += 1\n",
      "\n",
      "    for vector in spam_vectors:\n",
      "        for feature in vector.nonzero()[1]:\n",
      "            spam_count_docs_with_word[feature] += 1\n",
      "\n",
      "    ProbClassHAM = []\n",
      "    ProbClassSPAM = []\n",
      "    word_entropy = []\n",
      "    feature_id = cv.get_feature_names()\n",
      "    for word in Vocabulary:\n",
      "            id = feature_id.index(word)\n",
      "            ProbClassHAM.append(ham_count_docs_with_word[id] / float(ham_count_docs_with_word[id] + spam_count_docs_with_word[id]))\n",
      "            ProbClassSPAM.append(spam_count_docs_with_word[id] / float(ham_count_docs_with_word[id] + spam_count_docs_with_word[id]))\n",
      "            ham_term = -ProbClassHAM[id] * np.log2(ProbClassHAM[id]) if ProbClassHAM[id] > 0 else 0\n",
      "            spam_term = -ProbClassSPAM[id] * np.log2(ProbClassSPAM[id]) if ProbClassSPAM[id] > 0 else 0\n",
      "            word_entropy.append(ham_term + spam_term)\n",
      "            \n",
      "    # sanity check\n",
      "    for i in range(len(ProbClassHAM)):\n",
      "        if (ProbClassHAM[i] + ProbClassSPAM[i]) != 1:\n",
      "            print \"ERROR\" \n",
      "    word_entropy_sorted = np.argsort(word_entropy)\n",
      "    return word_entropy_sorted"
     ],
     "language": "python",
     "metadata": {},
     "outputs": [],
     "prompt_number": 19
    },
    {
     "cell_type": "code",
     "collapsed": false,
     "input": [
      "word_entropy_sorted = calculate_word_entropy(documents_ham, documents_spam, Vocabulary)"
     ],
     "language": "python",
     "metadata": {},
     "outputs": [],
     "prompt_number": 20
    },
    {
     "cell_type": "code",
     "collapsed": false,
     "input": [
      "test_documents = get_test_data()"
     ],
     "language": "python",
     "metadata": {},
     "outputs": [],
     "prompt_number": 21
    },
    {
     "cell_type": "code",
     "collapsed": false,
     "input": [
      "# generate train labels\n",
      "train_labels = np.hstack((np.zeros(301,int),np.ones(300,int)))\n",
      "train_labels = np.ravel(train_labels.reshape(1, -1).T)\n",
      "\n",
      "# generate test labels\n",
      "test_labels = np.hstack((np.zeros(100,int),np.ones(93,int)))\n",
      "test_labels = test_labels.reshape(1, -1).T"
     ],
     "language": "python",
     "metadata": {},
     "outputs": [],
     "prompt_number": 32
    },
    {
     "cell_type": "markdown",
     "metadata": {},
     "source": [
      "# Binomial Naive Bayes"
     ]
    },
    {
     "cell_type": "code",
     "collapsed": false,
     "input": [
      "array_confusion_matrix_bnb = []\n",
      "f1_score_bnb = []\n",
      "precision_bnb = []\n",
      "recall_bnb = []\n",
      "\n",
      "for i in np.arange(100,2500,100):\n",
      "    pipeline = Pipeline([\n",
      "        ('vectorizer',  CountVectorizer(tokenizer=tokenize, vocabulary = np.asarray(Vocabulary)[word_entropy_sorted][:i], encoding=\"iso 8859-15\")),\n",
      "        ('classifier',  BernoulliNB()) ])\n",
      "    \n",
      "    pipeline.fit(documents,train_labels)\n",
      "    predictions = pipeline.predict(test_documents)\n",
      "    \n",
      "    precision_value, recall_value, thresholds = metrics.precision_recall_curve(test_labels, predictions, pos_label=1)\n",
      "    score = metrics.f1_score(test_labels, predictions, pos_label=1)\n",
      "    f1_score_bnb.append(score)\n",
      "    precision_bnb.append(precision_value)\n",
      "    recall_bnb.append(recall_value)\n",
      "    \n",
      "    cf = confusion_matrix(test_labels, predictions)\n",
      "    array_confusion_matrix_bnb.append(cf)    \n",
      "    \n",
      "    \n",
      "    print(\"Multinomial naive bayes F1-Score: {0}\".format(score))        "
     ],
     "language": "python",
     "metadata": {},
     "outputs": [
      {
       "output_type": "stream",
       "stream": "stdout",
       "text": [
        "Multinomial naive bayes F1-Score: 0.771929824561\n",
        "Multinomial naive bayes F1-Score: 0.849056603774"
       ]
      },
      {
       "output_type": "stream",
       "stream": "stdout",
       "text": [
        "\n",
        "Multinomial naive bayes F1-Score: 0.840182648402"
       ]
      },
      {
       "output_type": "stream",
       "stream": "stdout",
       "text": [
        "\n",
        "Multinomial naive bayes F1-Score: 0.83257918552"
       ]
      },
      {
       "output_type": "stream",
       "stream": "stdout",
       "text": [
        "\n",
        "Multinomial naive bayes F1-Score: 0.840182648402"
       ]
      },
      {
       "output_type": "stream",
       "stream": "stdout",
       "text": [
        "\n",
        "Multinomial naive bayes F1-Score: 0.858490566038"
       ]
      },
      {
       "output_type": "stream",
       "stream": "stdout",
       "text": [
        "\n",
        "Multinomial naive bayes F1-Score: 0.863849765258"
       ]
      },
      {
       "output_type": "stream",
       "stream": "stdout",
       "text": [
        "\n",
        "Multinomial naive bayes F1-Score: 0.863849765258"
       ]
      },
      {
       "output_type": "stream",
       "stream": "stdout",
       "text": [
        "\n",
        "Multinomial naive bayes F1-Score: 0.872037914692"
       ]
      },
      {
       "output_type": "stream",
       "stream": "stdout",
       "text": [
        "\n",
        "Multinomial naive bayes F1-Score: 0.872037914692"
       ]
      },
      {
       "output_type": "stream",
       "stream": "stdout",
       "text": [
        "\n",
        "Multinomial naive bayes F1-Score: 0.89756097561"
       ]
      },
      {
       "output_type": "stream",
       "stream": "stdout",
       "text": [
        "\n",
        "Multinomial naive bayes F1-Score: 0.888888888889"
       ]
      },
      {
       "output_type": "stream",
       "stream": "stdout",
       "text": [
        "\n",
        "Multinomial naive bayes F1-Score: 0.893203883495"
       ]
      },
      {
       "output_type": "stream",
       "stream": "stdout",
       "text": [
        "\n",
        "Multinomial naive bayes F1-Score: 0.910891089109"
       ]
      },
      {
       "output_type": "stream",
       "stream": "stdout",
       "text": [
        "\n",
        "Multinomial naive bayes F1-Score: 0.907317073171"
       ]
      },
      {
       "output_type": "stream",
       "stream": "stdout",
       "text": [
        "\n",
        "Multinomial naive bayes F1-Score: 0.925373134328"
       ]
      },
      {
       "output_type": "stream",
       "stream": "stdout",
       "text": [
        "\n",
        "Multinomial naive bayes F1-Score: 0.925373134328"
       ]
      },
      {
       "output_type": "stream",
       "stream": "stdout",
       "text": [
        "\n",
        "Multinomial naive bayes F1-Score: 0.925373134328"
       ]
      },
      {
       "output_type": "stream",
       "stream": "stdout",
       "text": [
        "\n",
        "Multinomial naive bayes F1-Score: 0.93"
       ]
      },
      {
       "output_type": "stream",
       "stream": "stdout",
       "text": [
        "\n",
        "Multinomial naive bayes F1-Score: 0.93"
       ]
      },
      {
       "output_type": "stream",
       "stream": "stdout",
       "text": [
        "\n",
        "Multinomial naive bayes F1-Score: 0.93"
       ]
      },
      {
       "output_type": "stream",
       "stream": "stdout",
       "text": [
        "\n",
        "Multinomial naive bayes F1-Score: 0.93"
       ]
      },
      {
       "output_type": "stream",
       "stream": "stdout",
       "text": [
        "\n",
        "Multinomial naive bayes F1-Score: 0.934673366834"
       ]
      },
      {
       "output_type": "stream",
       "stream": "stdout",
       "text": [
        "\n",
        "Multinomial naive bayes F1-Score: 0.93"
       ]
      },
      {
       "output_type": "stream",
       "stream": "stdout",
       "text": [
        "\n"
       ]
      }
     ],
     "prompt_number": 31
    },
    {
     "cell_type": "markdown",
     "metadata": {},
     "source": [
      "# Multinomial Naive Bayes (TF)"
     ]
    },
    {
     "cell_type": "code",
     "collapsed": false,
     "input": [
      "array_confusion_matrix_mnb_tf = []\n",
      "f1_score_mnb_tf = []\n",
      "precision_mnb_tf = []\n",
      "recall_mnb_tf = []\n",
      "\n",
      "for i in np.arange(100,2500,100):\n",
      "    pipeline = Pipeline([\n",
      "        ('vectorizer',  CountVectorizer(tokenizer=tokenize, vocabulary = np.asarray(Vocabulary)[word_entropy_sorted][:i], encoding=\"iso 8859-15\")),\n",
      "        ('classifier',  MultinomialNB()) ])\n",
      "    \n",
      "    pipeline.fit(documents,train_labels)\n",
      "    predictions = pipeline.predict(test_documents)\n",
      "    \n",
      "    precision_value, recall_value, thresholds = metrics.precision_recall_curve(test_labels, predictions, pos_label=1)\n",
      "    score = metrics.f1_score(test_labels, predictions, pos_label=1)\n",
      "    f1_score_mnb_tf.append(score)\n",
      "    precision_mnb_tf.append(precision_value)\n",
      "    recall_mnb_tf.append(recall_value)\n",
      "    \n",
      "    cf = confusion_matrix(test_labels, predictions)\n",
      "    array_confusion_matrix_mnb_tf.append(cf)    \n",
      "    \n",
      "    \n",
      "    print(\"Multinomial naive bayes F1-Score: {0}\".format(score))    "
     ],
     "language": "python",
     "metadata": {},
     "outputs": [
      {
       "output_type": "stream",
       "stream": "stdout",
       "text": [
        "Multinomial naive bayes F1-Score: 0.192307692308\n",
        "Multinomial naive bayes F1-Score: 0.285714285714"
       ]
      },
      {
       "output_type": "stream",
       "stream": "stdout",
       "text": [
        "\n",
        "Multinomial naive bayes F1-Score: 0.362068965517"
       ]
      },
      {
       "output_type": "stream",
       "stream": "stdout",
       "text": [
        "\n",
        "Multinomial naive bayes F1-Score: 0.46511627907"
       ]
      },
      {
       "output_type": "stream",
       "stream": "stdout",
       "text": [
        "\n",
        "Multinomial naive bayes F1-Score: 0.537313432836"
       ]
      },
      {
       "output_type": "stream",
       "stream": "stdout",
       "text": [
        "\n",
        "Multinomial naive bayes F1-Score: 0.63829787234"
       ]
      },
      {
       "output_type": "stream",
       "stream": "stdout",
       "text": [
        "\n",
        "Multinomial naive bayes F1-Score: 0.652777777778"
       ]
      },
      {
       "output_type": "stream",
       "stream": "stdout",
       "text": [
        "\n",
        "Multinomial naive bayes F1-Score: 0.643356643357"
       ]
      },
      {
       "output_type": "stream",
       "stream": "stdout",
       "text": [
        "\n",
        "Multinomial naive bayes F1-Score: 0.652777777778"
       ]
      },
      {
       "output_type": "stream",
       "stream": "stdout",
       "text": [
        "\n",
        "Multinomial naive bayes F1-Score: 0.784810126582"
       ]
      },
      {
       "output_type": "stream",
       "stream": "stdout",
       "text": [
        "\n",
        "Multinomial naive bayes F1-Score: 0.905027932961"
       ]
      },
      {
       "output_type": "stream",
       "stream": "stdout",
       "text": [
        "\n",
        "Multinomial naive bayes F1-Score: 0.910112359551"
       ]
      },
      {
       "output_type": "stream",
       "stream": "stdout",
       "text": [
        "\n",
        "Multinomial naive bayes F1-Score: 0.934065934066"
       ]
      },
      {
       "output_type": "stream",
       "stream": "stdout",
       "text": [
        "\n",
        "Multinomial naive bayes F1-Score: 0.945054945055"
       ]
      },
      {
       "output_type": "stream",
       "stream": "stdout",
       "text": [
        "\n",
        "Multinomial naive bayes F1-Score: 0.950819672131"
       ]
      },
      {
       "output_type": "stream",
       "stream": "stdout",
       "text": [
        "\n",
        "Multinomial naive bayes F1-Score: 0.973262032086"
       ]
      },
      {
       "output_type": "stream",
       "stream": "stdout",
       "text": [
        "\n",
        "Multinomial naive bayes F1-Score: 0.973262032086"
       ]
      },
      {
       "output_type": "stream",
       "stream": "stdout",
       "text": [
        "\n",
        "Multinomial naive bayes F1-Score: 0.973544973545"
       ]
      },
      {
       "output_type": "stream",
       "stream": "stdout",
       "text": [
        "\n",
        "Multinomial naive bayes F1-Score: 0.973262032086"
       ]
      },
      {
       "output_type": "stream",
       "stream": "stdout",
       "text": [
        "\n",
        "Multinomial naive bayes F1-Score: 0.973262032086"
       ]
      },
      {
       "output_type": "stream",
       "stream": "stdout",
       "text": [
        "\n",
        "Multinomial naive bayes F1-Score: 0.973262032086"
       ]
      },
      {
       "output_type": "stream",
       "stream": "stdout",
       "text": [
        "\n",
        "Multinomial naive bayes F1-Score: 0.973262032086"
       ]
      },
      {
       "output_type": "stream",
       "stream": "stdout",
       "text": [
        "\n",
        "Multinomial naive bayes F1-Score: 0.973262032086"
       ]
      },
      {
       "output_type": "stream",
       "stream": "stdout",
       "text": [
        "\n",
        "Multinomial naive bayes F1-Score: 0.973262032086"
       ]
      },
      {
       "output_type": "stream",
       "stream": "stdout",
       "text": [
        "\n"
       ]
      }
     ],
     "prompt_number": 33
    },
    {
     "cell_type": "markdown",
     "metadata": {},
     "source": [
      "# Multinomial Naive Bayes (TF-IDF)"
     ]
    },
    {
     "cell_type": "code",
     "collapsed": false,
     "input": [
      "array_confusion_matrix_mnb_tfidf = []\n",
      "f1_score_mnb_tfidf = []\n",
      "precision_mnb_tfidf = []\n",
      "recall_mnb_tfidf = []\n",
      "\n",
      "for i in np.arange(100,2500,100):\n",
      "    pipeline = Pipeline([\n",
      "        ('vectorizer',  TfidfVectorizer(tokenizer=tokenize, vocabulary = np.asarray(Vocabulary)[word_entropy_sorted][:i], encoding=\"iso 8859-15\")),\n",
      "        ('classifier',  MultinomialNB()) ])\n",
      "    \n",
      "    pipeline.fit(documents,train_labels)\n",
      "    predictions = pipeline.predict(test_documents)\n",
      "    \n",
      "    precision_value, recall_value, thresholds = metrics.precision_recall_curve(test_labels, predictions, pos_label=1)\n",
      "    score = metrics.f1_score(test_labels, predictions, pos_label=1)\n",
      "    f1_score_mnb_tfidf.append(score)\n",
      "    precision_mnb_tfidf.append(precision_value)\n",
      "    precision_mnb_tfidf.append(recall_value)\n",
      "    \n",
      "    cf = confusion_matrix(test_labels, predictions)\n",
      "    array_confusion_matrix_mnb_tfidf.append(cf)    \n",
      "    \n",
      "    \n",
      "    print(\"Multinomial naive bayes F1-Score: {0}\".format(score))   "
     ],
     "language": "python",
     "metadata": {},
     "outputs": [
      {
       "output_type": "stream",
       "stream": "stdout",
       "text": [
        "Multinomial naive bayes F1-Score: 0.18691588785\n",
        "Multinomial naive bayes F1-Score: 0.283185840708"
       ]
      },
      {
       "output_type": "stream",
       "stream": "stdout",
       "text": [
        "\n",
        "Multinomial naive bayes F1-Score: 0.358974358974"
       ]
      },
      {
       "output_type": "stream",
       "stream": "stdout",
       "text": [
        "\n",
        "Multinomial naive bayes F1-Score: 0.46875"
       ]
      },
      {
       "output_type": "stream",
       "stream": "stdout",
       "text": [
        "\n",
        "Multinomial naive bayes F1-Score: 0.545454545455"
       ]
      },
      {
       "output_type": "stream",
       "stream": "stdout",
       "text": [
        "\n",
        "Multinomial naive bayes F1-Score: 0.63829787234"
       ]
      },
      {
       "output_type": "stream",
       "stream": "stdout",
       "text": [
        "\n",
        "Multinomial naive bayes F1-Score: 0.652777777778"
       ]
      },
      {
       "output_type": "stream",
       "stream": "stdout",
       "text": [
        "\n",
        "Multinomial naive bayes F1-Score: 0.652777777778"
       ]
      },
      {
       "output_type": "stream",
       "stream": "stdout",
       "text": [
        "\n",
        "Multinomial naive bayes F1-Score: 0.652777777778"
       ]
      },
      {
       "output_type": "stream",
       "stream": "stdout",
       "text": [
        "\n",
        "Multinomial naive bayes F1-Score: 0.789808917197"
       ]
      },
      {
       "output_type": "stream",
       "stream": "stdout",
       "text": [
        "\n",
        "Multinomial naive bayes F1-Score: 0.921348314607"
       ]
      },
      {
       "output_type": "stream",
       "stream": "stdout",
       "text": [
        "\n",
        "Multinomial naive bayes F1-Score: 0.939226519337"
       ]
      },
      {
       "output_type": "stream",
       "stream": "stdout",
       "text": [
        "\n",
        "Multinomial naive bayes F1-Score: 0.956043956044"
       ]
      },
      {
       "output_type": "stream",
       "stream": "stdout",
       "text": [
        "\n",
        "Multinomial naive bayes F1-Score: 0.96174863388"
       ]
      },
      {
       "output_type": "stream",
       "stream": "stdout",
       "text": [
        "\n",
        "Multinomial naive bayes F1-Score: 0.96174863388"
       ]
      },
      {
       "output_type": "stream",
       "stream": "stdout",
       "text": [
        "\n",
        "Multinomial naive bayes F1-Score: 0.973262032086"
       ]
      },
      {
       "output_type": "stream",
       "stream": "stdout",
       "text": [
        "\n",
        "Multinomial naive bayes F1-Score: 0.962962962963"
       ]
      },
      {
       "output_type": "stream",
       "stream": "stdout",
       "text": [
        "\n",
        "Multinomial naive bayes F1-Score: 0.957894736842"
       ]
      },
      {
       "output_type": "stream",
       "stream": "stdout",
       "text": [
        "\n",
        "Multinomial naive bayes F1-Score: 0.96256684492"
       ]
      },
      {
       "output_type": "stream",
       "stream": "stdout",
       "text": [
        "\n",
        "Multinomial naive bayes F1-Score: 0.967741935484"
       ]
      },
      {
       "output_type": "stream",
       "stream": "stdout",
       "text": [
        "\n",
        "Multinomial naive bayes F1-Score: 0.967741935484"
       ]
      },
      {
       "output_type": "stream",
       "stream": "stdout",
       "text": [
        "\n",
        "Multinomial naive bayes F1-Score: 0.973262032086"
       ]
      },
      {
       "output_type": "stream",
       "stream": "stdout",
       "text": [
        "\n",
        "Multinomial naive bayes F1-Score: 0.968085106383"
       ]
      },
      {
       "output_type": "stream",
       "stream": "stdout",
       "text": [
        "\n",
        "Multinomial naive bayes F1-Score: 0.968421052632"
       ]
      },
      {
       "output_type": "stream",
       "stream": "stdout",
       "text": [
        "\n"
       ]
      }
     ],
     "prompt_number": 34
    },
    {
     "cell_type": "code",
     "collapsed": false,
     "input": [
      "x = np.arange(100,2500,100)\n",
      "plt.plot(x,f1_score_bnb,marker='o',linestyle='-',color='r',label='Binomial NB')\n",
      "plt.plot(x,f1_score_mnb_tf,marker='^',linestyle='-',color='g',label='Multinomial NB (TF)')\n",
      "plt.plot(x,f1_score_mnb_tfidf,marker='v',linestyle='-',color='b',label='Multinomial NB (TF-IDF)')\n",
      "\n",
      "plt.xlabel(\"Numero de palavras do vocabulario\")\n",
      "plt.ylabel(\"F1-Score\")\n",
      "plt.grid()\n",
      "plt.xticks(x, rotation='vertical')\n",
      "plt.legend()\n",
      "plt.legend(bbox_to_anchor=(1.05, 1), loc=2, borderaxespad=0.)\n",
      "plt.xlim((100,2401))"
     ],
     "language": "python",
     "metadata": {},
     "outputs": [
      {
       "metadata": {},
       "output_type": "pyout",
       "prompt_number": 38,
       "text": [
        "(100, 2401)"
       ]
      },
      {
       "metadata": {},
       "output_type": "display_data",
       "png": "[encoded data removed]",
       "text": [
        "<matplotlib.figure.Figure at 0xf6de1d0>"
       ]
      }
     ],
     "prompt_number": 38
    },
    {
     "cell_type": "code",
     "collapsed": false,
     "input": [
      "print \"Binomial %0.4f\" % max(f1_score_bnb)\n",
      "print \"Multinomial TF %0.4f\" % max(f1_score_mnb_tf)\n",
      "print \"Multinomial TFIDF %0.4f\" % max(f1_score_mnb_tfidf)"
     ],
     "language": "python",
     "metadata": {},
     "outputs": [
      {
       "output_type": "stream",
       "stream": "stdout",
       "text": [
        "Binomial 0.9347\n",
        "Multinomial TF 0.9735\n",
        "Multinomial TFIDF 0.9733\n"
       ]
      }
     ],
     "prompt_number": 39
    },
    {
     "cell_type": "code",
     "collapsed": false,
     "input": [],
     "language": "python",
     "metadata": {},
     "outputs": []
    }
   ],
   "metadata": {}
  }
 ]
}